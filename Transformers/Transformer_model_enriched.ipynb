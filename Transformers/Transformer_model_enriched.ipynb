{
  "nbformat": 4,
  "nbformat_minor": 0,
  "metadata": {
    "orig_nbformat": 4,
    "language_info": {
      "name": "python",
      "version": "3.8.11",
      "mimetype": "text/x-python",
      "codemirror_mode": {
        "name": "ipython",
        "version": 3
      },
      "pygments_lexer": "ipython3",
      "nbconvert_exporter": "python",
      "file_extension": ".py"
    },
    "kernelspec": {
      "name": "python3",
      "display_name": "Python 3.8.11 64-bit ('nlp': conda)"
    },
    "interpreter": {
      "hash": "f10a50ba453e9665cd1395d2fc3efc46444869c32c9e55f4e0a94563901bc1da"
    },
    "colab": {
      "name": "detection_enriched_Final.ipynb",
      "provenance": [],
      "collapsed_sections": [
        "nHUu816DbNJm",
        "2yaVxiQFbTu4"
      ]
    },
    "accelerator": "GPU"
  },
  "cells": [
    {
      "cell_type": "markdown",
      "metadata": {
        "id": "g5VI1UekT2H4"
      },
      "source": [
        "# Install huggingface transformers on google colab\n"
      ]
    },
    {
      "cell_type": "code",
      "metadata": {
        "id": "Sgh8eozV463J"
      },
      "source": [
        "!pip install transformers\n",
        "!pip install wget"
      ],
      "execution_count": null,
      "outputs": []
    },
    {
      "cell_type": "markdown",
      "metadata": {
        "id": "71wOsBIpUVTp"
      },
      "source": [
        "# Data pre-processing\n",
        "\n",
        "We first start by reading the dataset and extracting the most important features; Rating, Review, Verified Purchase, and label. We then turn the label and the verified purchase entries into numerical values."
      ]
    },
    {
      "cell_type": "code",
      "metadata": {
        "id": "OIT37rCJ4n9F"
      },
      "source": [
        "import pandas as pd\n",
        "import tensorflow as tf\n",
        "from transformers import AutoTokenizer\n",
        "from transformers import TFAutoModelForSequenceClassification\n",
        "import numpy as np\n",
        "import os\n",
        "import wget\n",
        "import shutil"
      ],
      "execution_count": 2,
      "outputs": []
    },
    {
      "cell_type": "code",
      "metadata": {
        "id": "Hc6rk_8XgJ2S"
      },
      "source": [
        "if not os.path.isfile('amazon_reviews.txt'):\n",
        "    url = 'https://drive.google.com/uc?id=1-LYI_s6oZ0OTe3I0vFYRYIBVhjFswReY&export=download' # downloads db to train\n",
        "    print('Downloading DB to train')\n",
        "    wget.download(url)\n",
        "    print('Download Completed!\\nUnzipping...')\n",
        "    shutil.unpack_archive('amazon_reviews.zip')"
      ],
      "execution_count": null,
      "outputs": []
    },
    {
      "cell_type": "code",
      "metadata": {
        "id": "qLiFHHwo4n9I"
      },
      "source": [
        "#data = pd.read_csv('/content/sample_data/amazon_reviews.txt', delimiter=\"\\t\", error_bad_lines=False)\n",
        "data = pd.read_csv('amazon_reviews.txt', delimiter=\"\\t\", error_bad_lines=False)\n",
        "\n",
        "features = ['RATING', 'REVIEW_TEXT', 'VERIFIED_PURCHASE', 'LABEL']\n",
        "\n",
        "\n",
        "data_shortened = data[features]\n",
        "\n",
        "data_shortened['VERIFIED_PURCHASE'] = data_shortened['VERIFIED_PURCHASE'].replace('N', 0)\n",
        "data_shortened['VERIFIED_PURCHASE'] = data_shortened['VERIFIED_PURCHASE'].replace('Y', 1)\n",
        "\n",
        "data_shortened['LABEL'] = data_shortened['LABEL'].replace('__label1__', 1)\n",
        "data_shortened['LABEL'] = data_shortened['LABEL'].replace('__label2__', 0)"
      ],
      "execution_count": null,
      "outputs": []
    },
    {
      "cell_type": "code",
      "metadata": {
        "colab": {
          "base_uri": "https://localhost:8080/",
          "height": 204
        },
        "id": "LqjFr9HvcK9b",
        "outputId": "ded513d9-a129-4c7b-a783-25df4dcb2390"
      },
      "source": [
        "data_shortened.head()"
      ],
      "execution_count": 4,
      "outputs": [
        {
          "output_type": "execute_result",
          "data": {
            "text/html": [
              "<div>\n",
              "<style scoped>\n",
              "    .dataframe tbody tr th:only-of-type {\n",
              "        vertical-align: middle;\n",
              "    }\n",
              "\n",
              "    .dataframe tbody tr th {\n",
              "        vertical-align: top;\n",
              "    }\n",
              "\n",
              "    .dataframe thead th {\n",
              "        text-align: right;\n",
              "    }\n",
              "</style>\n",
              "<table border=\"1\" class=\"dataframe\">\n",
              "  <thead>\n",
              "    <tr style=\"text-align: right;\">\n",
              "      <th></th>\n",
              "      <th>RATING</th>\n",
              "      <th>REVIEW_TEXT</th>\n",
              "      <th>VERIFIED_PURCHASE</th>\n",
              "      <th>LABEL</th>\n",
              "    </tr>\n",
              "  </thead>\n",
              "  <tbody>\n",
              "    <tr>\n",
              "      <th>0</th>\n",
              "      <td>4</td>\n",
              "      <td>When least you think so, this product will sav...</td>\n",
              "      <td>0</td>\n",
              "      <td>1</td>\n",
              "    </tr>\n",
              "    <tr>\n",
              "      <th>1</th>\n",
              "      <td>4</td>\n",
              "      <td>Lithium batteries are something new introduced...</td>\n",
              "      <td>1</td>\n",
              "      <td>1</td>\n",
              "    </tr>\n",
              "    <tr>\n",
              "      <th>2</th>\n",
              "      <td>3</td>\n",
              "      <td>I purchased this swing for my baby. She is 6 m...</td>\n",
              "      <td>0</td>\n",
              "      <td>1</td>\n",
              "    </tr>\n",
              "    <tr>\n",
              "      <th>3</th>\n",
              "      <td>4</td>\n",
              "      <td>I was looking for an inexpensive desk calcolat...</td>\n",
              "      <td>0</td>\n",
              "      <td>1</td>\n",
              "    </tr>\n",
              "    <tr>\n",
              "      <th>4</th>\n",
              "      <td>4</td>\n",
              "      <td>I only use it twice a week and the results are...</td>\n",
              "      <td>0</td>\n",
              "      <td>1</td>\n",
              "    </tr>\n",
              "  </tbody>\n",
              "</table>\n",
              "</div>"
            ],
            "text/plain": [
              "   RATING  ... LABEL\n",
              "0       4  ...     1\n",
              "1       4  ...     1\n",
              "2       3  ...     1\n",
              "3       4  ...     1\n",
              "4       4  ...     1\n",
              "\n",
              "[5 rows x 4 columns]"
            ]
          },
          "metadata": {
            "tags": []
          },
          "execution_count": 4
        }
      ]
    },
    {
      "cell_type": "code",
      "metadata": {
        "id": "Af8lfODRcNL_"
      },
      "source": [
        "labels = data_shortened.pop('LABEL')"
      ],
      "execution_count": 5,
      "outputs": []
    },
    {
      "cell_type": "markdown",
      "metadata": {
        "id": "-2nM8MKLU0L2"
      },
      "source": [
        "## Enriching the data\n",
        "As we have seen in the previous notebook, using just the review text as our only feature achieves a validation accuracy of only 60%. Here we enrich our data by adding suitable text based on the rating value and whether the purchase is verified or not. This is based on the results obtained by Gu et al. in which they tried different ways to combine numerical modalities with text in NLP tasks [1]\n",
        "\n",
        "[1] https://github.com/georgian-io/Multimodal-Toolkit"
      ]
    },
    {
      "cell_type": "code",
      "metadata": {
        "id": "0fPZ66E2B9NV"
      },
      "source": [
        "def enrich_data(rating, verified_purchase, review_text):\n",
        "  '''\n",
        "    This method takes in rating, verified_purchase and review_text and prepends the review_text with new information from rating and verified_purchase\n",
        "  '''\n",
        "  if rating == 1:\n",
        "    new_text = 'has a rating of one. '+ review_text\n",
        "  elif rating == 2:\n",
        "    new_text = 'has a rating of two. '+ review_text\n",
        "  elif rating == 3:\n",
        "    new_text = 'has a rating of three. '+ review_text\n",
        "  elif rating == 4:\n",
        "    new_text = 'has a rating of four. '+ review_text      \n",
        "  else:  \n",
        "    new_text = 'has a rating of five. '+ review_text\n",
        "\n",
        "  if verified_purchase == 0:\n",
        "    return 'This purchase is not verified and '+ new_text\n",
        "  else:\n",
        "    return 'This purchase is verified and '+ new_text\n",
        "\n",
        "\n",
        "data_shortened['ENRICHED_TEXT'] = data_shortened.apply(lambda x: enrich_data(x['RATING'], x['VERIFIED_PURCHASE'], x['REVIEW_TEXT']),axis=1)\n"
      ],
      "execution_count": null,
      "outputs": []
    },
    {
      "cell_type": "code",
      "metadata": {
        "id": "P3c8sQGodKf7"
      },
      "source": [
        "pd.set_option('max_rows', 99999)\n",
        "pd.set_option('max_colwidth', 400)\n",
        "pd.describe_option('max_colwidth')"
      ],
      "execution_count": null,
      "outputs": []
    },
    {
      "cell_type": "code",
      "metadata": {
        "id": "yHnaKtcxcdeb"
      },
      "source": [
        "data_verified = data_shortened[  data_shortened['VERIFIED_PURCHASE'] == 1   ]\n",
        "data_unverified = data_shortened[  data_shortened['VERIFIED_PURCHASE'] == 0   ]"
      ],
      "execution_count": 8,
      "outputs": []
    },
    {
      "cell_type": "code",
      "metadata": {
        "colab": {
          "base_uri": "https://localhost:8080/",
          "height": 391
        },
        "id": "P0_lRm_Sd9TN",
        "outputId": "7cc3e88e-1c79-4164-92d2-9bc9aa1fea9a"
      },
      "source": [
        "data_verified[[\"ENRICHED_TEXT\", \"RATING\", \"VERIFIED_PURCHASE\"]].head()"
      ],
      "execution_count": 9,
      "outputs": [
        {
          "output_type": "execute_result",
          "data": {
            "text/html": [
              "<div>\n",
              "<style scoped>\n",
              "    .dataframe tbody tr th:only-of-type {\n",
              "        vertical-align: middle;\n",
              "    }\n",
              "\n",
              "    .dataframe tbody tr th {\n",
              "        vertical-align: top;\n",
              "    }\n",
              "\n",
              "    .dataframe thead th {\n",
              "        text-align: right;\n",
              "    }\n",
              "</style>\n",
              "<table border=\"1\" class=\"dataframe\">\n",
              "  <thead>\n",
              "    <tr style=\"text-align: right;\">\n",
              "      <th></th>\n",
              "      <th>ENRICHED_TEXT</th>\n",
              "      <th>RATING</th>\n",
              "      <th>VERIFIED_PURCHASE</th>\n",
              "    </tr>\n",
              "  </thead>\n",
              "  <tbody>\n",
              "    <tr>\n",
              "      <th>1</th>\n",
              "      <td>This purchase is verified and has a rating of four. Lithium batteries are something new introduced in the market there average developing cost is relatively high but Stallion doesn't compromise on quality and provides us with the best at a low cost.&lt;br /&gt;There are so many in built technical assistants that act like a sensor in their particular forté. The battery keeps my phone charged up and i...</td>\n",
              "      <td>4</td>\n",
              "      <td>1</td>\n",
              "    </tr>\n",
              "    <tr>\n",
              "      <th>7</th>\n",
              "      <td>This purchase is verified and has a rating of four. Great vitamin C serum... I really like the oil feeling, not too sticky. I used it last week on some of my recent bug bites and it helps heal the skin faster than normal.</td>\n",
              "      <td>4</td>\n",
              "      <td>1</td>\n",
              "    </tr>\n",
              "    <tr>\n",
              "      <th>16</th>\n",
              "      <td>This purchase is verified and has a rating of four. Video quality if superb, fits just fine, looks like a real mirror (I believe they enhanced this), my only gripe is I wish they put the cameras not side by side, but one on one side, the other on the other side. I only say this because due to where the left camera is place, there is wasted recording room when you start to turn it towards the d...</td>\n",
              "      <td>4</td>\n",
              "      <td>1</td>\n",
              "    </tr>\n",
              "    <tr>\n",
              "      <th>18</th>\n",
              "      <td>This purchase is verified and has a rating of four. just to be fair, i really believe that this is a great slicer , and the idea was there, but unfortunately there are tricks when using this spiral slicer, i mean manual or something would have been helpful.&lt;br /&gt;&lt;br /&gt;I'm not saying something negative about this slicer because it does work, but however it did it took me almost a week in trying...</td>\n",
              "      <td>4</td>\n",
              "      <td>1</td>\n",
              "    </tr>\n",
              "    <tr>\n",
              "      <th>19</th>\n",
              "      <td>This purchase is verified and has a rating of four. These tablets are especially helpful if you use the Secure dental adhesive.&lt;br /&gt;I bought this stuff for my father. and he was satisfied with this.</td>\n",
              "      <td>4</td>\n",
              "      <td>1</td>\n",
              "    </tr>\n",
              "  </tbody>\n",
              "</table>\n",
              "</div>"
            ],
            "text/plain": [
              "                                                                                                                                                                                                                                                                                                                                                                                                      ENRICHED_TEXT  ...  VERIFIED_PURCHASE\n",
              "1   This purchase is verified and has a rating of four. Lithium batteries are something new introduced in the market there average developing cost is relatively high but Stallion doesn't compromise on quality and provides us with the best at a low cost.<br />There are so many in built technical assistants that act like a sensor in their particular forté. The battery keeps my phone charged up and i...  ...                  1\n",
              "7                                                                                                                                                                                     This purchase is verified and has a rating of four. Great vitamin C serum... I really like the oil feeling, not too sticky. I used it last week on some of my recent bug bites and it helps heal the skin faster than normal.  ...                  1\n",
              "16  This purchase is verified and has a rating of four. Video quality if superb, fits just fine, looks like a real mirror (I believe they enhanced this), my only gripe is I wish they put the cameras not side by side, but one on one side, the other on the other side. I only say this because due to where the left camera is place, there is wasted recording room when you start to turn it towards the d...  ...                  1\n",
              "18  This purchase is verified and has a rating of four. just to be fair, i really believe that this is a great slicer , and the idea was there, but unfortunately there are tricks when using this spiral slicer, i mean manual or something would have been helpful.<br /><br />I'm not saying something negative about this slicer because it does work, but however it did it took me almost a week in trying...  ...                  1\n",
              "19                                                                                                                                                                                                          This purchase is verified and has a rating of four. These tablets are especially helpful if you use the Secure dental adhesive.<br />I bought this stuff for my father. and he was satisfied with this.  ...                  1\n",
              "\n",
              "[5 rows x 3 columns]"
            ]
          },
          "metadata": {
            "tags": []
          },
          "execution_count": 9
        }
      ]
    },
    {
      "cell_type": "code",
      "metadata": {
        "colab": {
          "base_uri": "https://localhost:8080/",
          "height": 357
        },
        "id": "UA8ALsc9cicm",
        "outputId": "3b96b5f4-4fee-481f-a5a6-a83aae5cd975"
      },
      "source": [
        "data_unverified[[\"ENRICHED_TEXT\", \"RATING\", \"VERIFIED_PURCHASE\"]].head()"
      ],
      "execution_count": 10,
      "outputs": [
        {
          "output_type": "execute_result",
          "data": {
            "text/html": [
              "<div>\n",
              "<style scoped>\n",
              "    .dataframe tbody tr th:only-of-type {\n",
              "        vertical-align: middle;\n",
              "    }\n",
              "\n",
              "    .dataframe tbody tr th {\n",
              "        vertical-align: top;\n",
              "    }\n",
              "\n",
              "    .dataframe thead th {\n",
              "        text-align: right;\n",
              "    }\n",
              "</style>\n",
              "<table border=\"1\" class=\"dataframe\">\n",
              "  <thead>\n",
              "    <tr style=\"text-align: right;\">\n",
              "      <th></th>\n",
              "      <th>ENRICHED_TEXT</th>\n",
              "      <th>RATING</th>\n",
              "      <th>VERIFIED_PURCHASE</th>\n",
              "    </tr>\n",
              "  </thead>\n",
              "  <tbody>\n",
              "    <tr>\n",
              "      <th>0</th>\n",
              "      <td>This purchase is not verified and has a rating of four. When least you think so, this product will save the day. Just keep it around just in case you need it for something.</td>\n",
              "      <td>4</td>\n",
              "      <td>0</td>\n",
              "    </tr>\n",
              "    <tr>\n",
              "      <th>2</th>\n",
              "      <td>This purchase is not verified and has a rating of three. I purchased this swing for my baby. She is 6 months now and has pretty much out grown it. It is very loud and doesn't swing very well. It is beautiful though. I love the colors and it has a lot of settings, but I don't think it was worth the money.</td>\n",
              "      <td>3</td>\n",
              "      <td>0</td>\n",
              "    </tr>\n",
              "    <tr>\n",
              "      <th>3</th>\n",
              "      <td>This purchase is not verified and has a rating of four. I was looking for an inexpensive desk calcolatur and here it is. It works and does everything I need. Only issue is that it tilts slightly to one side so when I hit any keys it rocks a little bit. Not a big deal.</td>\n",
              "      <td>4</td>\n",
              "      <td>0</td>\n",
              "    </tr>\n",
              "    <tr>\n",
              "      <th>4</th>\n",
              "      <td>This purchase is not verified and has a rating of four. I only use it twice a week and the results are great. I have used other teeth whitening solutions and most of them, for the same results I would have to use it at least three times a week. Will keep using this because of the potency of the solution and also the technique of the trays, it keeps everything in my teeth, in my mouth.</td>\n",
              "      <td>4</td>\n",
              "      <td>0</td>\n",
              "    </tr>\n",
              "    <tr>\n",
              "      <th>5</th>\n",
              "      <td>This purchase is not verified and has a rating of three. I'm not sure what this is supposed to be but I would recommend that you do a little more research into the culture of using pipes if you plan on giving this as a gift or using it yourself.</td>\n",
              "      <td>3</td>\n",
              "      <td>0</td>\n",
              "    </tr>\n",
              "  </tbody>\n",
              "</table>\n",
              "</div>"
            ],
            "text/plain": [
              "                                                                                                                                                                                                                                                                                                                                                                                         ENRICHED_TEXT  ...  VERIFIED_PURCHASE\n",
              "0                                                                                                                                                                                                                         This purchase is not verified and has a rating of four. When least you think so, this product will save the day. Just keep it around just in case you need it for something.  ...                  0\n",
              "2                                                                                    This purchase is not verified and has a rating of three. I purchased this swing for my baby. She is 6 months now and has pretty much out grown it. It is very loud and doesn't swing very well. It is beautiful though. I love the colors and it has a lot of settings, but I don't think it was worth the money.  ...                  0\n",
              "3                                                                                                                         This purchase is not verified and has a rating of four. I was looking for an inexpensive desk calcolatur and here it is. It works and does everything I need. Only issue is that it tilts slightly to one side so when I hit any keys it rocks a little bit. Not a big deal.  ...                  0\n",
              "4  This purchase is not verified and has a rating of four. I only use it twice a week and the results are great. I have used other teeth whitening solutions and most of them, for the same results I would have to use it at least three times a week. Will keep using this because of the potency of the solution and also the technique of the trays, it keeps everything in my teeth, in my mouth.  ...                  0\n",
              "5                                                                                                                                                This purchase is not verified and has a rating of three. I'm not sure what this is supposed to be but I would recommend that you do a little more research into the culture of using pipes if you plan on giving this as a gift or using it yourself.  ...                  0\n",
              "\n",
              "[5 rows x 3 columns]"
            ]
          },
          "metadata": {
            "tags": []
          },
          "execution_count": 10
        }
      ]
    },
    {
      "cell_type": "markdown",
      "metadata": {
        "id": "5ck0kuhnYuya"
      },
      "source": [
        "## Train-Validation Split\n",
        "We then convert our dataframe into numpy to shuffle the data and split it into train-valid set. We use 80% of the data for training and 20% for validation. In case we are limited in our computing power, we use a subset of the data."
      ]
    },
    {
      "cell_type": "code",
      "metadata": {
        "id": "fMxLSC0C4n9K"
      },
      "source": [
        "# Converting dataframe to numpy for shuffling and splitting into training-validation set\n",
        "reviews_array = data_shortened[\"ENRICHED_TEXT\"].to_numpy(dtype=object)\n",
        "labels_array = labels.to_numpy(dtype=np.int32)\n",
        "\n",
        "#Shuffling the dataset\n",
        "data_length = len(reviews_array)\n",
        "idx = np.random.permutation(data_length)\n",
        "shuffled_reviews_array = reviews_array[idx]\n",
        "shuffled_labels_array = labels_array[idx]\n",
        "\n",
        "# Train-test split\n",
        "train_ratio = 0.8\n",
        "train_data_len = int( train_ratio * data_length )\n",
        "\n",
        "train_reviews_array = shuffled_reviews_array[:train_data_len]\n",
        "train_labels_array = shuffled_labels_array[:train_data_len]\n",
        "\n",
        "test_reviews_array = shuffled_reviews_array[train_data_len:]\n",
        "test_labels_array = shuffled_labels_array[train_data_len:]\n",
        "\n",
        "\n",
        "\n",
        "train_reviews = train_reviews_array.tolist()\n",
        "test_reviews = test_reviews_array.tolist()\n",
        "\n",
        "#! If we have limited computation power, we can just train on a smaller subset of the data\n",
        "training_size = 50\n",
        "train_reviews_small = train_reviews[0:training_size]\n",
        "train_labels_array_small = train_labels_array[0:training_size]\n",
        "test_reviews_small = test_reviews[0:training_size]\n",
        "test_labels_array_small = test_labels_array[0:training_size]\n",
        "\n"
      ],
      "execution_count": 11,
      "outputs": []
    },
    {
      "cell_type": "markdown",
      "metadata": {
        "id": "_KhcA7S5ZGP7"
      },
      "source": [
        "## Tokenization\n",
        "We tokenize the data using the tokenizer for the Language model we are going to use. In our tests we used bert originally but then used the smaller version of distilbert-uncased for computational efficiency.\n",
        "\n",
        "We pad the data to have the maximum possible length that the model can accept. "
      ]
    },
    {
      "cell_type": "code",
      "metadata": {
        "id": "Dk1035SBZDl9"
      },
      "source": [
        "# Tokenizing the reviews into the input type our model is expecting, we padd the input to be the maximum length our model can take\n",
        "\n",
        "model_name = 'distilbert-base-uncased' # or bert-base-cased\n",
        "tokenizer = AutoTokenizer.from_pretrained(model_name)\n",
        "\n",
        "train_tokenized_df = tokenizer(train_reviews, padding=\"max_length\", truncation=True)\n",
        "test_tokenized_df = tokenizer(test_reviews, padding=\"max_length\", truncation=True)\n"
      ],
      "execution_count": null,
      "outputs": []
    },
    {
      "cell_type": "code",
      "metadata": {
        "id": "deFHhJmBeizW",
        "colab": {
          "base_uri": "https://localhost:8080/"
        },
        "outputId": "a44233a6-020e-4d19-ce3f-62bc04b3407c"
      },
      "source": [
        "print(train_tokenized_df.keys())\n",
        "embedding_len = len(train_tokenized_df['input_ids'][0])\n",
        "embeddings_input = train_tokenized_df['input_ids'][0]\n",
        "attention_input = train_tokenized_df['attention_mask'][0]\n",
        "print(f'Embedding length: {embedding_len}')\n",
        "print(f'Embeddings input: {embeddings_input}')\n",
        "print(f'Attention input: {attention_input}')"
      ],
      "execution_count": 23,
      "outputs": [
        {
          "output_type": "stream",
          "text": [
            "dict_keys(['input_ids', 'attention_mask'])\n",
            "Embedding length: 512\n",
            "Embeddings input: [101, 2023, 5309, 2003, 2025, 20119, 1998, 2038, 1037, 5790, 1997, 2176, 1012, 2023, 12109, 4966, 2447, 2038, 1037, 3376, 3861, 1010, 6581, 2614, 3737, 1006, 1045, 2109, 4540, 19093, 1007, 1010, 2003, 2200, 3733, 2000, 5452, 1998, 2038, 2035, 1996, 2838, 1045, 2359, 1012, 102, 0, 0, 0, 0, 0, 0, 0, 0, 0, 0, 0, 0, 0, 0, 0, 0, 0, 0, 0, 0, 0, 0, 0, 0, 0, 0, 0, 0, 0, 0, 0, 0, 0, 0, 0, 0, 0, 0, 0, 0, 0, 0, 0, 0, 0, 0, 0, 0, 0, 0, 0, 0, 0, 0, 0, 0, 0, 0, 0, 0, 0, 0, 0, 0, 0, 0, 0, 0, 0, 0, 0, 0, 0, 0, 0, 0, 0, 0, 0, 0, 0, 0, 0, 0, 0, 0, 0, 0, 0, 0, 0, 0, 0, 0, 0, 0, 0, 0, 0, 0, 0, 0, 0, 0, 0, 0, 0, 0, 0, 0, 0, 0, 0, 0, 0, 0, 0, 0, 0, 0, 0, 0, 0, 0, 0, 0, 0, 0, 0, 0, 0, 0, 0, 0, 0, 0, 0, 0, 0, 0, 0, 0, 0, 0, 0, 0, 0, 0, 0, 0, 0, 0, 0, 0, 0, 0, 0, 0, 0, 0, 0, 0, 0, 0, 0, 0, 0, 0, 0, 0, 0, 0, 0, 0, 0, 0, 0, 0, 0, 0, 0, 0, 0, 0, 0, 0, 0, 0, 0, 0, 0, 0, 0, 0, 0, 0, 0, 0, 0, 0, 0, 0, 0, 0, 0, 0, 0, 0, 0, 0, 0, 0, 0, 0, 0, 0, 0, 0, 0, 0, 0, 0, 0, 0, 0, 0, 0, 0, 0, 0, 0, 0, 0, 0, 0, 0, 0, 0, 0, 0, 0, 0, 0, 0, 0, 0, 0, 0, 0, 0, 0, 0, 0, 0, 0, 0, 0, 0, 0, 0, 0, 0, 0, 0, 0, 0, 0, 0, 0, 0, 0, 0, 0, 0, 0, 0, 0, 0, 0, 0, 0, 0, 0, 0, 0, 0, 0, 0, 0, 0, 0, 0, 0, 0, 0, 0, 0, 0, 0, 0, 0, 0, 0, 0, 0, 0, 0, 0, 0, 0, 0, 0, 0, 0, 0, 0, 0, 0, 0, 0, 0, 0, 0, 0, 0, 0, 0, 0, 0, 0, 0, 0, 0, 0, 0, 0, 0, 0, 0, 0, 0, 0, 0, 0, 0, 0, 0, 0, 0, 0, 0, 0, 0, 0, 0, 0, 0, 0, 0, 0, 0, 0, 0, 0, 0, 0, 0, 0, 0, 0, 0, 0, 0, 0, 0, 0, 0, 0, 0, 0, 0, 0, 0, 0, 0, 0, 0, 0, 0, 0, 0, 0, 0, 0, 0, 0, 0, 0, 0, 0, 0, 0, 0, 0, 0, 0, 0, 0, 0, 0, 0, 0, 0, 0, 0, 0, 0, 0, 0, 0, 0, 0, 0, 0, 0, 0, 0, 0, 0, 0, 0, 0, 0, 0, 0, 0, 0, 0, 0, 0, 0, 0, 0, 0, 0, 0, 0, 0, 0, 0, 0, 0, 0, 0, 0, 0, 0, 0, 0, 0, 0, 0, 0, 0, 0, 0]\n",
            "Attention input: [1, 1, 1, 1, 1, 1, 1, 1, 1, 1, 1, 1, 1, 1, 1, 1, 1, 1, 1, 1, 1, 1, 1, 1, 1, 1, 1, 1, 1, 1, 1, 1, 1, 1, 1, 1, 1, 1, 1, 1, 1, 1, 1, 1, 1, 1, 0, 0, 0, 0, 0, 0, 0, 0, 0, 0, 0, 0, 0, 0, 0, 0, 0, 0, 0, 0, 0, 0, 0, 0, 0, 0, 0, 0, 0, 0, 0, 0, 0, 0, 0, 0, 0, 0, 0, 0, 0, 0, 0, 0, 0, 0, 0, 0, 0, 0, 0, 0, 0, 0, 0, 0, 0, 0, 0, 0, 0, 0, 0, 0, 0, 0, 0, 0, 0, 0, 0, 0, 0, 0, 0, 0, 0, 0, 0, 0, 0, 0, 0, 0, 0, 0, 0, 0, 0, 0, 0, 0, 0, 0, 0, 0, 0, 0, 0, 0, 0, 0, 0, 0, 0, 0, 0, 0, 0, 0, 0, 0, 0, 0, 0, 0, 0, 0, 0, 0, 0, 0, 0, 0, 0, 0, 0, 0, 0, 0, 0, 0, 0, 0, 0, 0, 0, 0, 0, 0, 0, 0, 0, 0, 0, 0, 0, 0, 0, 0, 0, 0, 0, 0, 0, 0, 0, 0, 0, 0, 0, 0, 0, 0, 0, 0, 0, 0, 0, 0, 0, 0, 0, 0, 0, 0, 0, 0, 0, 0, 0, 0, 0, 0, 0, 0, 0, 0, 0, 0, 0, 0, 0, 0, 0, 0, 0, 0, 0, 0, 0, 0, 0, 0, 0, 0, 0, 0, 0, 0, 0, 0, 0, 0, 0, 0, 0, 0, 0, 0, 0, 0, 0, 0, 0, 0, 0, 0, 0, 0, 0, 0, 0, 0, 0, 0, 0, 0, 0, 0, 0, 0, 0, 0, 0, 0, 0, 0, 0, 0, 0, 0, 0, 0, 0, 0, 0, 0, 0, 0, 0, 0, 0, 0, 0, 0, 0, 0, 0, 0, 0, 0, 0, 0, 0, 0, 0, 0, 0, 0, 0, 0, 0, 0, 0, 0, 0, 0, 0, 0, 0, 0, 0, 0, 0, 0, 0, 0, 0, 0, 0, 0, 0, 0, 0, 0, 0, 0, 0, 0, 0, 0, 0, 0, 0, 0, 0, 0, 0, 0, 0, 0, 0, 0, 0, 0, 0, 0, 0, 0, 0, 0, 0, 0, 0, 0, 0, 0, 0, 0, 0, 0, 0, 0, 0, 0, 0, 0, 0, 0, 0, 0, 0, 0, 0, 0, 0, 0, 0, 0, 0, 0, 0, 0, 0, 0, 0, 0, 0, 0, 0, 0, 0, 0, 0, 0, 0, 0, 0, 0, 0, 0, 0, 0, 0, 0, 0, 0, 0, 0, 0, 0, 0, 0, 0, 0, 0, 0, 0, 0, 0, 0, 0, 0, 0, 0, 0, 0, 0, 0, 0, 0, 0, 0, 0, 0, 0, 0, 0, 0, 0, 0, 0, 0, 0, 0, 0, 0, 0, 0, 0, 0, 0, 0, 0, 0, 0, 0, 0, 0, 0, 0, 0, 0, 0, 0, 0, 0, 0, 0, 0, 0, 0, 0, 0, 0, 0, 0, 0, 0, 0, 0, 0, 0, 0, 0]\n"
          ],
          "name": "stdout"
        }
      ]
    },
    {
      "cell_type": "code",
      "metadata": {
        "colab": {
          "base_uri": "https://localhost:8080/"
        },
        "id": "TETQFSHQ4n9L",
        "outputId": "94f77799-bea5-4948-9688-0c8caac731fd"
      },
      "source": [
        "\n",
        "#Create the input dictionary for the model\n",
        "train_features = {x: tf.convert_to_tensor(train_tokenized_df[x]) for x in tokenizer.model_input_names}\n",
        "test_features = {x: tf.convert_to_tensor(test_tokenized_df[x]) for x in tokenizer.model_input_names} \n",
        "\n",
        "#The dataset now is a tuple of dictionary containing inpud_ids, (token_type_ids), attention masks        and  a tf tensor containing the value for the label\n",
        "train_tf_dataset = tf.data.Dataset.from_tensor_slices((train_features, train_labels_array))\n",
        "#We train on batch size of 16\n",
        "train_tf_dataset = train_tf_dataset.shuffle(train_data_len).batch(16)\n",
        "\n",
        "test_tf_dataset = tf.data.Dataset.from_tensor_slices((test_features, test_labels_array))\n",
        "test_tf_dataset = test_tf_dataset.batch(16)\n",
        "\n",
        "print(train_tf_dataset)"
      ],
      "execution_count": 25,
      "outputs": [
        {
          "output_type": "stream",
          "text": [
            "<BatchDataset shapes: ({input_ids: (None, 512), attention_mask: (None, 512)}, (None,)), types: ({input_ids: tf.int32, attention_mask: tf.int32}, tf.int32)>\n"
          ],
          "name": "stdout"
        }
      ]
    },
    {
      "cell_type": "markdown",
      "metadata": {
        "id": "RTijEI58aJFS"
      },
      "source": [
        "# Training the model\n",
        "We then load our base model from the huggingface collection. We set suitable callbacks to ensure we do not overfit the data through early stopping if the validation loss is not improving anymore. We also save only the best weights that give us the best validation accuracy.\n",
        "\n",
        "Since our labels are not one-hot-encoded, we use Sparse Categorical Loss."
      ]
    },
    {
      "cell_type": "code",
      "metadata": {
        "colab": {
          "base_uri": "https://localhost:8080/"
        },
        "id": "kbQ6oWsx4n9M",
        "outputId": "ed704811-6f05-4ead-d64f-e03cd70b3a29"
      },
      "source": [
        "import tensorflow.keras as keras\n",
        "\n",
        "model = TFAutoModelForSequenceClassification.from_pretrained(model_name, num_labels=2)\n",
        "\n",
        "# callbacks to ensure Early Stopping of the model before over-fitting if accuracy is not improving and saving best weights\n",
        "callbacks = [\n",
        "    keras.callbacks.EarlyStopping(monitor='val_loss', patience=1,\n",
        "                                    verbose=1, mode=\"min\", restore_best_weights=True),\n",
        "        keras.callbacks.ModelCheckpoint(filepath=\"transformer_model/model_distillbert_total\", verbose=1, save_best_only=True)\n",
        "    ]\n",
        "\n",
        "model.compile(\n",
        "    optimizer=tf.keras.optimizers.Adam(learning_rate=5e-5),\n",
        "    loss=tf.keras.losses.SparseCategoricalCrossentropy(from_logits=True),\n",
        "    metrics=tf.metrics.SparseCategoricalAccuracy(),\n",
        "    \n",
        ")\n",
        "\n",
        "model.fit(train_tf_dataset, validation_data=test_tf_dataset, epochs=10, verbose=1, callbacks = callbacks)\n",
        "\n",
        "model.save_pretrained(\"transformer_model\")"
      ],
      "execution_count": 28,
      "outputs": [
        {
          "output_type": "stream",
          "text": [
            "Some layers from the model checkpoint at distilbert-base-uncased were not used when initializing TFDistilBertForSequenceClassification: ['vocab_layer_norm', 'vocab_projector', 'activation_13', 'vocab_transform']\n",
            "- This IS expected if you are initializing TFDistilBertForSequenceClassification from the checkpoint of a model trained on another task or with another architecture (e.g. initializing a BertForSequenceClassification model from a BertForPreTraining model).\n",
            "- This IS NOT expected if you are initializing TFDistilBertForSequenceClassification from the checkpoint of a model that you expect to be exactly identical (initializing a BertForSequenceClassification model from a BertForSequenceClassification model).\n",
            "Some layers of TFDistilBertForSequenceClassification were not initialized from the model checkpoint at distilbert-base-uncased and are newly initialized: ['dropout_59', 'classifier', 'pre_classifier']\n",
            "You should probably TRAIN this model on a down-stream task to be able to use it for predictions and inference.\n"
          ],
          "name": "stderr"
        },
        {
          "output_type": "stream",
          "text": [
            "Epoch 1/10\n",
            "WARNING:tensorflow:The parameters `output_attentions`, `output_hidden_states` and `use_cache` cannot be updated when calling a model.They have to be set to True/False in the config object (i.e.: `config=XConfig.from_pretrained('name', output_attentions=True)`).\n"
          ],
          "name": "stdout"
        },
        {
          "output_type": "stream",
          "text": [
            "WARNING:tensorflow:The parameters `output_attentions`, `output_hidden_states` and `use_cache` cannot be updated when calling a model.They have to be set to True/False in the config object (i.e.: `config=XConfig.from_pretrained('name', output_attentions=True)`).\n"
          ],
          "name": "stderr"
        },
        {
          "output_type": "stream",
          "text": [
            "WARNING:tensorflow:The parameter `return_dict` cannot be set in graph mode and will always be set to `True`.\n"
          ],
          "name": "stdout"
        },
        {
          "output_type": "stream",
          "text": [
            "WARNING:tensorflow:The parameter `return_dict` cannot be set in graph mode and will always be set to `True`.\n"
          ],
          "name": "stderr"
        },
        {
          "output_type": "stream",
          "text": [
            "WARNING:tensorflow:The parameters `output_attentions`, `output_hidden_states` and `use_cache` cannot be updated when calling a model.They have to be set to True/False in the config object (i.e.: `config=XConfig.from_pretrained('name', output_attentions=True)`).\n"
          ],
          "name": "stdout"
        },
        {
          "output_type": "stream",
          "text": [
            "WARNING:tensorflow:The parameters `output_attentions`, `output_hidden_states` and `use_cache` cannot be updated when calling a model.They have to be set to True/False in the config object (i.e.: `config=XConfig.from_pretrained('name', output_attentions=True)`).\n"
          ],
          "name": "stderr"
        },
        {
          "output_type": "stream",
          "text": [
            "WARNING:tensorflow:The parameter `return_dict` cannot be set in graph mode and will always be set to `True`.\n"
          ],
          "name": "stdout"
        },
        {
          "output_type": "stream",
          "text": [
            "WARNING:tensorflow:The parameter `return_dict` cannot be set in graph mode and will always be set to `True`.\n"
          ],
          "name": "stderr"
        },
        {
          "output_type": "stream",
          "text": [
            "1050/1050 [==============================] - ETA: 0s - loss: 0.4577 - sparse_categorical_accuracy: 0.7992WARNING:tensorflow:The parameters `output_attentions`, `output_hidden_states` and `use_cache` cannot be updated when calling a model.They have to be set to True/False in the config object (i.e.: `config=XConfig.from_pretrained('name', output_attentions=True)`).\n"
          ],
          "name": "stdout"
        },
        {
          "output_type": "stream",
          "text": [
            "WARNING:tensorflow:The parameters `output_attentions`, `output_hidden_states` and `use_cache` cannot be updated when calling a model.They have to be set to True/False in the config object (i.e.: `config=XConfig.from_pretrained('name', output_attentions=True)`).\n"
          ],
          "name": "stderr"
        },
        {
          "output_type": "stream",
          "text": [
            "WARNING:tensorflow:The parameter `return_dict` cannot be set in graph mode and will always be set to `True`.\n"
          ],
          "name": "stdout"
        },
        {
          "output_type": "stream",
          "text": [
            "WARNING:tensorflow:The parameter `return_dict` cannot be set in graph mode and will always be set to `True`.\n"
          ],
          "name": "stderr"
        },
        {
          "output_type": "stream",
          "text": [
            "\b\b\b\b\b\b\b\b\b\b\b\b\b\b\b\b\b\b\b\b\b\b\b\b\b\b\b\b\b\b\b\b\b\b\b\b\b\b\b\b\b\b\b\b\b\b\b\b\b\b\b\b\b\b\b\b\b\b\b\b\b\b\b\b\b\b\b\b\b\b\b\b\b\b\b\b\b\b\b\b\b\b\b\b\b\b\b\b\b\b\b\b\b\b\b\b\b\b\b\b\b\b\b\b\b\r1050/1050 [==============================] - 624s 586ms/step - loss: 0.4577 - sparse_categorical_accuracy: 0.7992 - val_loss: 0.4145 - val_sparse_categorical_accuracy: 0.8257\n",
            "\n",
            "Epoch 00001: val_loss improved from inf to 0.41446, saving model to transformer_model/model_distillbert_total\n",
            "WARNING:tensorflow:The parameters `output_attentions`, `output_hidden_states` and `use_cache` cannot be updated when calling a model.They have to be set to True/False in the config object (i.e.: `config=XConfig.from_pretrained('name', output_attentions=True)`).\n"
          ],
          "name": "stdout"
        },
        {
          "output_type": "stream",
          "text": [
            "WARNING:tensorflow:The parameters `output_attentions`, `output_hidden_states` and `use_cache` cannot be updated when calling a model.They have to be set to True/False in the config object (i.e.: `config=XConfig.from_pretrained('name', output_attentions=True)`).\n"
          ],
          "name": "stderr"
        },
        {
          "output_type": "stream",
          "text": [
            "WARNING:tensorflow:The parameter `return_dict` cannot be set in graph mode and will always be set to `True`.\n"
          ],
          "name": "stdout"
        },
        {
          "output_type": "stream",
          "text": [
            "WARNING:tensorflow:The parameter `return_dict` cannot be set in graph mode and will always be set to `True`.\n"
          ],
          "name": "stderr"
        },
        {
          "output_type": "stream",
          "text": [
            "WARNING:tensorflow:Skipping full serialization of Keras layer <tensorflow.python.keras.layers.core.Dropout object at 0x7f9be8482d10>, because it is not built.\n"
          ],
          "name": "stdout"
        },
        {
          "output_type": "stream",
          "text": [
            "WARNING:tensorflow:Skipping full serialization of Keras layer <tensorflow.python.keras.layers.core.Dropout object at 0x7f9be8482d10>, because it is not built.\n"
          ],
          "name": "stderr"
        },
        {
          "output_type": "stream",
          "text": [
            "WARNING:tensorflow:Skipping full serialization of Keras layer <tensorflow.python.keras.layers.core.Dropout object at 0x7f9be84c7710>, because it is not built.\n"
          ],
          "name": "stdout"
        },
        {
          "output_type": "stream",
          "text": [
            "WARNING:tensorflow:Skipping full serialization of Keras layer <tensorflow.python.keras.layers.core.Dropout object at 0x7f9be84c7710>, because it is not built.\n"
          ],
          "name": "stderr"
        },
        {
          "output_type": "stream",
          "text": [
            "WARNING:tensorflow:Skipping full serialization of Keras layer <tensorflow.python.keras.layers.core.Dropout object at 0x7f9be84fdf50>, because it is not built.\n"
          ],
          "name": "stdout"
        },
        {
          "output_type": "stream",
          "text": [
            "WARNING:tensorflow:Skipping full serialization of Keras layer <tensorflow.python.keras.layers.core.Dropout object at 0x7f9be84fdf50>, because it is not built.\n"
          ],
          "name": "stderr"
        },
        {
          "output_type": "stream",
          "text": [
            "WARNING:tensorflow:Skipping full serialization of Keras layer <tensorflow.python.keras.layers.core.Dropout object at 0x7f9be83dd9d0>, because it is not built.\n"
          ],
          "name": "stdout"
        },
        {
          "output_type": "stream",
          "text": [
            "WARNING:tensorflow:Skipping full serialization of Keras layer <tensorflow.python.keras.layers.core.Dropout object at 0x7f9be83dd9d0>, because it is not built.\n"
          ],
          "name": "stderr"
        },
        {
          "output_type": "stream",
          "text": [
            "WARNING:tensorflow:Skipping full serialization of Keras layer <tensorflow.python.keras.layers.core.Dropout object at 0x7f9be8387b50>, because it is not built.\n"
          ],
          "name": "stdout"
        },
        {
          "output_type": "stream",
          "text": [
            "WARNING:tensorflow:Skipping full serialization of Keras layer <tensorflow.python.keras.layers.core.Dropout object at 0x7f9be8387b50>, because it is not built.\n"
          ],
          "name": "stderr"
        },
        {
          "output_type": "stream",
          "text": [
            "WARNING:tensorflow:Skipping full serialization of Keras layer <tensorflow.python.keras.layers.core.Dropout object at 0x7f9be8385790>, because it is not built.\n"
          ],
          "name": "stdout"
        },
        {
          "output_type": "stream",
          "text": [
            "WARNING:tensorflow:Skipping full serialization of Keras layer <tensorflow.python.keras.layers.core.Dropout object at 0x7f9be8385790>, because it is not built.\n"
          ],
          "name": "stderr"
        },
        {
          "output_type": "stream",
          "text": [
            "WARNING:tensorflow:The parameters `output_attentions`, `output_hidden_states` and `use_cache` cannot be updated when calling a model.They have to be set to True/False in the config object (i.e.: `config=XConfig.from_pretrained('name', output_attentions=True)`).\n"
          ],
          "name": "stdout"
        },
        {
          "output_type": "stream",
          "text": [
            "WARNING:tensorflow:The parameters `output_attentions`, `output_hidden_states` and `use_cache` cannot be updated when calling a model.They have to be set to True/False in the config object (i.e.: `config=XConfig.from_pretrained('name', output_attentions=True)`).\n"
          ],
          "name": "stderr"
        },
        {
          "output_type": "stream",
          "text": [
            "WARNING:tensorflow:The parameter `return_dict` cannot be set in graph mode and will always be set to `True`.\n"
          ],
          "name": "stdout"
        },
        {
          "output_type": "stream",
          "text": [
            "WARNING:tensorflow:The parameter `return_dict` cannot be set in graph mode and will always be set to `True`.\n"
          ],
          "name": "stderr"
        },
        {
          "output_type": "stream",
          "text": [
            "WARNING:tensorflow:The parameters `output_attentions`, `output_hidden_states` and `use_cache` cannot be updated when calling a model.They have to be set to True/False in the config object (i.e.: `config=XConfig.from_pretrained('name', output_attentions=True)`).\n"
          ],
          "name": "stdout"
        },
        {
          "output_type": "stream",
          "text": [
            "WARNING:tensorflow:The parameters `output_attentions`, `output_hidden_states` and `use_cache` cannot be updated when calling a model.They have to be set to True/False in the config object (i.e.: `config=XConfig.from_pretrained('name', output_attentions=True)`).\n"
          ],
          "name": "stderr"
        },
        {
          "output_type": "stream",
          "text": [
            "WARNING:tensorflow:The parameter `return_dict` cannot be set in graph mode and will always be set to `True`.\n"
          ],
          "name": "stdout"
        },
        {
          "output_type": "stream",
          "text": [
            "WARNING:tensorflow:The parameter `return_dict` cannot be set in graph mode and will always be set to `True`.\n"
          ],
          "name": "stderr"
        },
        {
          "output_type": "stream",
          "text": [
            "WARNING:tensorflow:The parameters `output_attentions`, `output_hidden_states` and `use_cache` cannot be updated when calling a model.They have to be set to True/False in the config object (i.e.: `config=XConfig.from_pretrained('name', output_attentions=True)`).\n"
          ],
          "name": "stdout"
        },
        {
          "output_type": "stream",
          "text": [
            "WARNING:tensorflow:The parameters `output_attentions`, `output_hidden_states` and `use_cache` cannot be updated when calling a model.They have to be set to True/False in the config object (i.e.: `config=XConfig.from_pretrained('name', output_attentions=True)`).\n"
          ],
          "name": "stderr"
        },
        {
          "output_type": "stream",
          "text": [
            "WARNING:tensorflow:The parameter `return_dict` cannot be set in graph mode and will always be set to `True`.\n"
          ],
          "name": "stdout"
        },
        {
          "output_type": "stream",
          "text": [
            "WARNING:tensorflow:The parameter `return_dict` cannot be set in graph mode and will always be set to `True`.\n"
          ],
          "name": "stderr"
        },
        {
          "output_type": "stream",
          "text": [
            "WARNING:tensorflow:The parameters `output_attentions`, `output_hidden_states` and `use_cache` cannot be updated when calling a model.They have to be set to True/False in the config object (i.e.: `config=XConfig.from_pretrained('name', output_attentions=True)`).\n"
          ],
          "name": "stdout"
        },
        {
          "output_type": "stream",
          "text": [
            "WARNING:tensorflow:The parameters `output_attentions`, `output_hidden_states` and `use_cache` cannot be updated when calling a model.They have to be set to True/False in the config object (i.e.: `config=XConfig.from_pretrained('name', output_attentions=True)`).\n"
          ],
          "name": "stderr"
        },
        {
          "output_type": "stream",
          "text": [
            "WARNING:tensorflow:The parameter `return_dict` cannot be set in graph mode and will always be set to `True`.\n"
          ],
          "name": "stdout"
        },
        {
          "output_type": "stream",
          "text": [
            "WARNING:tensorflow:The parameter `return_dict` cannot be set in graph mode and will always be set to `True`.\n"
          ],
          "name": "stderr"
        },
        {
          "output_type": "stream",
          "text": [
            "WARNING:tensorflow:The parameters `output_attentions`, `output_hidden_states` and `use_cache` cannot be updated when calling a model.They have to be set to True/False in the config object (i.e.: `config=XConfig.from_pretrained('name', output_attentions=True)`).\n"
          ],
          "name": "stdout"
        },
        {
          "output_type": "stream",
          "text": [
            "WARNING:tensorflow:The parameters `output_attentions`, `output_hidden_states` and `use_cache` cannot be updated when calling a model.They have to be set to True/False in the config object (i.e.: `config=XConfig.from_pretrained('name', output_attentions=True)`).\n"
          ],
          "name": "stderr"
        },
        {
          "output_type": "stream",
          "text": [
            "WARNING:tensorflow:The parameter `return_dict` cannot be set in graph mode and will always be set to `True`.\n"
          ],
          "name": "stdout"
        },
        {
          "output_type": "stream",
          "text": [
            "WARNING:tensorflow:The parameter `return_dict` cannot be set in graph mode and will always be set to `True`.\n"
          ],
          "name": "stderr"
        },
        {
          "output_type": "stream",
          "text": [
            "WARNING:tensorflow:The parameters `output_attentions`, `output_hidden_states` and `use_cache` cannot be updated when calling a model.They have to be set to True/False in the config object (i.e.: `config=XConfig.from_pretrained('name', output_attentions=True)`).\n"
          ],
          "name": "stdout"
        },
        {
          "output_type": "stream",
          "text": [
            "WARNING:tensorflow:The parameters `output_attentions`, `output_hidden_states` and `use_cache` cannot be updated when calling a model.They have to be set to True/False in the config object (i.e.: `config=XConfig.from_pretrained('name', output_attentions=True)`).\n"
          ],
          "name": "stderr"
        },
        {
          "output_type": "stream",
          "text": [
            "WARNING:tensorflow:The parameter `return_dict` cannot be set in graph mode and will always be set to `True`.\n"
          ],
          "name": "stdout"
        },
        {
          "output_type": "stream",
          "text": [
            "WARNING:tensorflow:The parameter `return_dict` cannot be set in graph mode and will always be set to `True`.\n"
          ],
          "name": "stderr"
        },
        {
          "output_type": "stream",
          "text": [
            "WARNING:tensorflow:The parameters `output_attentions`, `output_hidden_states` and `use_cache` cannot be updated when calling a model.They have to be set to True/False in the config object (i.e.: `config=XConfig.from_pretrained('name', output_attentions=True)`).\n"
          ],
          "name": "stdout"
        },
        {
          "output_type": "stream",
          "text": [
            "WARNING:tensorflow:The parameters `output_attentions`, `output_hidden_states` and `use_cache` cannot be updated when calling a model.They have to be set to True/False in the config object (i.e.: `config=XConfig.from_pretrained('name', output_attentions=True)`).\n"
          ],
          "name": "stderr"
        },
        {
          "output_type": "stream",
          "text": [
            "WARNING:tensorflow:The parameter `return_dict` cannot be set in graph mode and will always be set to `True`.\n"
          ],
          "name": "stdout"
        },
        {
          "output_type": "stream",
          "text": [
            "WARNING:tensorflow:The parameter `return_dict` cannot be set in graph mode and will always be set to `True`.\n",
            "WARNING:absl:Found untraced functions such as embeddings_layer_call_and_return_conditional_losses, embeddings_layer_call_fn, transformer_layer_call_and_return_conditional_losses, transformer_layer_call_fn, add_2_layer_call_and_return_conditional_losses while saving (showing 5 of 415). These functions will not be directly callable after loading.\n",
            "/usr/local/lib/python3.7/dist-packages/tensorflow/python/keras/utils/generic_utils.py:497: CustomMaskWarning: Custom mask layers require a config and must override get_config. When loading, the custom mask layer must be passed to the custom_objects argument.\n",
            "  category=CustomMaskWarning)\n"
          ],
          "name": "stderr"
        },
        {
          "output_type": "stream",
          "text": [
            "INFO:tensorflow:Assets written to: transformer_model/model_distillbert_total/assets\n"
          ],
          "name": "stdout"
        },
        {
          "output_type": "stream",
          "text": [
            "INFO:tensorflow:Assets written to: transformer_model/model_distillbert_total/assets\n"
          ],
          "name": "stderr"
        },
        {
          "output_type": "stream",
          "text": [
            "Epoch 2/10\n",
            "1050/1050 [==============================] - 614s 585ms/step - loss: 0.3703 - sparse_categorical_accuracy: 0.8507 - val_loss: 0.4171 - val_sparse_categorical_accuracy: 0.8300\n",
            "Restoring model weights from the end of the best epoch.\n",
            "\n",
            "Epoch 00002: val_loss did not improve from 0.41446\n",
            "Epoch 00002: early stopping\n"
          ],
          "name": "stdout"
        }
      ]
    },
    {
      "cell_type": "markdown",
      "metadata": {
        "id": "BAKYKwK_SbSs"
      },
      "source": [
        "# Results\n",
        "We see that we reach very high validation accuracy of 83% just after two epochs. We stopped after two epochs to prevent overfitting. We reach a good balance between 85% training data accuracy and 83% validation accuracy.\n",
        "\n",
        "This shows that transformers when we train transformers with enriched text we can reach much higher accuracies than text alone in much shorter time."
      ]
    },
    {
      "cell_type": "markdown",
      "metadata": {
        "id": "nHUu816DbNJm"
      },
      "source": [
        "# Testing on toy examples\n",
        "We then test the output on some toy examples and see how our predicted labels match with the correct labels.\n",
        "\n",
        "The first value is prediction for 0(Fake), and the second is for 1(Non-fake)"
      ]
    },
    {
      "cell_type": "code",
      "metadata": {
        "id": "22tUJYpO4n9N",
        "colab": {
          "base_uri": "https://localhost:8080/"
        },
        "outputId": "d0d46046-ffb8-4b60-fd45-fa9fa4aa76f8"
      },
      "source": [
        "\n",
        "print(train_labels_array[200:205])\n",
        "\n",
        "for i in range(200, 205):\n",
        "    #y = tokenizer(data_shortened.head()[\"REVIEW_TEXT\"].tolist()[i], padding=\"max_length\", truncation=True)\n",
        "    y = tokenizer(train_reviews[i], padding=\"max_length\", truncation=True)\n",
        "    y['input_ids'] = tf.convert_to_tensor( [y['input_ids']] )\n",
        "    if model_name == 'bert-base-cased':\n",
        "        y['token_type_ids'] = tf.convert_to_tensor( [y['token_type_ids']] )\n",
        "    y['attention_mask'] = tf.convert_to_tensor( [y['attention_mask']] )\n",
        "\n",
        "    label = model(y)\n",
        "    probs = tf.nn.softmax(label.logits)\n",
        "    print(probs)\n",
        "\n"
      ],
      "execution_count": 29,
      "outputs": [
        {
          "output_type": "stream",
          "text": [
            "[0 1 0 1 1]\n",
            "tf.Tensor([[0.8336636 0.1663364]], shape=(1, 2), dtype=float32)\n",
            "tf.Tensor([[0.07943762 0.9205624 ]], shape=(1, 2), dtype=float32)\n",
            "tf.Tensor([[0.37431285 0.6256872 ]], shape=(1, 2), dtype=float32)\n",
            "tf.Tensor([[0.45089296 0.549107  ]], shape=(1, 2), dtype=float32)\n",
            "tf.Tensor([[0.05695679 0.94304323]], shape=(1, 2), dtype=float32)\n"
          ],
          "name": "stdout"
        }
      ]
    },
    {
      "cell_type": "markdown",
      "metadata": {
        "id": "2yaVxiQFbTu4"
      },
      "source": [
        "# Downloading model from google colab"
      ]
    },
    {
      "cell_type": "code",
      "metadata": {
        "id": "Wd5NiZywX2qO",
        "colab": {
          "base_uri": "https://localhost:8080/",
          "height": 187
        },
        "outputId": "8297c903-8701-49fb-bb09-5856879afc0c"
      },
      "source": [
        "!zip -r /content/file.zip /content/transformer_model\n",
        "\n",
        "from google.colab import files\n",
        "files.download(\"/content/file.zip\")"
      ],
      "execution_count": 30,
      "outputs": [
        {
          "output_type": "stream",
          "text": [
            "  adding: content/transformer_model/ (stored 0%)\n",
            "  adding: content/transformer_model/config.json (deflated 44%)\n",
            "  adding: content/transformer_model/tf_model.h5 (deflated 8%)\n",
            "  adding: content/transformer_model/model_distillbert_total/ (stored 0%)\n",
            "  adding: content/transformer_model/model_distillbert_total/assets/ (stored 0%)\n",
            "  adding: content/transformer_model/model_distillbert_total/variables/ (stored 0%)\n",
            "  adding: content/transformer_model/model_distillbert_total/variables/variables.index (deflated 79%)\n",
            "  adding: content/transformer_model/model_distillbert_total/variables/variables.data-00000-of-00001 (deflated 17%)\n",
            "  adding: content/transformer_model/model_distillbert_total/saved_model.pb (deflated 92%)\n",
            "  adding: content/transformer_model/model_distillbert_total/keras_metadata.pb (deflated 94%)\n"
          ],
          "name": "stdout"
        },
        {
          "output_type": "display_data",
          "data": {
            "application/javascript": [
              "\n",
              "    async function download(id, filename, size) {\n",
              "      if (!google.colab.kernel.accessAllowed) {\n",
              "        return;\n",
              "      }\n",
              "      const div = document.createElement('div');\n",
              "      const label = document.createElement('label');\n",
              "      label.textContent = `Downloading \"${filename}\": `;\n",
              "      div.appendChild(label);\n",
              "      const progress = document.createElement('progress');\n",
              "      progress.max = size;\n",
              "      div.appendChild(progress);\n",
              "      document.body.appendChild(div);\n",
              "\n",
              "      const buffers = [];\n",
              "      let downloaded = 0;\n",
              "\n",
              "      const channel = await google.colab.kernel.comms.open(id);\n",
              "      // Send a message to notify the kernel that we're ready.\n",
              "      channel.send({})\n",
              "\n",
              "      for await (const message of channel.messages) {\n",
              "        // Send a message to notify the kernel that we're ready.\n",
              "        channel.send({})\n",
              "        if (message.buffers) {\n",
              "          for (const buffer of message.buffers) {\n",
              "            buffers.push(buffer);\n",
              "            downloaded += buffer.byteLength;\n",
              "            progress.value = downloaded;\n",
              "          }\n",
              "        }\n",
              "      }\n",
              "      const blob = new Blob(buffers, {type: 'application/binary'});\n",
              "      const a = document.createElement('a');\n",
              "      a.href = window.URL.createObjectURL(blob);\n",
              "      a.download = filename;\n",
              "      div.appendChild(a);\n",
              "      a.click();\n",
              "      div.remove();\n",
              "    }\n",
              "  "
            ],
            "text/plain": [
              "<IPython.core.display.Javascript object>"
            ]
          },
          "metadata": {
            "tags": []
          }
        },
        {
          "output_type": "display_data",
          "data": {
            "application/javascript": [
              "download(\"download_2a5d44d6-8091-4256-9abc-1d7627c5dbed\", \"file.zip\", 917167847)"
            ],
            "text/plain": [
              "<IPython.core.display.Javascript object>"
            ]
          },
          "metadata": {
            "tags": []
          }
        }
      ]
    }
  ]
}