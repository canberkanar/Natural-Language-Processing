{
 "cells": [
  {
   "cell_type": "markdown",
   "id": "6f3441e0",
   "metadata": {},
   "source": [
    "# **Transfer Learning with Pre-Trained Tensorflow Hub Model**\n",
    "\n",
    "In this Jupyter Notebook, we will run through the steps of building and training a model with Tensorflow [1], which will identify fake product reviews within our Amazon Database [2]. This model is developed to experiment and demonstrate the possibilities of Transfer Learning.\n",
    "\n",
    "[1] <b>Tensorflow</b>; \"An end-to-end open source machine learning platform.\", https://www.tensorflow.org/   \n",
    "[2] <b>Amazon Database</b>; https://www.kaggle.com/lievgarcia/amazon-reviews/"
   ]
  },
  {
   "attachments": {
    "TransferLearning.webp": {
     "image/webp": "[encoded data removed]"
    }
   },
   "cell_type": "markdown",
   "id": "d1302db4",
   "metadata": {},
   "source": [
    "<div>\n",
    "<img src=\"attachment:TransferLearning.webp\" width=\"750\"/>\n",
    "</div>"
   ]
  },
  {
   "cell_type": "markdown",
   "id": "b25e12aa",
   "metadata": {},
   "source": [
    "As defined by Tensorflow, Transfer Learning [1] is the process of adopting a model which was pre-trained on a larger and general dataset and customizing it (re-training) according to the problem that we are trying to solve. This way, we can take advantage of the experience that the model already gained from the larger dataset, which results in having to perform significantly less training of our own model while still gaining the functionality that we aimed to achieve.\n",
    "\n",
    "[1] <b>Transfer Learning</b>; https://www.tensorflow.org/tutorials/images/transfer_learning"
   ]
  },
  {
   "cell_type": "markdown",
   "id": "b6d6fbcc",
   "metadata": {},
   "source": [
    "# **Importing the packages**"
   ]
  },
  {
   "cell_type": "code",
   "execution_count": 1,
   "id": "a25a36ff",
   "metadata": {},
   "outputs": [],
   "source": [
    "import os.path\n",
    "import wget\n",
    "import shutil\n",
    "\n",
    "import numpy as np\n",
    "import pandas as pd\n",
    "\n",
    "# Expands English contractions in Text (I'd -> I would)\n",
    "# https://pypi.org/project/contractions/\n",
    "import contractions\n",
    "\n",
    "import re  # library enabling the use of REGEX Operations to filter unwanted characters\n",
    "\n",
    "import tensorflow as tf\n",
    "\n",
    "import tensorflow.keras as keras\n",
    "import tensorflow_hub as hub\n",
    "\n",
    "from tensorflow.keras import Model\n",
    "from tensorflow.keras.layers import Dense\n",
    "\n",
    "from sklearn.model_selection import train_test_split\n",
    "\n",
    "import matplotlib.pyplot as plt"
   ]
  },
  {
   "cell_type": "markdown",
   "id": "3920ebd2",
   "metadata": {},
   "source": [
    "# **Data Analysis and pre-processing**\n",
    "\n",
    "*Assumption:* We use pandas to read the data. Our text file is 'tab' delimited. Hence we use *delimiter=\\t* in the read_csv() of pandas. Some rows of the data has missing columns. We want to remove these columns during preprocessing. Hence we have the argument *error_bad_lines=False* which will make sure some of the rows with missing values will not be read. "
   ]
  },
  {
   "cell_type": "code",
   "execution_count": 2,
   "id": "2c767cde",
   "metadata": {},
   "outputs": [],
   "source": [
    "if not os.path.isfile('amazon_reviews.txt'): # downloads db to train if it does not exist in the directory\n",
    "    url = 'https://drive.google.com/uc?id=1-LYI_s6oZ0OTe3I0vFYRYIBVhjFswReY&export=download' # db to train\n",
    "    print('Downloading DB to train')\n",
    "    wget.download(url)\n",
    "    print('Download Completed!\\nUnzipping...')\n",
    "    shutil.unpack_archive('amazon_reviews.zip')\n",
    "    print('Done!')\n",
    "\n",
    "train_df = pd.read_csv('amazon_reviews.txt', delimiter='\\t', error_bad_lines=False)"
   ]
  },
  {
   "cell_type": "markdown",
   "id": "33e7f546",
   "metadata": {},
   "source": [
    "**Analyse the data** <br/>\n",
    "We use the head() of the pandas package to see what our data looks like."
   ]
  },
  {
   "cell_type": "code",
   "execution_count": 3,
   "id": "88f37d8e",
   "metadata": {},
   "outputs": [
    {
     "data": {
      "text/html": [
       "<div>\n",
       "<style scoped>\n",
       "    .dataframe tbody tr th:only-of-type {\n",
       "        vertical-align: middle;\n",
       "    }\n",
       "\n",
       "    .dataframe tbody tr th {\n",
       "        vertical-align: top;\n",
       "    }\n",
       "\n",
       "    .dataframe thead th {\n",
       "        text-align: right;\n",
       "    }\n",
       "</style>\n",
       "<table border=\"1\" class=\"dataframe\">\n",
       "  <thead>\n",
       "    <tr style=\"text-align: right;\">\n",
       "      <th></th>\n",
       "      <th>DOC_ID</th>\n",
       "      <th>LABEL</th>\n",
       "      <th>RATING</th>\n",
       "      <th>VERIFIED_PURCHASE</th>\n",
       "      <th>PRODUCT_CATEGORY</th>\n",
       "      <th>PRODUCT_ID</th>\n",
       "      <th>PRODUCT_TITLE</th>\n",
       "      <th>REVIEW_TITLE</th>\n",
       "      <th>REVIEW_TEXT</th>\n",
       "    </tr>\n",
       "  </thead>\n",
       "  <tbody>\n",
       "    <tr>\n",
       "      <th>0</th>\n",
       "      <td>1</td>\n",
       "      <td>__label1__</td>\n",
       "      <td>4</td>\n",
       "      <td>N</td>\n",
       "      <td>PC</td>\n",
       "      <td>B00008NG7N</td>\n",
       "      <td>Targus PAUK10U Ultra Mini USB Keypad, Black</td>\n",
       "      <td>useful</td>\n",
       "      <td>When least you think so, this product will sav...</td>\n",
       "    </tr>\n",
       "    <tr>\n",
       "      <th>1</th>\n",
       "      <td>2</td>\n",
       "      <td>__label1__</td>\n",
       "      <td>4</td>\n",
       "      <td>Y</td>\n",
       "      <td>Wireless</td>\n",
       "      <td>B00LH0Y3NM</td>\n",
       "      <td>Note 3 Battery : Stalion Strength Replacement ...</td>\n",
       "      <td>New era for batteries</td>\n",
       "      <td>Lithium batteries are something new introduced...</td>\n",
       "    </tr>\n",
       "    <tr>\n",
       "      <th>2</th>\n",
       "      <td>3</td>\n",
       "      <td>__label1__</td>\n",
       "      <td>3</td>\n",
       "      <td>N</td>\n",
       "      <td>Baby</td>\n",
       "      <td>B000I5UZ1Q</td>\n",
       "      <td>Fisher-Price Papasan Cradle Swing, Starlight</td>\n",
       "      <td>doesn't swing very well.</td>\n",
       "      <td>I purchased this swing for my baby. She is 6 m...</td>\n",
       "    </tr>\n",
       "    <tr>\n",
       "      <th>3</th>\n",
       "      <td>4</td>\n",
       "      <td>__label1__</td>\n",
       "      <td>4</td>\n",
       "      <td>N</td>\n",
       "      <td>Office Products</td>\n",
       "      <td>B003822IRA</td>\n",
       "      <td>Casio MS-80B Standard Function Desktop Calculator</td>\n",
       "      <td>Great computing!</td>\n",
       "      <td>I was looking for an inexpensive desk calcolat...</td>\n",
       "    </tr>\n",
       "    <tr>\n",
       "      <th>4</th>\n",
       "      <td>5</td>\n",
       "      <td>__label1__</td>\n",
       "      <td>4</td>\n",
       "      <td>N</td>\n",
       "      <td>Beauty</td>\n",
       "      <td>B00PWSAXAM</td>\n",
       "      <td>Shine Whitening - Zero Peroxide Teeth Whitenin...</td>\n",
       "      <td>Only use twice a week</td>\n",
       "      <td>I only use it twice a week and the results are...</td>\n",
       "    </tr>\n",
       "  </tbody>\n",
       "</table>\n",
       "</div>"
      ],
      "text/plain": [
       "   DOC_ID       LABEL  RATING VERIFIED_PURCHASE PRODUCT_CATEGORY  PRODUCT_ID  \\\n",
       "0       1  __label1__       4                 N               PC  B00008NG7N   \n",
       "1       2  __label1__       4                 Y         Wireless  B00LH0Y3NM   \n",
       "2       3  __label1__       3                 N             Baby  B000I5UZ1Q   \n",
       "3       4  __label1__       4                 N  Office Products  B003822IRA   \n",
       "4       5  __label1__       4                 N           Beauty  B00PWSAXAM   \n",
       "\n",
       "                                       PRODUCT_TITLE  \\\n",
       "0        Targus PAUK10U Ultra Mini USB Keypad, Black   \n",
       "1  Note 3 Battery : Stalion Strength Replacement ...   \n",
       "2       Fisher-Price Papasan Cradle Swing, Starlight   \n",
       "3  Casio MS-80B Standard Function Desktop Calculator   \n",
       "4  Shine Whitening - Zero Peroxide Teeth Whitenin...   \n",
       "\n",
       "               REVIEW_TITLE                                        REVIEW_TEXT  \n",
       "0                    useful  When least you think so, this product will sav...  \n",
       "1     New era for batteries  Lithium batteries are something new introduced...  \n",
       "2  doesn't swing very well.  I purchased this swing for my baby. She is 6 m...  \n",
       "3          Great computing!  I was looking for an inexpensive desk calcolat...  \n",
       "4     Only use twice a week  I only use it twice a week and the results are...  "
      ]
     },
     "execution_count": 3,
     "metadata": {},
     "output_type": "execute_result"
    }
   ],
   "source": [
    "train_df.head()"
   ]
  },
  {
   "cell_type": "markdown",
   "id": "6c6e7487",
   "metadata": {},
   "source": [
    "We observe that the 'LABEL' column is Categorical. In order to use this dataset to work with Deep learning models, we need to convert these Categorical values to numerical values."
   ]
  },
  {
   "cell_type": "code",
   "execution_count": 4,
   "id": "d31df8b1",
   "metadata": {},
   "outputs": [],
   "source": [
    "# Converting categorical 'LABEL' values to numerical\n",
    "\n",
    "train_df['LABEL'] = pd.Categorical(train_df['LABEL'])\n",
    "train_df['LABEL'] = train_df['LABEL'].cat.codes"
   ]
  },
  {
   "cell_type": "markdown",
   "id": "6f1989e2",
   "metadata": {},
   "source": [
    "# Text Cleaning\n",
    "\n",
    "The following methods were used to clean the text within the dataset;\n",
    "* <b>Contractions Library</b> which automatically expands English Contractions in Text (I'd -> I would) and lowers all characters.\n",
    "* <b>REGEX Rules</b> to remove irrelevant characters.\n",
    "\n",
    "Reference: https://github.com/haresrv/Case-Study_Fake-Product-Review-Monitoring-and-Removal"
   ]
  },
  {
   "cell_type": "code",
   "execution_count": 5,
   "id": "ae16dc82",
   "metadata": {},
   "outputs": [],
   "source": [
    "def preprocess(text):  # Data Preprocessing\n",
    "    text = str(text)\n",
    "    text = text.lower()  # All text must be converted to lowercase to reduce duplicate detection and processing of the\n",
    "    # same word\n",
    "    text = contractions.fix(text)  # Expands all English contractions to reduce duplicate detection and processing of\n",
    "    # the same expression (who's -> who is)\n",
    "\n",
    "    # Filtering unwanted characters via Regular Expressions\n",
    "    text = re.sub(r\"\\W\", \" \", text)\n",
    "    text = re.sub(r\"\\d\", \" \", text)\n",
    "    text = re.sub(r\"\\s+[a-z]\\s+\", \" \", text)\n",
    "    text = re.sub(r\"^[a-z]\\s+\", \" \", text)\n",
    "    text = re.sub(r\"\\s+[a-z]$\", \" \", text)\n",
    "    text = re.sub(r\"\\s+\", \" \", text)\n",
    "\n",
    "    return text"
   ]
  },
  {
   "cell_type": "markdown",
   "id": "70cbbb7a",
   "metadata": {},
   "source": [
    "Executing preprocess function over the 'REVIEW_TEXT' Column."
   ]
  },
  {
   "cell_type": "code",
   "execution_count": 6,
   "id": "1fc91a41",
   "metadata": {},
   "outputs": [],
   "source": [
    "train_df[\"REVIEW_TEXT\"] = train_df['REVIEW_TEXT'].apply(lambda x: preprocess(x))"
   ]
  },
  {
   "cell_type": "markdown",
   "id": "f2246379",
   "metadata": {},
   "source": [
    "Dropping irrevelant feature columns such as 'DOC_ID', 'VERIFIED_PURCHASE', 'PRODUCT_CATEGORY', 'PRODUCT_ID', 'PRODUCT_TITLE', 'REVIEW_TITLE'"
   ]
  },
  {
   "cell_type": "code",
   "execution_count": 25,
   "id": "fea8b075",
   "metadata": {},
   "outputs": [],
   "source": [
    "features = [\"REVIEW_TEXT\", \"LABEL\"]\n",
    "\n",
    "\n",
    "train_shortened_df = train_df[features]"
   ]
  },
  {
   "cell_type": "markdown",
   "id": "c781e570",
   "metadata": {},
   "source": [
    "# Analysing the data\n",
    "We use the head() of the pandas package to see what our data looks like. From this data we can see that 'LABEL' is the column we are trying to predict. To predict this value we make use of different features from the data. \n",
    "The different features we are using are 'RATING', 'REVIEW_TEXT' and 'VERIFIED_PURCHASE'."
   ]
  },
  {
   "cell_type": "code",
   "execution_count": 26,
   "id": "8a253ac9",
   "metadata": {
    "scrolled": true
   },
   "outputs": [
    {
     "data": {
      "text/html": [
       "<div>\n",
       "<style scoped>\n",
       "    .dataframe tbody tr th:only-of-type {\n",
       "        vertical-align: middle;\n",
       "    }\n",
       "\n",
       "    .dataframe tbody tr th {\n",
       "        vertical-align: top;\n",
       "    }\n",
       "\n",
       "    .dataframe thead th {\n",
       "        text-align: right;\n",
       "    }\n",
       "</style>\n",
       "<table border=\"1\" class=\"dataframe\">\n",
       "  <thead>\n",
       "    <tr style=\"text-align: right;\">\n",
       "      <th></th>\n",
       "      <th>REVIEW_TEXT</th>\n",
       "      <th>LABEL</th>\n",
       "    </tr>\n",
       "  </thead>\n",
       "  <tbody>\n",
       "    <tr>\n",
       "      <th>0</th>\n",
       "      <td>when least you think so this product will save...</td>\n",
       "      <td>0</td>\n",
       "    </tr>\n",
       "    <tr>\n",
       "      <th>1</th>\n",
       "      <td>lithium batteries are something new introduced...</td>\n",
       "      <td>0</td>\n",
       "    </tr>\n",
       "    <tr>\n",
       "      <th>2</th>\n",
       "      <td>purchased this swing for my baby she is month...</td>\n",
       "      <td>0</td>\n",
       "    </tr>\n",
       "    <tr>\n",
       "      <th>3</th>\n",
       "      <td>was looking for an inexpensive desk calcolatu...</td>\n",
       "      <td>0</td>\n",
       "    </tr>\n",
       "    <tr>\n",
       "      <th>4</th>\n",
       "      <td>only use it twice week and the results are gr...</td>\n",
       "      <td>0</td>\n",
       "    </tr>\n",
       "  </tbody>\n",
       "</table>\n",
       "</div>"
      ],
      "text/plain": [
       "                                         REVIEW_TEXT  LABEL\n",
       "0  when least you think so this product will save...      0\n",
       "1  lithium batteries are something new introduced...      0\n",
       "2   purchased this swing for my baby she is month...      0\n",
       "3   was looking for an inexpensive desk calcolatu...      0\n",
       "4   only use it twice week and the results are gr...      0"
      ]
     },
     "execution_count": 26,
     "metadata": {},
     "output_type": "execute_result"
    }
   ],
   "source": [
    "train_shortened_df.head()"
   ]
  },
  {
   "cell_type": "markdown",
   "id": "52d77759",
   "metadata": {},
   "source": [
    "We are now introduced to a simpler dataset with the 'LABEL' Column converted from Categorical to Numerical values."
   ]
  },
  {
   "cell_type": "markdown",
   "id": "ad3acf1d",
   "metadata": {},
   "source": [
    "# Training, Validation and Test set Splitting and Data Shuffling\n",
    "\n",
    "We have the data to work with and we need to into split it into three parts; training, validation and test sets. We train our model on the training set, tune our hyperparameters on the validation set and finally evaluate the model on the test set. We split the data into 80% training set, 10% validation set and 10% test set.\n",
    "\n",
    "Shuffling the data is a must, since the training and validation sets should have both of the labels. This is crucial for an efficient training and is automatically done by the 'train_test_split' function of the <b>Sklearn Library</b>."
   ]
  },
  {
   "cell_type": "code",
   "execution_count": 9,
   "id": "48e61830",
   "metadata": {},
   "outputs": [],
   "source": [
    "x_train, x_testval, y_train, y_testval = train_test_split(train_shortened_df[['REVIEW_TEXT']], train_shortened_df[['LABEL']] , test_size = 0.20)\n",
    "x_test, x_val, y_test, y_val = train_test_split(x_testval[['REVIEW_TEXT']], y_testval[['LABEL']] , test_size = 0.50)"
   ]
  },
  {
   "cell_type": "markdown",
   "id": "fbb41fcc",
   "metadata": {},
   "source": [
    "# Build the model"
   ]
  },
  {
   "cell_type": "code",
   "execution_count": 10,
   "id": "b5e27eeb",
   "metadata": {},
   "outputs": [],
   "source": [
    "model = \"https://tfhub.dev/google/nnlm-en-dim50/2\" # pre-trained Tensoflow Hub Model\n",
    "\n",
    "# trainable=False means we have frozen the weights of the pre-trained model, no training will happen on these weights for now\n",
    "hub_layer = hub.KerasLayer(model, input_shape=[], dtype=tf.string, trainable=False) \n",
    "\n",
    "model_classifier = tf.keras.Sequential()\n",
    "model_classifier.add(hub_layer)  # Adding pre-trained Tensorflow Hub Model to our own model\n",
    "\n",
    "model_classifier.add(Dense(16, activation='relu'))\n",
    "\n",
    "# 1D outputting final layer with Sigmoid Activation Function to predict Fake Reviews (LABEL) in a Binary Fashion\n",
    "model_classifier.add(Dense(1, activation='sigmoid'))"
   ]
  },
  {
   "cell_type": "markdown",
   "id": "6e4f3979",
   "metadata": {},
   "source": [
    "The model is compiled using the ADAM optimizer and Binary Cross Entropy loss."
   ]
  },
  {
   "cell_type": "code",
   "execution_count": 11,
   "id": "ac54fb73",
   "metadata": {},
   "outputs": [],
   "source": [
    "model_classifier.compile(optimizer='adam',\n",
    "                    loss=tf.losses.BinaryCrossentropy(),\n",
    "                    metrics=[tf.metrics.BinaryAccuracy(threshold=0.5, name='acc')])"
   ]
  },
  {
   "cell_type": "code",
   "execution_count": 12,
   "id": "20a21c2a",
   "metadata": {
    "scrolled": true
   },
   "outputs": [
    {
     "name": "stdout",
     "output_type": "stream",
     "text": [
      "Model: \"sequential\"\n",
      "_________________________________________________________________\n",
      "Layer (type)                 Output Shape              Param #   \n",
      "=================================================================\n",
      "keras_layer (KerasLayer)     (None, 50)                48190600  \n",
      "_________________________________________________________________\n",
      "dense (Dense)                (None, 16)                816       \n",
      "_________________________________________________________________\n",
      "dense_1 (Dense)              (None, 1)                 17        \n",
      "=================================================================\n",
      "Total params: 48,191,433\n",
      "Trainable params: 833\n",
      "Non-trainable params: 48,190,600\n",
      "_________________________________________________________________\n"
     ]
    }
   ],
   "source": [
    "model_classifier.summary()"
   ]
  },
  {
   "cell_type": "markdown",
   "id": "6f741668",
   "metadata": {},
   "source": [
    "# Training the Model"
   ]
  },
  {
   "cell_type": "code",
   "execution_count": 13,
   "id": "99f27204",
   "metadata": {
    "scrolled": false
   },
   "outputs": [
    {
     "name": "stdout",
     "output_type": "stream",
     "text": [
      "Epoch 1/60\n",
      "525/525 [==============================] - 2s 4ms/step - loss: 0.6742 - acc: 0.5746 - val_loss: 0.6685 - val_acc: 0.5838\n",
      "Epoch 2/60\n",
      "525/525 [==============================] - 1s 3ms/step - loss: 0.6614 - acc: 0.5924 - val_loss: 0.6669 - val_acc: 0.5952\n",
      "Epoch 3/60\n",
      "525/525 [==============================] - 1s 3ms/step - loss: 0.6576 - acc: 0.6015 - val_loss: 0.6639 - val_acc: 0.5881\n",
      "Epoch 4/60\n",
      "525/525 [==============================] - 1s 3ms/step - loss: 0.6549 - acc: 0.6066 - val_loss: 0.6630 - val_acc: 0.5952\n",
      "Epoch 5/60\n",
      "525/525 [==============================] - 1s 3ms/step - loss: 0.6529 - acc: 0.6090 - val_loss: 0.6623 - val_acc: 0.5995\n",
      "Epoch 6/60\n",
      "525/525 [==============================] - 1s 3ms/step - loss: 0.6507 - acc: 0.6116 - val_loss: 0.6607 - val_acc: 0.5986\n",
      "Epoch 7/60\n",
      "525/525 [==============================] - 2s 3ms/step - loss: 0.6482 - acc: 0.6154 - val_loss: 0.6591 - val_acc: 0.5962\n",
      "Epoch 8/60\n",
      "525/525 [==============================] - 1s 3ms/step - loss: 0.6462 - acc: 0.6138 - val_loss: 0.6582 - val_acc: 0.6038\n",
      "Epoch 9/60\n",
      "525/525 [==============================] - 1s 2ms/step - loss: 0.6437 - acc: 0.6191 - val_loss: 0.6560 - val_acc: 0.6052\n",
      "Epoch 10/60\n",
      "525/525 [==============================] - 1s 3ms/step - loss: 0.6423 - acc: 0.6229 - val_loss: 0.6551 - val_acc: 0.6019\n",
      "Epoch 11/60\n",
      "525/525 [==============================] - 1s 3ms/step - loss: 0.6404 - acc: 0.6230 - val_loss: 0.6542 - val_acc: 0.6052\n",
      "Epoch 12/60\n",
      "525/525 [==============================] - 1s 3ms/step - loss: 0.6389 - acc: 0.6285 - val_loss: 0.6544 - val_acc: 0.6129\n",
      "Epoch 13/60\n",
      "525/525 [==============================] - 1s 3ms/step - loss: 0.6369 - acc: 0.6318 - val_loss: 0.6524 - val_acc: 0.6095\n",
      "Epoch 14/60\n",
      "525/525 [==============================] - 1s 3ms/step - loss: 0.6357 - acc: 0.6343 - val_loss: 0.6506 - val_acc: 0.6062\n",
      "Epoch 15/60\n",
      "525/525 [==============================] - 2s 3ms/step - loss: 0.6336 - acc: 0.6352 - val_loss: 0.6484 - val_acc: 0.6157\n",
      "Epoch 16/60\n",
      "525/525 [==============================] - 2s 3ms/step - loss: 0.6324 - acc: 0.6353 - val_loss: 0.6490 - val_acc: 0.6129\n",
      "Epoch 17/60\n",
      "525/525 [==============================] - 2s 4ms/step - loss: 0.6308 - acc: 0.6399 - val_loss: 0.6493 - val_acc: 0.6057\n",
      "Epoch 18/60\n",
      "525/525 [==============================] - 2s 3ms/step - loss: 0.6299 - acc: 0.6395 - val_loss: 0.6473 - val_acc: 0.6095\n",
      "Epoch 19/60\n",
      "525/525 [==============================] - 1s 3ms/step - loss: 0.6287 - acc: 0.6401 - val_loss: 0.6476 - val_acc: 0.6176\n",
      "Epoch 20/60\n",
      "525/525 [==============================] - 1s 3ms/step - loss: 0.6280 - acc: 0.6414 - val_loss: 0.6475 - val_acc: 0.6133\n",
      "Epoch 21/60\n",
      "525/525 [==============================] - 1s 3ms/step - loss: 0.6269 - acc: 0.6431 - val_loss: 0.6461 - val_acc: 0.6181\n",
      "Epoch 22/60\n",
      "525/525 [==============================] - 1s 3ms/step - loss: 0.6255 - acc: 0.6423 - val_loss: 0.6457 - val_acc: 0.6114\n",
      "Epoch 23/60\n",
      "525/525 [==============================] - 1s 3ms/step - loss: 0.6252 - acc: 0.6444 - val_loss: 0.6460 - val_acc: 0.6205\n",
      "Epoch 24/60\n",
      "525/525 [==============================] - 1s 3ms/step - loss: 0.6245 - acc: 0.6439 - val_loss: 0.6455 - val_acc: 0.6124\n",
      "Epoch 25/60\n",
      "525/525 [==============================] - 1s 3ms/step - loss: 0.6241 - acc: 0.6469 - val_loss: 0.6445 - val_acc: 0.6229\n",
      "Epoch 26/60\n",
      "525/525 [==============================] - 2s 3ms/step - loss: 0.6231 - acc: 0.6467 - val_loss: 0.6456 - val_acc: 0.6176\n",
      "Epoch 27/60\n",
      "525/525 [==============================] - 2s 3ms/step - loss: 0.6224 - acc: 0.6483 - val_loss: 0.6458 - val_acc: 0.6181\n",
      "Epoch 28/60\n",
      "525/525 [==============================] - 2s 3ms/step - loss: 0.6219 - acc: 0.6492 - val_loss: 0.6444 - val_acc: 0.6324\n",
      "Epoch 29/60\n",
      "525/525 [==============================] - 2s 4ms/step - loss: 0.6212 - acc: 0.6488 - val_loss: 0.6476 - val_acc: 0.6257\n",
      "Epoch 30/60\n",
      "525/525 [==============================] - 2s 3ms/step - loss: 0.6208 - acc: 0.6513 - val_loss: 0.6451 - val_acc: 0.6290\n",
      "Epoch 31/60\n",
      "525/525 [==============================] - 2s 4ms/step - loss: 0.6205 - acc: 0.6521 - val_loss: 0.6451 - val_acc: 0.6186\n",
      "Epoch 32/60\n",
      "525/525 [==============================] - 2s 4ms/step - loss: 0.6206 - acc: 0.6508 - val_loss: 0.6447 - val_acc: 0.6238\n",
      "Epoch 33/60\n",
      "525/525 [==============================] - 2s 4ms/step - loss: 0.6196 - acc: 0.6533 - val_loss: 0.6466 - val_acc: 0.6262\n",
      "Epoch 34/60\n",
      "525/525 [==============================] - 1s 3ms/step - loss: 0.6191 - acc: 0.6536 - val_loss: 0.6457 - val_acc: 0.6229\n",
      "Epoch 35/60\n",
      "525/525 [==============================] - 1s 3ms/step - loss: 0.6192 - acc: 0.6523 - val_loss: 0.6447 - val_acc: 0.6290\n",
      "Epoch 36/60\n",
      "525/525 [==============================] - 1s 3ms/step - loss: 0.6188 - acc: 0.6532 - val_loss: 0.6470 - val_acc: 0.6319\n",
      "Epoch 37/60\n",
      "525/525 [==============================] - 2s 3ms/step - loss: 0.6186 - acc: 0.6513 - val_loss: 0.6443 - val_acc: 0.6271\n",
      "Epoch 38/60\n",
      "525/525 [==============================] - 2s 3ms/step - loss: 0.6181 - acc: 0.6557 - val_loss: 0.6433 - val_acc: 0.6348\n",
      "Epoch 39/60\n",
      "525/525 [==============================] - 2s 3ms/step - loss: 0.6179 - acc: 0.6538 - val_loss: 0.6454 - val_acc: 0.6319\n",
      "Epoch 40/60\n",
      "525/525 [==============================] - 2s 3ms/step - loss: 0.6172 - acc: 0.6554 - val_loss: 0.6439 - val_acc: 0.6329\n",
      "Epoch 41/60\n",
      "525/525 [==============================] - 2s 3ms/step - loss: 0.6174 - acc: 0.6558 - val_loss: 0.6447 - val_acc: 0.6281\n",
      "Epoch 42/60\n",
      "525/525 [==============================] - 2s 3ms/step - loss: 0.6169 - acc: 0.6568 - val_loss: 0.6462 - val_acc: 0.6305\n",
      "Epoch 43/60\n",
      "525/525 [==============================] - 1s 3ms/step - loss: 0.6164 - acc: 0.6549 - val_loss: 0.6446 - val_acc: 0.6329\n",
      "Epoch 44/60\n",
      "525/525 [==============================] - 1s 3ms/step - loss: 0.6161 - acc: 0.6586 - val_loss: 0.6446 - val_acc: 0.6238\n",
      "Epoch 45/60\n",
      "525/525 [==============================] - 1s 3ms/step - loss: 0.6163 - acc: 0.6575 - val_loss: 0.6440 - val_acc: 0.6252\n",
      "Epoch 46/60\n",
      "525/525 [==============================] - 2s 3ms/step - loss: 0.6155 - acc: 0.6577 - val_loss: 0.6458 - val_acc: 0.6205\n",
      "Epoch 47/60\n",
      "525/525 [==============================] - 2s 3ms/step - loss: 0.6151 - acc: 0.6557 - val_loss: 0.6441 - val_acc: 0.6271\n",
      "Epoch 48/60\n",
      "525/525 [==============================] - 2s 3ms/step - loss: 0.6154 - acc: 0.6562 - val_loss: 0.6433 - val_acc: 0.6352\n",
      "Epoch 49/60\n",
      "525/525 [==============================] - 2s 3ms/step - loss: 0.6153 - acc: 0.6568 - val_loss: 0.6450 - val_acc: 0.6267\n",
      "Epoch 50/60\n",
      "525/525 [==============================] - 2s 3ms/step - loss: 0.6151 - acc: 0.6582 - val_loss: 0.6452 - val_acc: 0.6248\n",
      "Epoch 51/60\n",
      "525/525 [==============================] - 2s 4ms/step - loss: 0.6147 - acc: 0.6585 - val_loss: 0.6440 - val_acc: 0.6286\n",
      "Epoch 52/60\n",
      "525/525 [==============================] - 2s 5ms/step - loss: 0.6147 - acc: 0.6583 - val_loss: 0.6456 - val_acc: 0.6271\n",
      "Epoch 53/60\n",
      "525/525 [==============================] - 1s 3ms/step - loss: 0.6136 - acc: 0.6551 - val_loss: 0.6465 - val_acc: 0.6343\n",
      "Epoch 54/60\n",
      "525/525 [==============================] - 2s 3ms/step - loss: 0.6134 - acc: 0.6607 - val_loss: 0.6434 - val_acc: 0.6352\n",
      "Epoch 55/60\n",
      "525/525 [==============================] - 2s 3ms/step - loss: 0.6137 - acc: 0.6580 - val_loss: 0.6447 - val_acc: 0.6262\n",
      "Epoch 56/60\n",
      "525/525 [==============================] - 2s 3ms/step - loss: 0.6131 - acc: 0.6604 - val_loss: 0.6452 - val_acc: 0.6329\n",
      "Epoch 57/60\n",
      "525/525 [==============================] - 1s 3ms/step - loss: 0.6126 - acc: 0.6623 - val_loss: 0.6447 - val_acc: 0.6290\n",
      "Epoch 58/60\n",
      "525/525 [==============================] - 2s 3ms/step - loss: 0.6124 - acc: 0.6635 - val_loss: 0.6449 - val_acc: 0.6286\n",
      "Epoch 59/60\n",
      "525/525 [==============================] - 2s 3ms/step - loss: 0.6128 - acc: 0.6618 - val_loss: 0.6445 - val_acc: 0.6310\n",
      "Epoch 60/60\n",
      "525/525 [==============================] - 2s 3ms/step - loss: 0.6127 - acc: 0.6617 - val_loss: 0.6452 - val_acc: 0.6310\n"
     ]
    }
   ],
   "source": [
    "history_frozen_weights = model_classifier.fit(x_train,\n",
    "                            y_train,\n",
    "                            epochs=60,\n",
    "                            batch_size=32,\n",
    "                            validation_data=(x_val, y_val),\n",
    "                            verbose=1)\n",
    "\n",
    "model_classifier.save(\"fakeReviewDetector_frozen_weights.hdf5\")"
   ]
  },
  {
   "cell_type": "markdown",
   "id": "536dc647",
   "metadata": {},
   "source": [
    "Final evaluation of the performance of the Model on the <b>unseen</b> test dataset."
   ]
  },
  {
   "cell_type": "code",
   "execution_count": 14,
   "id": "3dc10ccc",
   "metadata": {},
   "outputs": [
    {
     "name": "stdout",
     "output_type": "stream",
     "text": [
      "66/66 [==============================] - 0s 3ms/step - loss: 0.6381 - acc: 0.6286\n",
      "Evaluation on all data has accuracy of: 0.6285714507102966 \n"
     ]
    }
   ],
   "source": [
    "results = model_classifier.evaluate(x_test[['REVIEW_TEXT']],  y_test[\"LABEL\"])\n",
    "\n",
    "print(f'Evaluation on all data has accuracy of: {results[1]} ')"
   ]
  },
  {
   "cell_type": "markdown",
   "id": "db5e6146",
   "metadata": {},
   "source": [
    "# Visualizing the results"
   ]
  },
  {
   "cell_type": "code",
   "execution_count": 15,
   "id": "921f3a0a",
   "metadata": {
    "scrolled": true
   },
   "outputs": [
    {
     "data": {
      "image/png": "[encoded data removed]",
      "text/plain": [
       "<Figure size 432x288 with 1 Axes>"
      ]
     },
     "metadata": {
      "needs_background": "light"
     },
     "output_type": "display_data"
    },
    {
     "data": {
      "image/png": "[encoded data removed]",
      "text/plain": [
       "<Figure size 432x288 with 1 Axes>"
      ]
     },
     "metadata": {
      "needs_background": "light"
     },
     "output_type": "display_data"
    }
   ],
   "source": [
    "plt.plot(history_frozen_weights.history['acc'])\n",
    "plt.plot(history_frozen_weights.history['val_acc'])\n",
    "plt.title('Model accuracy')\n",
    "plt.ylabel('Accuracy')\n",
    "plt.xlabel('Epoch')\n",
    "plt.legend(['Train', 'Test'], loc='upper left')\n",
    "plt.show()\n",
    "\n",
    "plt.plot(history_frozen_weights.history['loss'])\n",
    "plt.plot(history_frozen_weights.history['val_loss'])\n",
    "plt.title('Model loss')\n",
    "plt.ylabel('Loss')\n",
    "plt.xlabel('Epoch')\n",
    "plt.legend(['Train', 'Test'], loc='upper right')\n",
    "plt.show()"
   ]
  },
  {
   "cell_type": "markdown",
   "id": "c02bd341",
   "metadata": {},
   "source": [
    "# Underfitting\n",
    "\n",
    "Coming up to a simple definition for <b>Underfitting</b>, it is the behaviour of a model under training that does not fully train over the dataset. It can easily be detected by observing the training loss metric of the model, which does not converge near 0.01 as was mentioned at the <i>Applied Deep Learning for NLP Seminar</i> at the Technical University of Munich."
   ]
  },
  {
   "cell_type": "markdown",
   "id": "0b80f5dc",
   "metadata": {},
   "source": [
    "# Evaluating the Training Result\n",
    "\n",
    "* The issue with the metrics above is that even after performing training for 60 epochs, the loss metric of the training dataset actually does not converge near 0.01 as well as its accuracy not converging near 0.99. This problem is related to the <b>capacity (number of trainable weights)</b> of our model. If we once again observe the summary of our model created with the command <i>model_classifier.summary()</i> above, it is seen that the number of trainable parameters of our model is 833, which seems to be not enough to handle our dataset. This issue is referred to as the problem of \"<b>Underfitting</b>\", and can clearly be identified from the graphs above by observing that the training loss does not converge to 0.01 but rather stays at about 0.60."
   ]
  },
  {
   "cell_type": "markdown",
   "id": "ceb70625",
   "metadata": {},
   "source": [
    "<hr>"
   ]
  },
  {
   "cell_type": "markdown",
   "id": "90076502",
   "metadata": {},
   "source": [
    "# Solution 1 - Preventing Underfitting by performing Fine Tuning to Increase the Capacity of the Model"
   ]
  },
  {
   "cell_type": "code",
   "execution_count": 16,
   "id": "c10c6ca2",
   "metadata": {},
   "outputs": [],
   "source": [
    "model = \"https://tfhub.dev/google/nnlm-en-dim50/2\"\n",
    "hub_layer = hub.KerasLayer(model, input_shape=[], dtype=tf.string, trainable=True)\n",
    "\n",
    "\n",
    "model_classifier_weights_unfrozen = tf.keras.Sequential()\n",
    "model_classifier_weights_unfrozen.add(hub_layer)  # Transfer Learning for pre-trained word embeddings\n",
    "\n",
    "model_classifier_weights_unfrozen.add(Dense(16, activation='relu'))\n",
    "model_classifier_weights_unfrozen.add(Dense(1, activation='sigmoid'))"
   ]
  },
  {
   "cell_type": "code",
   "execution_count": 17,
   "id": "5baf1b11",
   "metadata": {},
   "outputs": [],
   "source": [
    "model_classifier_weights_unfrozen.compile(optimizer='adam',\n",
    "                    loss=tf.losses.BinaryCrossentropy(),\n",
    "                    metrics=[tf.metrics.BinaryAccuracy(threshold=0.5, name='acc')])"
   ]
  },
  {
   "cell_type": "code",
   "execution_count": 18,
   "id": "77401875",
   "metadata": {
    "scrolled": true
   },
   "outputs": [
    {
     "name": "stdout",
     "output_type": "stream",
     "text": [
      "Model: \"sequential_1\"\n",
      "_________________________________________________________________\n",
      "Layer (type)                 Output Shape              Param #   \n",
      "=================================================================\n",
      "keras_layer_1 (KerasLayer)   (None, 50)                48190600  \n",
      "_________________________________________________________________\n",
      "dense_2 (Dense)              (None, 16)                816       \n",
      "_________________________________________________________________\n",
      "dense_3 (Dense)              (None, 1)                 17        \n",
      "=================================================================\n",
      "Total params: 48,191,433\n",
      "Trainable params: 48,191,433\n",
      "Non-trainable params: 0\n",
      "_________________________________________________________________\n"
     ]
    }
   ],
   "source": [
    "model_classifier_weights_unfrozen.summary()"
   ]
  },
  {
   "cell_type": "code",
   "execution_count": 19,
   "id": "cc1048d8",
   "metadata": {
    "scrolled": true
   },
   "outputs": [
    {
     "name": "stdout",
     "output_type": "stream",
     "text": [
      "Epoch 1/60\n",
      "66/66 [==============================] - 5s 72ms/step - loss: 0.6730 - acc: 0.5739 - val_loss: 0.6522 - val_acc: 0.6167\n",
      "Epoch 2/60\n",
      "66/66 [==============================] - 5s 69ms/step - loss: 0.6152 - acc: 0.6669 - val_loss: 0.6232 - val_acc: 0.6405\n",
      "Epoch 3/60\n",
      "66/66 [==============================] - 5s 68ms/step - loss: 0.5552 - acc: 0.7218 - val_loss: 0.6123 - val_acc: 0.6524\n",
      "Epoch 4/60\n",
      "66/66 [==============================] - 4s 68ms/step - loss: 0.4936 - acc: 0.7636 - val_loss: 0.6241 - val_acc: 0.6543\n",
      "Epoch 5/60\n",
      "66/66 [==============================] - 4s 68ms/step - loss: 0.4316 - acc: 0.8046 - val_loss: 0.6554 - val_acc: 0.6562\n",
      "Epoch 6/60\n",
      "66/66 [==============================] - 5s 69ms/step - loss: 0.3747 - acc: 0.8371 - val_loss: 0.7095 - val_acc: 0.6424\n",
      "Epoch 7/60\n",
      "66/66 [==============================] - 4s 68ms/step - loss: 0.3266 - acc: 0.8624 - val_loss: 0.7593 - val_acc: 0.6290\n",
      "Epoch 8/60\n",
      "66/66 [==============================] - 4s 68ms/step - loss: 0.2825 - acc: 0.8890 - val_loss: 0.8383 - val_acc: 0.6143\n",
      "Epoch 9/60\n",
      "66/66 [==============================] - 4s 68ms/step - loss: 0.2467 - acc: 0.9032 - val_loss: 0.9013 - val_acc: 0.6148\n",
      "Epoch 10/60\n",
      "66/66 [==============================] - 5s 69ms/step - loss: 0.2185 - acc: 0.9180 - val_loss: 0.9860 - val_acc: 0.6148\n",
      "Epoch 11/60\n",
      "66/66 [==============================] - 5s 69ms/step - loss: 0.1940 - acc: 0.9282 - val_loss: 1.0597 - val_acc: 0.6114\n",
      "Epoch 12/60\n",
      "66/66 [==============================] - 5s 68ms/step - loss: 0.1719 - acc: 0.9384 - val_loss: 1.1608 - val_acc: 0.6062\n",
      "Epoch 13/60\n",
      "66/66 [==============================] - 4s 68ms/step - loss: 0.1537 - acc: 0.9455 - val_loss: 1.2505 - val_acc: 0.5943\n",
      "Epoch 14/60\n",
      "66/66 [==============================] - 4s 68ms/step - loss: 0.1379 - acc: 0.9538 - val_loss: 1.3357 - val_acc: 0.5948\n",
      "Epoch 15/60\n",
      "66/66 [==============================] - 4s 68ms/step - loss: 0.1242 - acc: 0.9599 - val_loss: 1.4413 - val_acc: 0.5900\n",
      "Epoch 16/60\n",
      "66/66 [==============================] - 4s 68ms/step - loss: 0.1133 - acc: 0.9635 - val_loss: 1.5342 - val_acc: 0.5862\n",
      "Epoch 17/60\n",
      "66/66 [==============================] - 4s 68ms/step - loss: 0.1020 - acc: 0.9679 - val_loss: 1.6415 - val_acc: 0.5862\n",
      "Epoch 18/60\n",
      "66/66 [==============================] - 4s 68ms/step - loss: 0.0931 - acc: 0.9711 - val_loss: 1.7287 - val_acc: 0.5867\n",
      "Epoch 19/60\n",
      "66/66 [==============================] - 4s 68ms/step - loss: 0.0852 - acc: 0.9725 - val_loss: 1.8347 - val_acc: 0.5805\n",
      "Epoch 20/60\n",
      "66/66 [==============================] - 4s 68ms/step - loss: 0.0770 - acc: 0.9770 - val_loss: 1.9239 - val_acc: 0.5862\n",
      "Epoch 21/60\n",
      "66/66 [==============================] - 4s 68ms/step - loss: 0.0694 - acc: 0.9793 - val_loss: 2.0216 - val_acc: 0.5795\n",
      "Epoch 22/60\n",
      "66/66 [==============================] - 4s 68ms/step - loss: 0.0640 - acc: 0.9821 - val_loss: 2.1330 - val_acc: 0.5805\n",
      "Epoch 23/60\n",
      "66/66 [==============================] - 4s 68ms/step - loss: 0.0578 - acc: 0.9838 - val_loss: 2.2305 - val_acc: 0.5762\n",
      "Epoch 24/60\n",
      "66/66 [==============================] - 4s 68ms/step - loss: 0.0537 - acc: 0.9857 - val_loss: 2.3332 - val_acc: 0.5771\n",
      "Epoch 25/60\n",
      "66/66 [==============================] - 4s 68ms/step - loss: 0.0488 - acc: 0.9878 - val_loss: 2.4234 - val_acc: 0.5786\n",
      "Epoch 26/60\n",
      "66/66 [==============================] - 4s 68ms/step - loss: 0.0436 - acc: 0.9895 - val_loss: 2.5253 - val_acc: 0.5748\n",
      "Epoch 27/60\n",
      "66/66 [==============================] - 4s 68ms/step - loss: 0.0393 - acc: 0.9908 - val_loss: 2.6342 - val_acc: 0.5729\n",
      "Epoch 28/60\n",
      "66/66 [==============================] - 4s 68ms/step - loss: 0.0360 - acc: 0.9919 - val_loss: 2.7312 - val_acc: 0.5814\n",
      "Epoch 29/60\n",
      "66/66 [==============================] - 4s 68ms/step - loss: 0.0331 - acc: 0.9930 - val_loss: 2.8270 - val_acc: 0.5805\n",
      "Epoch 30/60\n",
      "66/66 [==============================] - 4s 68ms/step - loss: 0.0299 - acc: 0.9940 - val_loss: 2.9336 - val_acc: 0.5762\n",
      "Epoch 31/60\n",
      "66/66 [==============================] - 4s 68ms/step - loss: 0.0263 - acc: 0.9950 - val_loss: 3.0256 - val_acc: 0.5776\n",
      "Epoch 32/60\n",
      "66/66 [==============================] - 4s 68ms/step - loss: 0.0246 - acc: 0.9953 - val_loss: 3.1292 - val_acc: 0.5767\n",
      "Epoch 33/60\n",
      "66/66 [==============================] - 4s 68ms/step - loss: 0.0221 - acc: 0.9964 - val_loss: 3.2116 - val_acc: 0.5767\n",
      "Epoch 34/60\n",
      "66/66 [==============================] - 4s 68ms/step - loss: 0.0198 - acc: 0.9970 - val_loss: 3.3447 - val_acc: 0.5786\n",
      "Epoch 35/60\n",
      "66/66 [==============================] - 4s 68ms/step - loss: 0.0183 - acc: 0.9973 - val_loss: 3.4033 - val_acc: 0.5729\n",
      "Epoch 36/60\n",
      "66/66 [==============================] - 4s 68ms/step - loss: 0.0160 - acc: 0.9979 - val_loss: 3.5092 - val_acc: 0.5719\n",
      "Epoch 37/60\n",
      "66/66 [==============================] - 4s 68ms/step - loss: 0.0146 - acc: 0.9982 - val_loss: 3.6206 - val_acc: 0.5743\n",
      "Epoch 38/60\n",
      "66/66 [==============================] - 4s 68ms/step - loss: 0.0129 - acc: 0.9986 - val_loss: 3.7099 - val_acc: 0.5781\n",
      "Epoch 39/60\n",
      "66/66 [==============================] - 4s 68ms/step - loss: 0.0115 - acc: 0.9994 - val_loss: 3.8046 - val_acc: 0.5738\n",
      "Epoch 40/60\n",
      "66/66 [==============================] - 5s 68ms/step - loss: 0.0105 - acc: 0.9990 - val_loss: 3.8824 - val_acc: 0.5724\n",
      "Epoch 41/60\n",
      "66/66 [==============================] - 5s 69ms/step - loss: 0.0093 - acc: 0.9995 - val_loss: 3.9739 - val_acc: 0.5743\n",
      "Epoch 42/60\n",
      "66/66 [==============================] - 5s 68ms/step - loss: 0.0086 - acc: 0.9997 - val_loss: 4.0650 - val_acc: 0.5724\n",
      "Epoch 43/60\n",
      "66/66 [==============================] - 5s 69ms/step - loss: 0.0079 - acc: 0.9999 - val_loss: 4.1719 - val_acc: 0.5729\n",
      "Epoch 44/60\n",
      "66/66 [==============================] - 5s 72ms/step - loss: 0.0071 - acc: 0.9998 - val_loss: 4.2331 - val_acc: 0.5714\n",
      "Epoch 45/60\n",
      "66/66 [==============================] - 4s 68ms/step - loss: 0.0066 - acc: 0.9999 - val_loss: 4.3342 - val_acc: 0.5690\n",
      "Epoch 46/60\n",
      "66/66 [==============================] - 4s 68ms/step - loss: 0.0057 - acc: 0.9999 - val_loss: 4.4071 - val_acc: 0.5681\n",
      "Epoch 47/60\n",
      "66/66 [==============================] - 5s 69ms/step - loss: 0.0051 - acc: 0.9999 - val_loss: 4.4834 - val_acc: 0.5643\n",
      "Epoch 48/60\n",
      "66/66 [==============================] - 5s 69ms/step - loss: 0.0047 - acc: 1.0000 - val_loss: 4.5665 - val_acc: 0.5705\n",
      "Epoch 49/60\n",
      "66/66 [==============================] - 5s 68ms/step - loss: 0.0044 - acc: 0.9999 - val_loss: 4.6352 - val_acc: 0.5657\n",
      "Epoch 50/60\n",
      "66/66 [==============================] - 4s 68ms/step - loss: 0.0040 - acc: 1.0000 - val_loss: 4.7358 - val_acc: 0.5705\n",
      "Epoch 51/60\n",
      "66/66 [==============================] - 5s 68ms/step - loss: 0.0037 - acc: 1.0000 - val_loss: 4.7875 - val_acc: 0.5671\n",
      "Epoch 52/60\n",
      "66/66 [==============================] - 5s 68ms/step - loss: 0.0033 - acc: 1.0000 - val_loss: 4.8587 - val_acc: 0.5657\n",
      "Epoch 53/60\n",
      "66/66 [==============================] - 4s 68ms/step - loss: 0.0030 - acc: 1.0000 - val_loss: 4.9324 - val_acc: 0.5652\n",
      "Epoch 54/60\n",
      "66/66 [==============================] - 4s 68ms/step - loss: 0.0028 - acc: 1.0000 - val_loss: 4.9976 - val_acc: 0.5643\n",
      "Epoch 55/60\n",
      "66/66 [==============================] - 4s 68ms/step - loss: 0.0026 - acc: 1.0000 - val_loss: 5.0596 - val_acc: 0.5652\n",
      "Epoch 56/60\n",
      "66/66 [==============================] - 5s 68ms/step - loss: 0.0024 - acc: 1.0000 - val_loss: 5.1298 - val_acc: 0.5648\n",
      "Epoch 57/60\n",
      "66/66 [==============================] - 5s 68ms/step - loss: 0.0023 - acc: 1.0000 - val_loss: 5.2228 - val_acc: 0.5657\n",
      "Epoch 58/60\n",
      "66/66 [==============================] - 5s 68ms/step - loss: 0.0021 - acc: 1.0000 - val_loss: 5.2507 - val_acc: 0.5633\n",
      "Epoch 59/60\n",
      "66/66 [==============================] - 5s 75ms/step - loss: 0.0019 - acc: 1.0000 - val_loss: 5.3248 - val_acc: 0.5624\n",
      "Epoch 60/60\n",
      "66/66 [==============================] - 5s 80ms/step - loss: 0.0019 - acc: 1.0000 - val_loss: 5.3984 - val_acc: 0.5633\n"
     ]
    }
   ],
   "source": [
    "history_unfrozen_weights = model_classifier_weights_unfrozen.fit(x_train,\n",
    "                            y_train,\n",
    "                            epochs=30,\n",
    "                            batch_size=256,\n",
    "                            validation_data=(x_val, y_val),\n",
    "                            verbose=1)\n",
    "\n",
    "model_classifier_weights_unfrozen.save(\"fakeReviewDetector_unfrozen_weights.hdf5\")"
   ]
  },
  {
   "cell_type": "markdown",
   "id": "448b4e3f",
   "metadata": {},
   "source": [
    "Final evaluation of the performance of the Model on the unseen test dataset."
   ]
  },
  {
   "cell_type": "code",
   "execution_count": 20,
   "id": "dd61cd1b",
   "metadata": {},
   "outputs": [
    {
     "name": "stdout",
     "output_type": "stream",
     "text": [
      "66/66 [==============================] - 0s 4ms/step - loss: 5.0913 - acc: 0.5967\n",
      "Evaluation on all data has accuracy of: 0.596666693687439 \n"
     ]
    }
   ],
   "source": [
    "results_unfrozen = model_classifier_weights_unfrozen.evaluate(x_test[['REVIEW_TEXT']],  y_test[\"LABEL\"])\n",
    "\n",
    "print(f'Evaluation on all data has accuracy of: {results_unfrozen[1]} ')"
   ]
  },
  {
   "cell_type": "markdown",
   "id": "a6fc7725",
   "metadata": {},
   "source": [
    "# Visualizing the results"
   ]
  },
  {
   "cell_type": "code",
   "execution_count": 21,
   "id": "ac58fbae",
   "metadata": {
    "scrolled": false
   },
   "outputs": [
    {
     "data": {
      "image/png": "[encoded data removed]",
      "text/plain": [
       "<Figure size 432x288 with 1 Axes>"
      ]
     },
     "metadata": {
      "needs_background": "light"
     },
     "output_type": "display_data"
    },
    {
     "data": {
      "image/png": "[encoded data removed]",
      "text/plain": [
       "<Figure size 432x288 with 1 Axes>"
      ]
     },
     "metadata": {
      "needs_background": "light"
     },
     "output_type": "display_data"
    }
   ],
   "source": [
    "plt.plot(history_unfrozen_weights.history['acc'])\n",
    "plt.plot(history_unfrozen_weights.history['val_acc'])\n",
    "plt.title('Model accuracy')\n",
    "plt.ylabel('Accuracy')\n",
    "plt.xlabel('Epoch')\n",
    "plt.legend(['Train', 'Test'], loc='upper left')\n",
    "plt.show()\n",
    "\n",
    "plt.plot(history_unfrozen_weights.history['loss'])\n",
    "plt.plot(history_unfrozen_weights.history['val_loss'])\n",
    "plt.title('Model loss')\n",
    "plt.ylabel('Loss')\n",
    "plt.xlabel('Epoch')\n",
    "plt.legend(['Train', 'Test'], loc='upper right')\n",
    "plt.show()"
   ]
  },
  {
   "cell_type": "markdown",
   "id": "7d06c240",
   "metadata": {},
   "source": [
    "# Overfitting\n",
    "\n",
    "Coming up to a simple definition for <b>Overfitting</b>, it is the behaviour of a model under training that memorizes the training dataset introduced to it, as was mentioned at the <i>Applied Deep Learning for NLP Seminar</i> at the Technical University of Munich. The main characteristic behavior one can use to detect this problem is when the training loss is continuously decreasing and converging to 0.01 but the validation accuracy has no improvements and if not prevented will start to even increase in the upcoming epochs."
   ]
  },
  {
   "cell_type": "markdown",
   "id": "2a5208a2",
   "metadata": {},
   "source": [
    "# Evaluating the Training Result\n",
    "\n",
    "* We will once again observe the number of our trainable parameters like we have previously done so. When the command <i>model_classifier.summary()</i> is executed above, it is seen that our current model now has a total of 48,191,433 <b>Trainable Parameters</b>. As an expected behaviour, our training loss has converged near 0.01, meaning that it has been trained to the maximum extend. With this approach, the problem of <b>Underfitting</b> has been solved.\n",
    "\n",
    "* From the Training Logs and the two graphs above, it can be clearly seen that after some epochs the accuracy and the loss values of the training and test set differentiate from each other. Even though the loss of the training set converges to 0.01, the training metrics of the validation set are not improving. This is a serious problem because it indicates that the model simply memorized the training set and will not generate successful predictions over unseen data. The problem we are facing in such situation is called \"<b>Overfitting</b>\".\n",
    "\n"
   ]
  },
  {
   "cell_type": "markdown",
   "id": "0238c4b4",
   "metadata": {},
   "source": [
    "<hr>"
   ]
  },
  {
   "cell_type": "markdown",
   "id": "789342fa",
   "metadata": {},
   "source": [
    "# Solution 2 - Preventing Overfitting by using Early Stopping\n",
    "\n",
    "In order to prevent the problem of overfitting and coming up to a better training, we will now apply an approach called the \"<b>Early Stopping</b>\". Tensorflow already implements this feature and allows us to use it via the help of callbacks that are provided to the fit function, which is used to start the traing of the model.\n",
    "\n",
    "While defining our callbacks array, we have asked Tensorflow to monitor the validation loss for the process and to restore to the best combination of weights that were ever reached during training. When Tensorflow monitors the validation loss as a metric for Early Stopping, it will terminate the training process after a pre-defined number of epocs where the validation loss was not able to be improved. This pre-defined number is included in the process through the \"<b>patience</b>\" parameter."
   ]
  },
  {
   "cell_type": "code",
   "execution_count": 22,
   "id": "2d7d07fd",
   "metadata": {
    "scrolled": true
   },
   "outputs": [
    {
     "name": "stdout",
     "output_type": "stream",
     "text": [
      "WARNING:tensorflow:5 out of the last 5 calls to <function recreate_function.<locals>.restored_function_body at 0x000001FC22C70790> triggered tf.function retracing. Tracing is expensive and the excessive number of tracings could be due to (1) creating @tf.function repeatedly in a loop, (2) passing tensors with different shapes, (3) passing Python objects instead of tensors. For (1), please define your @tf.function outside of the loop. For (2), @tf.function has experimental_relax_shapes=True option that relaxes argument shapes that can avoid unnecessary retracing. For (3), please refer to https://www.tensorflow.org/tutorials/customization/performance#python_or_tensor_args and https://www.tensorflow.org/api_docs/python/tf/function for  more details.\n"
     ]
    },
    {
     "name": "stderr",
     "output_type": "stream",
     "text": [
      "WARNING:tensorflow:5 out of the last 5 calls to <function recreate_function.<locals>.restored_function_body at 0x000001FC22C70790> triggered tf.function retracing. Tracing is expensive and the excessive number of tracings could be due to (1) creating @tf.function repeatedly in a loop, (2) passing tensors with different shapes, (3) passing Python objects instead of tensors. For (1), please define your @tf.function outside of the loop. For (2), @tf.function has experimental_relax_shapes=True option that relaxes argument shapes that can avoid unnecessary retracing. For (3), please refer to https://www.tensorflow.org/tutorials/customization/performance#python_or_tensor_args and https://www.tensorflow.org/api_docs/python/tf/function for  more details.\n"
     ]
    },
    {
     "name": "stdout",
     "output_type": "stream",
     "text": [
      "WARNING:tensorflow:6 out of the last 6 calls to <function recreate_function.<locals>.restored_function_body at 0x000001FC22C701F0> triggered tf.function retracing. Tracing is expensive and the excessive number of tracings could be due to (1) creating @tf.function repeatedly in a loop, (2) passing tensors with different shapes, (3) passing Python objects instead of tensors. For (1), please define your @tf.function outside of the loop. For (2), @tf.function has experimental_relax_shapes=True option that relaxes argument shapes that can avoid unnecessary retracing. For (3), please refer to https://www.tensorflow.org/tutorials/customization/performance#python_or_tensor_args and https://www.tensorflow.org/api_docs/python/tf/function for  more details.\n"
     ]
    },
    {
     "name": "stderr",
     "output_type": "stream",
     "text": [
      "WARNING:tensorflow:6 out of the last 6 calls to <function recreate_function.<locals>.restored_function_body at 0x000001FC22C701F0> triggered tf.function retracing. Tracing is expensive and the excessive number of tracings could be due to (1) creating @tf.function repeatedly in a loop, (2) passing tensors with different shapes, (3) passing Python objects instead of tensors. For (1), please define your @tf.function outside of the loop. For (2), @tf.function has experimental_relax_shapes=True option that relaxes argument shapes that can avoid unnecessary retracing. For (3), please refer to https://www.tensorflow.org/tutorials/customization/performance#python_or_tensor_args and https://www.tensorflow.org/api_docs/python/tf/function for  more details.\n"
     ]
    },
    {
     "name": "stdout",
     "output_type": "stream",
     "text": [
      "Epoch 1/60\n",
      "525/525 [==============================] - 35s 66ms/step - loss: 0.6398 - acc: 0.6313 - val_loss: 0.6158 - val_acc: 0.6548\n",
      "Epoch 2/60\n",
      "525/525 [==============================] - 34s 65ms/step - loss: 0.5351 - acc: 0.7293 - val_loss: 0.6211 - val_acc: 0.6481\n",
      "Epoch 3/60\n",
      "525/525 [==============================] - ETA: 0s - loss: 0.4369 - acc: 0.7951Restoring model weights from the end of the best epoch.\n",
      "525/525 [==============================] - 34s 65ms/step - loss: 0.4369 - acc: 0.7951 - val_loss: 0.6818 - val_acc: 0.6324\n",
      "Epoch 00003: early stopping\n"
     ]
    }
   ],
   "source": [
    "# The same model is re-defined to prevent the training from continuing on top of the process previously achieved \n",
    "\n",
    "model = \"https://tfhub.dev/google/nnlm-en-dim50/2\"\n",
    "hub_layer = hub.KerasLayer(model, input_shape=[], dtype=tf.string, trainable=True)\n",
    "\n",
    "model_classifier_weights_frozen_earlyStopping = tf.keras.Sequential()\n",
    "model_classifier_weights_frozen_earlyStopping.add(hub_layer)  # Transfer Learning for pre-trained word embeddings\n",
    "model_classifier_weights_frozen_earlyStopping.add(Dense(16, activation='relu'))\n",
    "model_classifier_weights_frozen_earlyStopping.add(Dense(1, activation='sigmoid'))\n",
    "\n",
    "model_classifier_weights_frozen_earlyStopping.compile(optimizer='adam',\n",
    "                    loss=tf.losses.BinaryCrossentropy(),\n",
    "                    metrics=[tf.metrics.BinaryAccuracy(threshold=0.5, name='acc')])\n",
    "\n",
    "\n",
    "callbacks = [\n",
    "            keras.callbacks.EarlyStopping(monitor=\"val_loss\", patience=2,\n",
    "                                        verbose=1, mode=\"min\", restore_best_weights=True)\n",
    "]\n",
    "    \n",
    "history_frozen_weights_early_stopping = model_classifier_weights_frozen_earlyStopping.fit(x_train,\n",
    "                            y_train,\n",
    "                            epochs=60,\n",
    "                            batch_size=32,\n",
    "                            validation_data=(x_val, y_val),\n",
    "                            verbose=1,\n",
    "                            callbacks=callbacks)\n",
    "\n",
    "model_classifier_weights_frozen_earlyStopping.save(\"fakeReviewDetector_frozen_weights_earlyStopping.hdf5\")"
   ]
  },
  {
   "cell_type": "code",
   "execution_count": 23,
   "id": "361b0d75",
   "metadata": {},
   "outputs": [
    {
     "name": "stdout",
     "output_type": "stream",
     "text": [
      "66/66 [==============================] - 0s 3ms/step - loss: 0.6130 - acc: 0.6571\n",
      "Evaluation on all data has accuracy of: 0.6571428775787354 \n"
     ]
    }
   ],
   "source": [
    "results = model_classifier_weights_frozen_earlyStopping.evaluate(x_test[['REVIEW_TEXT']],  y_test[\"LABEL\"])\n",
    "\n",
    "print(f'Evaluation on all data has accuracy of: {results[1]} ')"
   ]
  },
  {
   "cell_type": "markdown",
   "id": "29af9030",
   "metadata": {},
   "source": [
    "# Visualizing the results"
   ]
  },
  {
   "cell_type": "code",
   "execution_count": 24,
   "id": "282a96b2",
   "metadata": {},
   "outputs": [
    {
     "data": {
      "image/png": "[encoded data removed]",
      "text/plain": [
       "<Figure size 432x288 with 1 Axes>"
      ]
     },
     "metadata": {
      "needs_background": "light"
     },
     "output_type": "display_data"
    },
    {
     "data": {
      "image/png": "[encoded data removed]",
      "text/plain": [
       "<Figure size 432x288 with 1 Axes>"
      ]
     },
     "metadata": {
      "needs_background": "light"
     },
     "output_type": "display_data"
    }
   ],
   "source": [
    "plt.plot(history_frozen_weights_early_stopping.history['acc'])\n",
    "plt.plot(history_frozen_weights_early_stopping.history['val_acc'])\n",
    "plt.title('Model accuracy')\n",
    "plt.ylabel('Accuracy')\n",
    "plt.xlabel('Epoch')\n",
    "plt.legend(['Train', 'Test'], loc='upper left')\n",
    "plt.show()\n",
    "\n",
    "plt.plot(history_frozen_weights_early_stopping.history['loss'])\n",
    "plt.plot(history_frozen_weights_early_stopping.history['val_loss'])\n",
    "plt.title('Model loss')\n",
    "plt.ylabel('Loss')\n",
    "plt.xlabel('Epoch')\n",
    "plt.legend(['Train', 'Test'], loc='upper right')\n",
    "plt.show()"
   ]
  },
  {
   "cell_type": "markdown",
   "id": "e3799460",
   "metadata": {},
   "source": [
    "# Evaluating the Training Result\n"
   ]
  },
  {
   "cell_type": "markdown",
   "id": "7965a642",
   "metadata": {},
   "source": [
    "Even though we used <b>Early Stopping</b>, it was unfortunately not enough to prevent overfitting. The reason for this is that this time our model has about 60 times more trainable parameters than it used to have before, meaning that the model's capacity overcomes the size of our database. In order to prevent this, the following approaches can be taken;\n",
    "\n",
    "* Reducing the capacity of the model by using methods such as <b>Dropout</b>.\n",
    "* Switching to a similar but larger dataset."
   ]
  },
  {
   "cell_type": "markdown",
   "id": "92aa2eac",
   "metadata": {},
   "source": [
    "<hr>"
   ]
  },
  {
   "cell_type": "markdown",
   "id": "a73fe16f",
   "metadata": {},
   "source": [
    "# Solution 3 - Reducing the Capacity of the Model\n",
    "\n",
    "Since in our model we have imported a pre-trained Tensorflow Hub model to perform Transfer Learning and almost all of our trainable parameters come directly from the imported model, we are unable to perform capacity reduction on the model. One thing that could have been done was to adopt a simpler pre-trained model from Tensorflow Hub. However as can be seen from the link [1], the model that we have choosen was already the lightest one available.\n",
    "\n",
    "[1] https://tfhub.dev/s?fine-tunable=yes&module-type=text-embedding&q=Token%20based%20text%20embedding%20trained"
   ]
  },
  {
   "cell_type": "markdown",
   "id": "677a9ccb",
   "metadata": {},
   "source": [
    "# Solution 4 - Switching to a more complex Pipeline\n",
    "\n",
    "Coming up to the maximum possibilities this pipeline could offer, we have decided to experiment other different models and pipelines widely used by NLP Enthusiasts like BiLSTM, Word2Vec and so on. These approaches are found within the following notebooks."
   ]
  },
  {
   "cell_type": "markdown",
   "id": "96771dd3",
   "metadata": {},
   "source": [
    "<hr>"
   ]
  }
 ],
 "metadata": {
  "kernelspec": {
   "display_name": "Python 3",
   "language": "python",
   "name": "python3"
  },
  "language_info": {
   "codemirror_mode": {
    "name": "ipython",
    "version": 3
   },
   "file_extension": ".py",
   "mimetype": "text/x-python",
   "name": "python",
   "nbconvert_exporter": "python",
   "pygments_lexer": "ipython3",
   "version": "3.8.8"
  }
 },
 "nbformat": 4,
 "nbformat_minor": 5
}
