{
  "nbformat": 4,
  "nbformat_minor": 0,
  "metadata": {
    "colab": {
      "name": "Word2Vec_fake_review_detection.ipynb",
      "provenance": []
    },
    "kernelspec": {
      "name": "python3",
      "display_name": "Python 3"
    },
    "language_info": {
      "name": "python"
    },
    "accelerator": "GPU"
  },
  "cells": [
    {
      "cell_type": "code",
      "metadata": {
        "colab": {
          "base_uri": "https://localhost:8080/"
        },
        "id": "ID-XFZSwWICO",
        "outputId": "84c071f1-8415-49ae-ae2a-fb85805def77"
      },
      "source": [
        "from google.colab import drive\n",
        "drive.mount('/content/gdrive',force_remount=True)"
      ],
      "execution_count": 53,
      "outputs": [
        {
          "output_type": "stream",
          "text": [
            "Mounted at /content/gdrive\n"
          ],
          "name": "stdout"
        }
      ]
    },
    {
      "cell_type": "markdown",
      "metadata": {
        "id": "ScEfFEMXWaG4"
      },
      "source": [
        "# Packages Import"
      ]
    },
    {
      "cell_type": "code",
      "metadata": {
        "id": "FCJzesm4uXUS"
      },
      "source": [
        "pip install -q -U keras-tuner"
      ],
      "execution_count": 54,
      "outputs": []
    },
    {
      "cell_type": "code",
      "metadata": {
        "colab": {
          "base_uri": "https://localhost:8080/"
        },
        "id": "zOMH6-mCoIiK",
        "outputId": "ffd49bdd-b81f-418c-cc28-6a4545cf19ea"
      },
      "source": [
        "pip install wget"
      ],
      "execution_count": 55,
      "outputs": [
        {
          "output_type": "stream",
          "text": [
            "Requirement already satisfied: wget in /usr/local/lib/python3.7/dist-packages (3.2)\n"
          ],
          "name": "stdout"
        }
      ]
    },
    {
      "cell_type": "code",
      "metadata": {
        "id": "muBi9FOkWpWy"
      },
      "source": [
        "import os\n",
        "import string\n",
        "import datetime\n",
        "import gensim\n",
        "import pandas as pd\n",
        "import numpy as np\n",
        "import tensorflow as tf\n",
        "import keras_tuner as kt\n",
        "import tensorflow.keras as keras\n",
        "import matplotlib.image  as mpimg\n",
        "import matplotlib.pyplot as plt\n",
        "import os.path\n",
        "import shutil\n",
        "import wget\n",
        "\n",
        "from sklearn.model_selection import train_test_split\n",
        "from keras.preprocessing.text import Tokenizer\n",
        "from keras.preprocessing.sequence import pad_sequences\n",
        "from keras.layers import Input,concatenate,Activation, Dense, Dropout, Embedding, Flatten,Bidirectional, LSTM\n",
        "from keras.models import Model\n",
        "from keras.initializers import Constant\n",
        "from keras.optimizers import Adam\n",
        "\n",
        "\n",
        "def plot_graphs(history, metric):\n",
        "  plt.plot(history.history[metric])\n",
        "  plt.plot(history.history['val_'+metric], '')\n",
        "  plt.xlabel(\"Epochs\")\n",
        "  plt.ylabel(metric)\n",
        "  plt.legend([metric, 'val_'+metric])\n",
        "\n",
        "# # Load the TensorBoard notebook extension\n",
        "# %load_ext tensorboard\n",
        "# # Clear any logs from previous runs on tensorboard\n",
        "# !rm -rf ./logs/"
      ],
      "execution_count": 56,
      "outputs": []
    },
    {
      "cell_type": "code",
      "metadata": {
        "id": "xMOQS2zqX8n1"
      },
      "source": [
        "# Changing the parameter of the column width for the display of the pandas dataframe\n",
        "pd.set_option('display.max_colwidth',100)"
      ],
      "execution_count": 57,
      "outputs": []
    },
    {
      "cell_type": "code",
      "metadata": {
        "id": "wqwkuxPuXDkI",
        "colab": {
          "base_uri": "https://localhost:8080/"
        },
        "outputId": "652c6fb0-d883-4c90-a84d-f3183d8a434b"
      },
      "source": [
        "print(\"Version: \", tf.__version__)\n",
        "print(\"Eager mode: \", tf.executing_eagerly())\n",
        "print(\"GPU is\", \"available\" if tf.config.list_physical_devices('GPU') else \"NOT AVAILABLE\")"
      ],
      "execution_count": 58,
      "outputs": [
        {
          "output_type": "stream",
          "text": [
            "Version:  2.5.0\n",
            "Eager mode:  True\n",
            "GPU is available\n"
          ],
          "name": "stdout"
        }
      ]
    },
    {
      "cell_type": "markdown",
      "metadata": {
        "id": "TdFmC7o6YmgG"
      },
      "source": [
        "#Dataset import and features selection"
      ]
    },
    {
      "cell_type": "code",
      "metadata": {
        "id": "isIOTwumYiML",
        "colab": {
          "base_uri": "https://localhost:8080/",
          "height": 306
        },
        "outputId": "4db04498-4fef-4673-d06e-c3c0577bea3b"
      },
      "source": [
        "#Check if the dataset is pre-downloaded in our working directory, otherwise we download it using the url location where is available\n",
        "if not os.path.isfile('amazon_reviews.txt'):\n",
        "    url = 'https://drive.google.com/uc?id=1-LYI_s6oZ0OTe3I0vFYRYIBVhjFswReY&export=download'\n",
        "    print('Downloading DB to train')\n",
        "    wget.download(url)\n",
        "    print('Download Completed!\\nUnzipping...')\n",
        "    shutil.unpack_archive('amazon_reviews.zip')\n",
        "else:\n",
        "   print(\"The dataset is already downloaded\")   \n",
        "#The dataset is a tab seperated csv file therefore we define delimiter as delimiter = '/t'.\n",
        "#We set index_col = False since we want to discard the entries with missing columns \n",
        "df = pd.read_csv('amazon_reviews.txt', error_bad_lines=False, delimiter=\"\\t\")\n",
        "df.head()"
      ],
      "execution_count": 59,
      "outputs": [
        {
          "output_type": "stream",
          "text": [
            "The dataset is already downloaded\n"
          ],
          "name": "stdout"
        },
        {
          "output_type": "execute_result",
          "data": {
            "text/html": [
              "<div>\n",
              "<style scoped>\n",
              "    .dataframe tbody tr th:only-of-type {\n",
              "        vertical-align: middle;\n",
              "    }\n",
              "\n",
              "    .dataframe tbody tr th {\n",
              "        vertical-align: top;\n",
              "    }\n",
              "\n",
              "    .dataframe thead th {\n",
              "        text-align: right;\n",
              "    }\n",
              "</style>\n",
              "<table border=\"1\" class=\"dataframe\">\n",
              "  <thead>\n",
              "    <tr style=\"text-align: right;\">\n",
              "      <th></th>\n",
              "      <th>DOC_ID</th>\n",
              "      <th>LABEL</th>\n",
              "      <th>RATING</th>\n",
              "      <th>VERIFIED_PURCHASE</th>\n",
              "      <th>PRODUCT_CATEGORY</th>\n",
              "      <th>PRODUCT_ID</th>\n",
              "      <th>PRODUCT_TITLE</th>\n",
              "      <th>REVIEW_TITLE</th>\n",
              "      <th>REVIEW_TEXT</th>\n",
              "    </tr>\n",
              "  </thead>\n",
              "  <tbody>\n",
              "    <tr>\n",
              "      <th>0</th>\n",
              "      <td>1</td>\n",
              "      <td>__label1__</td>\n",
              "      <td>4</td>\n",
              "      <td>N</td>\n",
              "      <td>PC</td>\n",
              "      <td>B00008NG7N</td>\n",
              "      <td>Targus PAUK10U Ultra Mini USB Keypad, Black</td>\n",
              "      <td>useful</td>\n",
              "      <td>When least you think so, this product will save the day. Just keep it around just in case you ne...</td>\n",
              "    </tr>\n",
              "    <tr>\n",
              "      <th>1</th>\n",
              "      <td>2</td>\n",
              "      <td>__label1__</td>\n",
              "      <td>4</td>\n",
              "      <td>Y</td>\n",
              "      <td>Wireless</td>\n",
              "      <td>B00LH0Y3NM</td>\n",
              "      <td>Note 3 Battery : Stalion Strength Replacement 3200mAh Li-Ion Battery for Samsung Galaxy Note 3 [...</td>\n",
              "      <td>New era for batteries</td>\n",
              "      <td>Lithium batteries are something new introduced in the market there average developing cost is re...</td>\n",
              "    </tr>\n",
              "    <tr>\n",
              "      <th>2</th>\n",
              "      <td>3</td>\n",
              "      <td>__label1__</td>\n",
              "      <td>3</td>\n",
              "      <td>N</td>\n",
              "      <td>Baby</td>\n",
              "      <td>B000I5UZ1Q</td>\n",
              "      <td>Fisher-Price Papasan Cradle Swing, Starlight</td>\n",
              "      <td>doesn't swing very well.</td>\n",
              "      <td>I purchased this swing for my baby. She is 6 months now and has pretty much out grown it. It is ...</td>\n",
              "    </tr>\n",
              "    <tr>\n",
              "      <th>3</th>\n",
              "      <td>4</td>\n",
              "      <td>__label1__</td>\n",
              "      <td>4</td>\n",
              "      <td>N</td>\n",
              "      <td>Office Products</td>\n",
              "      <td>B003822IRA</td>\n",
              "      <td>Casio MS-80B Standard Function Desktop Calculator</td>\n",
              "      <td>Great computing!</td>\n",
              "      <td>I was looking for an inexpensive desk calcolatur and here it is. It works and does everything I ...</td>\n",
              "    </tr>\n",
              "    <tr>\n",
              "      <th>4</th>\n",
              "      <td>5</td>\n",
              "      <td>__label1__</td>\n",
              "      <td>4</td>\n",
              "      <td>N</td>\n",
              "      <td>Beauty</td>\n",
              "      <td>B00PWSAXAM</td>\n",
              "      <td>Shine Whitening - Zero Peroxide Teeth Whitening System - No Sensitivity</td>\n",
              "      <td>Only use twice a week</td>\n",
              "      <td>I only use it twice a week and the results are great. I have used other teeth whitening solution...</td>\n",
              "    </tr>\n",
              "  </tbody>\n",
              "</table>\n",
              "</div>"
            ],
            "text/plain": [
              "   DOC_ID  ...                                                                                          REVIEW_TEXT\n",
              "0       1  ...  When least you think so, this product will save the day. Just keep it around just in case you ne...\n",
              "1       2  ...  Lithium batteries are something new introduced in the market there average developing cost is re...\n",
              "2       3  ...  I purchased this swing for my baby. She is 6 months now and has pretty much out grown it. It is ...\n",
              "3       4  ...  I was looking for an inexpensive desk calcolatur and here it is. It works and does everything I ...\n",
              "4       5  ...  I only use it twice a week and the results are great. I have used other teeth whitening solution...\n",
              "\n",
              "[5 rows x 9 columns]"
            ]
          },
          "metadata": {
            "tags": []
          },
          "execution_count": 59
        }
      ]
    },
    {
      "cell_type": "markdown",
      "metadata": {
        "id": "RCa8xKdKbgIb"
      },
      "source": [
        "We do feature extraction by keeping those features that will help our model perform better. For that purpose we decided to keep only the columns that are listed below : \n",
        " - **REVIEW_TEXT**: The comment description that is given as review for a product \n",
        " - **RATING**: The actual rating integer number from 1 to 5 with 1 be the lowest and 5 the highest. \n",
        " -**VERIFIED_PURCHASE**: A parameter which indicates of the user who comments is a verified on (with \"Y\") or is not (with \"N\"). Later on we are going to change those value with 1 and 0 respectively. \n",
        " -**LABEL**: This is the parameter which indicated if the relation between the \"RATING\" and the \"REVIEW_TEXT\" has a mismatch, giving the value 1 if that happen, meaning that it is a fake one, or not giving the value 0.\n"
      ]
    },
    {
      "cell_type": "code",
      "metadata": {
        "id": "UILbOuqXXs6n",
        "colab": {
          "base_uri": "https://localhost:8080/",
          "height": 204
        },
        "outputId": "40e6317b-b066-4488-edce-357878b05c8e"
      },
      "source": [
        "features = [\"REVIEW_TEXT\", \"RATING\", \"LABEL\", \"VERIFIED_PURCHASE\"]\n",
        "df = df[features]\n",
        "df.head()"
      ],
      "execution_count": 60,
      "outputs": [
        {
          "output_type": "execute_result",
          "data": {
            "text/html": [
              "<div>\n",
              "<style scoped>\n",
              "    .dataframe tbody tr th:only-of-type {\n",
              "        vertical-align: middle;\n",
              "    }\n",
              "\n",
              "    .dataframe tbody tr th {\n",
              "        vertical-align: top;\n",
              "    }\n",
              "\n",
              "    .dataframe thead th {\n",
              "        text-align: right;\n",
              "    }\n",
              "</style>\n",
              "<table border=\"1\" class=\"dataframe\">\n",
              "  <thead>\n",
              "    <tr style=\"text-align: right;\">\n",
              "      <th></th>\n",
              "      <th>REVIEW_TEXT</th>\n",
              "      <th>RATING</th>\n",
              "      <th>LABEL</th>\n",
              "      <th>VERIFIED_PURCHASE</th>\n",
              "    </tr>\n",
              "  </thead>\n",
              "  <tbody>\n",
              "    <tr>\n",
              "      <th>0</th>\n",
              "      <td>When least you think so, this product will save the day. Just keep it around just in case you ne...</td>\n",
              "      <td>4</td>\n",
              "      <td>__label1__</td>\n",
              "      <td>N</td>\n",
              "    </tr>\n",
              "    <tr>\n",
              "      <th>1</th>\n",
              "      <td>Lithium batteries are something new introduced in the market there average developing cost is re...</td>\n",
              "      <td>4</td>\n",
              "      <td>__label1__</td>\n",
              "      <td>Y</td>\n",
              "    </tr>\n",
              "    <tr>\n",
              "      <th>2</th>\n",
              "      <td>I purchased this swing for my baby. She is 6 months now and has pretty much out grown it. It is ...</td>\n",
              "      <td>3</td>\n",
              "      <td>__label1__</td>\n",
              "      <td>N</td>\n",
              "    </tr>\n",
              "    <tr>\n",
              "      <th>3</th>\n",
              "      <td>I was looking for an inexpensive desk calcolatur and here it is. It works and does everything I ...</td>\n",
              "      <td>4</td>\n",
              "      <td>__label1__</td>\n",
              "      <td>N</td>\n",
              "    </tr>\n",
              "    <tr>\n",
              "      <th>4</th>\n",
              "      <td>I only use it twice a week and the results are great. I have used other teeth whitening solution...</td>\n",
              "      <td>4</td>\n",
              "      <td>__label1__</td>\n",
              "      <td>N</td>\n",
              "    </tr>\n",
              "  </tbody>\n",
              "</table>\n",
              "</div>"
            ],
            "text/plain": [
              "                                                                                           REVIEW_TEXT  ...  VERIFIED_PURCHASE\n",
              "0  When least you think so, this product will save the day. Just keep it around just in case you ne...  ...                  N\n",
              "1  Lithium batteries are something new introduced in the market there average developing cost is re...  ...                  Y\n",
              "2  I purchased this swing for my baby. She is 6 months now and has pretty much out grown it. It is ...  ...                  N\n",
              "3  I was looking for an inexpensive desk calcolatur and here it is. It works and does everything I ...  ...                  N\n",
              "4  I only use it twice a week and the results are great. I have used other teeth whitening solution...  ...                  N\n",
              "\n",
              "[5 rows x 4 columns]"
            ]
          },
          "metadata": {
            "tags": []
          },
          "execution_count": 60
        }
      ]
    },
    {
      "cell_type": "markdown",
      "metadata": {
        "id": "h3IhcTURdeIx"
      },
      "source": [
        "# Data pre-processing "
      ]
    },
    {
      "cell_type": "markdown",
      "metadata": {
        "id": "u7mJTlG5dn4U"
      },
      "source": [
        "In that step with pre-process our data in order to bring them in a format that is more suitable for manipulation and it would be easier halded by our model.\n",
        "- Firstly, we change the our categorical feature \"LABEL\" from \"_label_1_\" and \"_label_0_\" to 1 and 0 respectively.\n",
        "- Secondly,  we change our categorical feature \"VERIFIED_PURCHASE\" from \"Y\" and \"N\" to \"0\" and \"1\". This helps our model to work in a more efficient way and to \"understand\" better the \"meaning\" of this feature. \n",
        "- Thirdly, we pre-processed the \"REVIEW_TEXT\" column by removing all the punction marks and to make all the word lower-case. By removing the punctuation we are able to avoid adding to our vocabulary words with excactly the same meaning. This will give more capacity to our embedding vocabulary."
      ]
    },
    {
      "cell_type": "code",
      "metadata": {
        "id": "ugvvNc-SozL3"
      },
      "source": [
        "# Changing the categorical values from \"label_1\" and \"label_0\" to 0 and 1\n",
        "df['LABEL'] = pd.Categorical(df['LABEL'])\n",
        "df['LABEL'] = df['LABEL'].cat.codes"
      ],
      "execution_count": 63,
      "outputs": []
    },
    {
      "cell_type": "code",
      "metadata": {
        "id": "EtXiP2fldURA"
      },
      "source": [
        "# Changing the categorical values from \"Y\" and \"N\" to 0 and 1\n",
        "df['VERIFIED_PURCHASE'] = pd.Categorical(df['VERIFIED_PURCHASE'])\n",
        "df['VERIFIED_PURCHASE'] = df['VERIFIED_PURCHASE'].cat.codes"
      ],
      "execution_count": 62,
      "outputs": []
    },
    {
      "cell_type": "code",
      "metadata": {
        "id": "7JhjkPLMfiIi"
      },
      "source": [
        "#We define a function that is going to make our word lower-case and then it will remove punctuations\n",
        "def remove_punctuation(txt):\n",
        "  text_lower = \"\".join([c.lower() for c in txt])\n",
        "  txt_nonpunct = \"\".join([c for c in text_lower if c not in string.punctuation])\n",
        "  return txt_nonpunct"
      ],
      "execution_count": 64,
      "outputs": []
    },
    {
      "cell_type": "code",
      "metadata": {
        "id": "lKderdL8fzv9"
      },
      "source": [
        "#We call the function \"remove_punctuation\" to be applied on every entry of the \"REVIEW_TEXT\" of our dataframe\n",
        "df['REVIEW_TEXT'] = df['REVIEW_TEXT'].apply(lambda x: remove_punctuation(x))"
      ],
      "execution_count": 65,
      "outputs": []
    },
    {
      "cell_type": "code",
      "metadata": {
        "id": "GLUVirkTh2Ug",
        "colab": {
          "base_uri": "https://localhost:8080/"
        },
        "outputId": "5a383599-f2cd-49fa-984b-bc220577f690"
      },
      "source": [
        "print(df.shape)"
      ],
      "execution_count": 66,
      "outputs": [
        {
          "output_type": "stream",
          "text": [
            "(21000, 4)\n"
          ],
          "name": "stdout"
        }
      ]
    },
    {
      "cell_type": "code",
      "metadata": {
        "colab": {
          "base_uri": "https://localhost:8080/",
          "height": 204
        },
        "id": "ViY9JZ5ppLDG",
        "outputId": "94004cef-717f-489c-b37b-795082e94d88"
      },
      "source": [
        "df.head()"
      ],
      "execution_count": 67,
      "outputs": [
        {
          "output_type": "execute_result",
          "data": {
            "text/html": [
              "<div>\n",
              "<style scoped>\n",
              "    .dataframe tbody tr th:only-of-type {\n",
              "        vertical-align: middle;\n",
              "    }\n",
              "\n",
              "    .dataframe tbody tr th {\n",
              "        vertical-align: top;\n",
              "    }\n",
              "\n",
              "    .dataframe thead th {\n",
              "        text-align: right;\n",
              "    }\n",
              "</style>\n",
              "<table border=\"1\" class=\"dataframe\">\n",
              "  <thead>\n",
              "    <tr style=\"text-align: right;\">\n",
              "      <th></th>\n",
              "      <th>REVIEW_TEXT</th>\n",
              "      <th>RATING</th>\n",
              "      <th>LABEL</th>\n",
              "      <th>VERIFIED_PURCHASE</th>\n",
              "    </tr>\n",
              "  </thead>\n",
              "  <tbody>\n",
              "    <tr>\n",
              "      <th>0</th>\n",
              "      <td>when least you think so this product will save the day just keep it around just in case you need...</td>\n",
              "      <td>4</td>\n",
              "      <td>0</td>\n",
              "      <td>0</td>\n",
              "    </tr>\n",
              "    <tr>\n",
              "      <th>1</th>\n",
              "      <td>lithium batteries are something new introduced in the market there average developing cost is re...</td>\n",
              "      <td>4</td>\n",
              "      <td>0</td>\n",
              "      <td>1</td>\n",
              "    </tr>\n",
              "    <tr>\n",
              "      <th>2</th>\n",
              "      <td>i purchased this swing for my baby she is 6 months now and has pretty much out grown it it is ve...</td>\n",
              "      <td>3</td>\n",
              "      <td>0</td>\n",
              "      <td>0</td>\n",
              "    </tr>\n",
              "    <tr>\n",
              "      <th>3</th>\n",
              "      <td>i was looking for an inexpensive desk calcolatur and here it is it works and does everything i n...</td>\n",
              "      <td>4</td>\n",
              "      <td>0</td>\n",
              "      <td>0</td>\n",
              "    </tr>\n",
              "    <tr>\n",
              "      <th>4</th>\n",
              "      <td>i only use it twice a week and the results are great i have used other teeth whitening solutions...</td>\n",
              "      <td>4</td>\n",
              "      <td>0</td>\n",
              "      <td>0</td>\n",
              "    </tr>\n",
              "  </tbody>\n",
              "</table>\n",
              "</div>"
            ],
            "text/plain": [
              "                                                                                           REVIEW_TEXT  ...  VERIFIED_PURCHASE\n",
              "0  when least you think so this product will save the day just keep it around just in case you need...  ...                  0\n",
              "1  lithium batteries are something new introduced in the market there average developing cost is re...  ...                  1\n",
              "2  i purchased this swing for my baby she is 6 months now and has pretty much out grown it it is ve...  ...                  0\n",
              "3  i was looking for an inexpensive desk calcolatur and here it is it works and does everything i n...  ...                  0\n",
              "4  i only use it twice a week and the results are great i have used other teeth whitening solutions...  ...                  0\n",
              "\n",
              "[5 rows x 4 columns]"
            ]
          },
          "metadata": {
            "tags": []
          },
          "execution_count": 67
        }
      ]
    },
    {
      "cell_type": "markdown",
      "metadata": {
        "id": "voXGcrZgh9Kv"
      },
      "source": [
        "- Since this is the case we split our data to the format of train, validation and test in the split of 80%, 10%, 10% since we want to have an amount of data to train our model and our data are not offered in a great amount for deep learning purposes"
      ]
    },
    {
      "cell_type": "code",
      "metadata": {
        "id": "odO8abvAi5DO",
        "colab": {
          "base_uri": "https://localhost:8080/"
        },
        "outputId": "568eb26f-8d19-459a-acd8-279f5657accc"
      },
      "source": [
        "# We want to split the data in 80:10:10 for train:valid:test dataset\n",
        "train_size=0.8\n",
        "\n",
        "X = df.copy()\n",
        "\n",
        "# In the first step we will split the data in training and remaining dataset\n",
        "X_train, X_rem= train_test_split(X, train_size=train_size)\n",
        "\n",
        "# # Now since we want the valid and test size to be equal (10% each of overall data). \n",
        "# # we have to define valid_size=0.5 (that is 50% of remaining data)\n",
        "test_size = 0.5\n",
        "X_valid, X_test = train_test_split(X_rem, test_size=0.5)\n"
      ],
      "execution_count": 68,
      "outputs": [
        {
          "output_type": "stream",
          "text": [
            "Training:  (16800, 4)\n",
            "Validation:  (2100, 4)\n",
            "Test:  (2100, 4)\n"
          ],
          "name": "stdout"
        }
      ]
    },
    {
      "cell_type": "markdown",
      "metadata": {
        "id": "pneAq0CCjwIY"
      },
      "source": [
        "- We further seperate the columns \"RATING\", \"VERIFIED\" from the rest of our dataset since we want to train our model including also those features.  The \"LABEL\" column is our target column which we are going to use to check the accuracy perfomance of our model by comparing the model's predictions with the \"really\" ones."
      ]
    },
    {
      "cell_type": "code",
      "metadata": {
        "id": "UIpcA4ssjyKG"
      },
      "source": [
        "# We seperate the \"RATING\" column from the rest of the dataset\n",
        "train_rating = X_train.pop('RATING')\n",
        "valid_rating = X_valid.pop('RATING')\n",
        "test_rating = X_test.pop('RATING')\n",
        "\n",
        "# We seperate the \"VERIFIED_PURCHASE\" column from the rest of the dataset\n",
        "train_pursh = X_train.pop('VERIFIED_PURCHASE')\n",
        "valid_pursh = X_valid.pop('VERIFIED_PURCHASE')\n",
        "test_pursh = X_test.pop('VERIFIED_PURCHASE')\n",
        "\n",
        "# We seperate the \"LABEL\" column from the rest of the dataset\n",
        "train_target = X_train.pop('LABEL')\n",
        "valid_target = X_valid.pop('LABEL')\n",
        "test_target = X_test.pop('LABEL')"
      ],
      "execution_count": 69,
      "outputs": []
    },
    {
      "cell_type": "markdown",
      "metadata": {
        "id": "yjsgklKYmdmW"
      },
      "source": [
        "- Since we have our datasets prepaired in the sense that we have the train, validation and test sets we are now tokenize and pad the \"REVIEW_TEXT\" in order to create our vocabulary. We did not set any vocabulary size for our tokenization process. The padding max size is set to 100."
      ]
    },
    {
      "cell_type": "code",
      "metadata": {
        "id": "G0ozxi8Smr4x"
      },
      "source": [
        "oov_token = \"<OOV>\"\n",
        "max_length = 100\n",
        "padding_type = \"post\"\n",
        "trunction_type=\"post\""
      ],
      "execution_count": 70,
      "outputs": []
    },
    {
      "cell_type": "code",
      "metadata": {
        "id": "fjwSQWysmwA9",
        "colab": {
          "base_uri": "https://localhost:8080/"
        },
        "outputId": "8cb05f73-31d3-483e-d50a-b177448e84e4"
      },
      "source": [
        "tokenizer = Tokenizer(oov_token=oov_token)\n",
        "tokenizer.fit_on_texts(X_train.REVIEW_TEXT)\n",
        "vocab_size = len(tokenizer.word_index)+1\n",
        "print('Vocab Size is ',vocab_size)"
      ],
      "execution_count": 71,
      "outputs": [
        {
          "output_type": "stream",
          "text": [
            "Vocab Size is  40941\n"
          ],
          "name": "stdout"
        }
      ]
    },
    {
      "cell_type": "code",
      "metadata": {
        "id": "yLJqSUIhmxNP"
      },
      "source": [
        "#Tokenize and padding for the \"REVIEW_TEXT\" column of the training dataset\n",
        "X_train_sequences = tokenizer.texts_to_sequences(X_train.REVIEW_TEXT)\n",
        "X_train_padded = pad_sequences(X_train_sequences,maxlen=max_length, padding=padding_type, \n",
        "                       truncating=trunction_type)\n",
        "\n",
        "#Tokenize and padding for the \"REVIEW_TEXT\" column of the validation dataset\n",
        "X_val_sequences = tokenizer.texts_to_sequences(X_valid.REVIEW_TEXT)\n",
        "X_val_padded = pad_sequences(X_val_sequences,maxlen=max_length, \n",
        "                               padding=padding_type, truncating=trunction_type)\n",
        "\n",
        "#Tokenize and padding for the \"REVIEW_TEXT\" column of the test dataset\n",
        "X_test_sequences = tokenizer.texts_to_sequences(X_test.REVIEW_TEXT)\n",
        "X_test_padded = pad_sequences(X_test_sequences,maxlen=max_length, \n",
        "                               padding=padding_type, truncating=trunction_type)"
      ],
      "execution_count": 72,
      "outputs": []
    },
    {
      "cell_type": "markdown",
      "metadata": {
        "id": "9sh-MARUCF6Z"
      },
      "source": [
        "# Pre-Trained word embeddings"
      ]
    },
    {
      "cell_type": "markdown",
      "metadata": {
        "id": "JvrPPEtSCeSS"
      },
      "source": [
        "In order to prepare our model to reach better accuracy we decided to use word-embeddings which is going to help our model to understand the \"meaning\" of each word that is going going to appear during the training procedure. \n",
        "\n",
        "*The main goal of this notebook is to create a model and ckeck it's results under the use of Word2Vec embedding.* \n",
        "\n",
        "For that purpose we used the concept of transfer learning by getting a pre-trained Word2Vec embedding from the gensim library."
      ]
    },
    {
      "cell_type": "code",
      "metadata": {
        "id": "qbdhRyGdnWOw"
      },
      "source": [
        "# We split each text of the \"REVIEW_TEXT\" column\n",
        "documents = []\n",
        "for _text in X_train.REVIEW_TEXT:    \n",
        "    documents.append((_text.split(\" \")))"
      ],
      "execution_count": 73,
      "outputs": []
    },
    {
      "cell_type": "code",
      "metadata": {
        "id": "MbMN7kmEFBOE",
        "colab": {
          "base_uri": "https://localhost:8080/"
        },
        "outputId": "763e47c2-cb33-4a77-c9c2-c03029e43385"
      },
      "source": [
        ""
      ],
      "execution_count": 74,
      "outputs": [
        {
          "output_type": "execute_result",
          "data": {
            "text/plain": [
              "16800"
            ]
          },
          "metadata": {
            "tags": []
          },
          "execution_count": 74
        }
      ]
    },
    {
      "cell_type": "code",
      "metadata": {
        "id": "Xavt_vcdne0G"
      },
      "source": [
        "#Set up the hyperparameters for our Word2Vec model\n",
        "W2V_SIZE = 100\n",
        "W2V_WINDOW = 7\n",
        "W2V_EPOCH = 64\n",
        "W2V_MIN_COUNT = 5\n",
        "\n",
        "#We get the Word2Vec model from gensim\n",
        "w2v_model = gensim.models.word2vec.Word2Vec(size=W2V_SIZE, \n",
        "                                            window=W2V_WINDOW, \n",
        "                                            min_count=W2V_MIN_COUNT,\n",
        "                                            workers=8)\n",
        "\n",
        "#We build the vocabulary\n",
        "w2v_model.build_vocab(documents)"
      ],
      "execution_count": 75,
      "outputs": []
    },
    {
      "cell_type": "code",
      "metadata": {
        "id": "i8s2dq4nnivS",
        "colab": {
          "base_uri": "https://localhost:8080/"
        },
        "outputId": "7a90c342-5f45-4f17-d504-5789efff2c0c"
      },
      "source": [
        "#Then we train\n",
        "w2v_model.train(documents, total_examples=len(documents), epochs=W2V_EPOCH)"
      ],
      "execution_count": 76,
      "outputs": [
        {
          "output_type": "execute_result",
          "data": {
            "text/plain": [
              "(52189609, 75478848)"
            ]
          },
          "metadata": {
            "tags": []
          },
          "execution_count": 76
        }
      ]
    },
    {
      "cell_type": "code",
      "metadata": {
        "id": "3E6JH0z4n4aj",
        "colab": {
          "base_uri": "https://localhost:8080/"
        },
        "outputId": "6189cba1-5b00-4cfd-f116-0b8a968e29d1"
      },
      "source": [
        "# We test that the word embedding where created successfully by ckecking the most similar words of a given word\n",
        "w2v_model.wv.most_similar(\"bad\") "
      ],
      "execution_count": 78,
      "outputs": [
        {
          "output_type": "execute_result",
          "data": {
            "text/plain": [
              "[('good', 0.5121394395828247),\n",
              " ('cheap', 0.45641982555389404),\n",
              " ('poor', 0.44563719630241394),\n",
              " ('weak', 0.43790265917778015),\n",
              " ('terrible', 0.4351554811000824),\n",
              " ('fake', 0.4230737090110779),\n",
              " ('lie', 0.41837218403816223),\n",
              " ('horrible', 0.40323925018310547),\n",
              " ('lame', 0.3959568738937378),\n",
              " ('sucks', 0.39031872153282166)]"
            ]
          },
          "metadata": {
            "tags": []
          },
          "execution_count": 78
        }
      ]
    },
    {
      "cell_type": "code",
      "metadata": {
        "id": "fgqbRoZln9r3",
        "colab": {
          "base_uri": "https://localhost:8080/"
        },
        "outputId": "19b612b7-7395-46b9-9c68-a76e05347e19"
      },
      "source": [
        "#We create our embedding matrix\n",
        "embedding_matrix = np.zeros((vocab_size , W2V_SIZE))\n",
        "for word , i in tokenizer.word_index.items():\n",
        "    if word in w2v_model.wv:\n",
        "        embedding_matrix[i] = w2v_model.wv[word]\n",
        "print(embedding_matrix.shape)"
      ],
      "execution_count": 79,
      "outputs": [
        {
          "output_type": "stream",
          "text": [
            "(40941, 100)\n"
          ],
          "name": "stdout"
        }
      ]
    },
    {
      "cell_type": "markdown",
      "metadata": {
        "id": "Z29wR_GuHR-Y"
      },
      "source": [
        "# The model\n"
      ]
    },
    {
      "cell_type": "markdown",
      "metadata": {
        "id": "qM5msX3THnUx"
      },
      "source": [
        "The model that we created is based on the concept that we want to make predictions based on different features of the dataset and to check the resutls based on them. The feautures that seemed to perform better giving a conceptual reason for that are \"REVIEW_TEXT\", \"RATING\", \"VERIFIED_PURCHASE\" given that we want to predict the \"LABEL\" feauture. \n",
        "\n",
        "So our model consists of 3 heads under the following architecture : \n",
        "1. The head that processes the \"**REVIEW_TEXT**\" feature, on which we have applied the Word2Vec word embedding layer as a 100 dimesional vector. Then we use Dropout as a technique to avoid overfitting our model. Then we use a Bi-directional LSTM in order to process the sequences and to be able to extract the \"useful\" information from the individual sentence. Then the output of the Bi-directional LSTM is pass to a fully connected layer which we are going to use later on the concatination step of all our feauture models\n",
        "\n",
        "2. The second head processes the \"**RATING**\" feature using a sequence of dense fully contected which is brought in the same dimensionsion as our first head and thrid layer later on, something that is useful for the concatination process of our heads. \n",
        "\n",
        "3. The third layer follows the same logic as the second one. On this one we process the \"**VERIFIED_PURCHASE**\" feature again using a fully connected dense layer which is brought in the proper dimemsnions for the concatination procedure.\n",
        "\n",
        "Since we have now this three heads in a fully connected dense layer format we concatinate them and we pass them to another fully connected dense layer in order to extract the relations between these features.\n",
        "\n",
        "Then our model is compiled using the ADAM optimizer and as our loss function the binary crossentropy loss. "
      ]
    },
    {
      "cell_type": "code",
      "metadata": {
        "id": "IFSbFslvoO_U"
      },
      "source": [
        "embedding_layer = Embedding(len(tokenizer.word_index) + 1,\n",
        "                            max_length,\n",
        "                            embeddings_initializer= Constant(embedding_matrix),\n",
        "                            trainable=False)"
      ],
      "execution_count": 80,
      "outputs": []
    },
    {
      "cell_type": "code",
      "metadata": {
        "id": "Ffjn9mBhIhy9"
      },
      "source": [
        "review_branch_ip = Input(shape=(100,), name='Review_input')\n",
        "review_branch = embedding_layer(review_branch_ip)\n",
        "review_branch = Dropout(0.2)(review_branch)\n",
        "review_branch = Bidirectional(\n",
        "    LSTM(64, dropout=0.2,recurrent_dropout=0)\n",
        ")(review_branch)\n",
        "review_branch = Dense(64,activation='relu')(review_branch)\n",
        "review_branch_op = Dense(16, activation='relu')(review_branch)\n",
        "\n",
        "\n",
        "rating_branch_ip = Input(shape=(1,), name='Rating_input')\n",
        "rating_branch = Dense(8,activation='relu')(rating_branch_ip)\n",
        "rating_branch = Dropout(0.2)(rating_branch)\n",
        "rating_branch_op = Dense(16,activation='relu')(rating_branch)\n",
        "\n",
        "\n",
        "\n",
        "\n",
        "verified_purchase_branch_ip = Input(shape=(1,), name='Verified_Purchase_input')\n",
        "verified_purchase_branch = Dense(8,activation='relu')(verified_purchase_branch_ip)\n",
        "verified_purchase_branch = Dropout(0.2)(verified_purchase_branch)\n",
        "verified_purchase_branch_op = Dense(16,activation='relu')(verified_purchase_branch)\n",
        "\n",
        "\n",
        "concat = concatenate([review_branch_op, rating_branch_op, verified_purchase_branch_op], name='Concatenate')\n",
        "\n",
        "\n",
        "final_op = Dense(8, activation='relu')(concat)\n",
        "final_output = Dense(1,activation='sigmoid')(final_op)\n",
        "\n",
        "model = Model(inputs=[review_branch_ip,rating_branch_ip,verified_purchase_branch_ip], outputs=final_output,\n",
        "                  name='Final_output')"
      ],
      "execution_count": 81,
      "outputs": []
    },
    {
      "cell_type": "code",
      "metadata": {
        "id": "urmgI-lPJs1U"
      },
      "source": [
        "# We compile with Adam and binary crossentropy loss \n",
        "# clipvalue to avoid the gradient exploding\n",
        "model.compile(optimizer=Adam(clipvalue=0.5) , \n",
        "              loss='binary_crossentropy', \n",
        "              metrics=['acc'])"
      ],
      "execution_count": 82,
      "outputs": []
    },
    {
      "cell_type": "code",
      "metadata": {
        "id": "XazljUb2J7hY",
        "colab": {
          "base_uri": "https://localhost:8080/"
        },
        "outputId": "7200ff03-162a-434a-8f19-e523ba0a92cc"
      },
      "source": [
        "#We display the architecture of our model and display the total parameters that are trainable or not\n",
        "model.summary()"
      ],
      "execution_count": 83,
      "outputs": [
        {
          "output_type": "stream",
          "text": [
            "Model: \"Final_output\"\n",
            "__________________________________________________________________________________________________\n",
            "Layer (type)                    Output Shape         Param #     Connected to                     \n",
            "==================================================================================================\n",
            "Review_input (InputLayer)       [(None, 100)]        0                                            \n",
            "__________________________________________________________________________________________________\n",
            "embedding (Embedding)           (None, 100, 100)     4094100     Review_input[0][0]               \n",
            "__________________________________________________________________________________________________\n",
            "dropout_3 (Dropout)             (None, 100, 100)     0           embedding[0][0]                  \n",
            "__________________________________________________________________________________________________\n",
            "Rating_input (InputLayer)       [(None, 1)]          0                                            \n",
            "__________________________________________________________________________________________________\n",
            "Verified_Purchase_input (InputL [(None, 1)]          0                                            \n",
            "__________________________________________________________________________________________________\n",
            "bidirectional_1 (Bidirectional) (None, 128)          84480       dropout_3[0][0]                  \n",
            "__________________________________________________________________________________________________\n",
            "dense_10 (Dense)                (None, 8)            16          Rating_input[0][0]               \n",
            "__________________________________________________________________________________________________\n",
            "dense_12 (Dense)                (None, 8)            16          Verified_Purchase_input[0][0]    \n",
            "__________________________________________________________________________________________________\n",
            "dense_8 (Dense)                 (None, 64)           8256        bidirectional_1[0][0]            \n",
            "__________________________________________________________________________________________________\n",
            "dropout_4 (Dropout)             (None, 8)            0           dense_10[0][0]                   \n",
            "__________________________________________________________________________________________________\n",
            "dropout_5 (Dropout)             (None, 8)            0           dense_12[0][0]                   \n",
            "__________________________________________________________________________________________________\n",
            "dense_9 (Dense)                 (None, 16)           1040        dense_8[0][0]                    \n",
            "__________________________________________________________________________________________________\n",
            "dense_11 (Dense)                (None, 16)           144         dropout_4[0][0]                  \n",
            "__________________________________________________________________________________________________\n",
            "dense_13 (Dense)                (None, 16)           144         dropout_5[0][0]                  \n",
            "__________________________________________________________________________________________________\n",
            "Concatenate (Concatenate)       (None, 48)           0           dense_9[0][0]                    \n",
            "                                                                 dense_11[0][0]                   \n",
            "                                                                 dense_13[0][0]                   \n",
            "__________________________________________________________________________________________________\n",
            "dense_14 (Dense)                (None, 8)            392         Concatenate[0][0]                \n",
            "__________________________________________________________________________________________________\n",
            "dense_15 (Dense)                (None, 1)            9           dense_14[0][0]                   \n",
            "==================================================================================================\n",
            "Total params: 4,188,597\n",
            "Trainable params: 94,497\n",
            "Non-trainable params: 4,094,100\n",
            "__________________________________________________________________________________________________\n"
          ],
          "name": "stdout"
        }
      ]
    },
    {
      "cell_type": "code",
      "metadata": {
        "id": "7OLYvNAeKL8O",
        "colab": {
          "base_uri": "https://localhost:8080/"
        },
        "outputId": "921a28f1-eaab-40be-945b-7602352ce5ae"
      },
      "source": [
        "# This is our first attempt to get the model prediction results having a batch_size of 32 and we train from 10 epochs\n",
        "# We also add the stop early feature in order to avoid training our model while it does not improve\n",
        "stop_early_model = tf.keras.callbacks.EarlyStopping(monitor='val_loss', patience=3)\n",
        "history = model.fit([X_train_padded,train_rating,train_pursh], train_target, batch_size=32,epochs=10, validation_data=([X_val_padded,valid_rating,valid_pursh], valid_target),callbacks=[stop_early_model])"
      ],
      "execution_count": 84,
      "outputs": [
        {
          "output_type": "stream",
          "text": [
            "Epoch 1/10\n",
            "525/525 [==============================] - 36s 60ms/step - loss: 0.6011 - acc: 0.6825 - val_loss: 0.4810 - val_acc: 0.7910\n",
            "Epoch 2/10\n",
            "525/525 [==============================] - 30s 57ms/step - loss: 0.4690 - acc: 0.7968 - val_loss: 0.4653 - val_acc: 0.7857\n",
            "Epoch 3/10\n",
            "525/525 [==============================] - 30s 57ms/step - loss: 0.4543 - acc: 0.7977 - val_loss: 0.4584 - val_acc: 0.7905\n",
            "Epoch 4/10\n",
            "525/525 [==============================] - 30s 57ms/step - loss: 0.4239 - acc: 0.8173 - val_loss: 0.4670 - val_acc: 0.7933\n",
            "Epoch 5/10\n",
            "525/525 [==============================] - 30s 57ms/step - loss: 0.4196 - acc: 0.8212 - val_loss: 0.4817 - val_acc: 0.7867\n",
            "Epoch 6/10\n",
            "525/525 [==============================] - 30s 57ms/step - loss: 0.4038 - acc: 0.8268 - val_loss: 0.4697 - val_acc: 0.8052\n"
          ],
          "name": "stdout"
        }
      ]
    },
    {
      "cell_type": "code",
      "metadata": {
        "id": "bhlaz9qKk_Cw",
        "colab": {
          "base_uri": "https://localhost:8080/",
          "height": 390
        },
        "outputId": "3e9ca6f8-ff1b-4698-d450-e84f1276d395"
      },
      "source": [
        "plt.figure(figsize=(16, 6))\n",
        "plt.subplot(1, 2, 1)\n",
        "plot_graphs(history, 'acc')\n",
        "plt.subplot(1, 2, 2)\n",
        "plot_graphs(history, 'loss')"
      ],
      "execution_count": 85,
      "outputs": [
        {
          "output_type": "display_data",
          "data": {
            "image/png": "[encoded data removed]",
            "text/plain": [
              "<Figure size 1152x432 with 2 Axes>"
            ]
          },
          "metadata": {
            "tags": [],
            "needs_background": "light"
          }
        }
      ]
    },
    {
      "cell_type": "markdown",
      "metadata": {
        "id": "2OLwlTpNLS11"
      },
      "source": [
        "### Hyperparameters Tuning"
      ]
    },
    {
      "cell_type": "markdown",
      "metadata": {
        "id": "kboAZrRPaBuC"
      },
      "source": [
        "Now that we have made a first attempt to get our model's first prediction results in the base of accuracy perfomance, we are going to apply some hyperparameter tuning strategies. For that reason we tested 2 hyperpameter tuning that are included in the \"Keras tuner\" package : \n",
        "\n",
        "1. The first is the **Bayesian Optimization** algorithm which provides a seacrhing strategies based on the logic training the model for the given amount of epochs.\n",
        "2. The we checked also the **Hyperband Optimization** algorithm where we set the maximum amount of epochs and then it applies the hyperparameter tuning in a the range of the given maximun epochs"
      ]
    },
    {
      "cell_type": "code",
      "metadata": {
        "id": "XP36YlXLLL4m"
      },
      "source": [
        "#We define a function which constinst of the model strucure and our hyperparameter search domain for our model\n",
        "def model_builder(hp):\n",
        "\n",
        "  hp_dropout = hp.Float('Dropout', min_value=0.1, max_value=0.5, step=0.1)\n",
        "  hp_lstm_units = hp.Int('Lstm_units', min_value=8, max_value=64, step=8)\n",
        "  hp_lstm_dropout = hp.Float('Lstm_Dropout', min_value=0.1, max_value=0.5, step=0.1)\n",
        "  # hp_desns_units = hp.Int('Dense_units', min_value=4, max_value=24, step=2)\n",
        "  # hp_learning_rate = hp.Float('Learning_rate', min_value=0.00001, max_value=0.0001, step=-10)\n",
        "\n",
        "\n",
        "  review_branch_ip = Input(shape=(100,), name='Review_input')\n",
        "  review_branch = embedding_layer(review_branch_ip)\n",
        "  review_branch = Dropout(hp_dropout)(review_branch)\n",
        "  review_branch = Bidirectional(\n",
        "      LSTM(hp_lstm_units, dropout=hp_lstm_dropout,recurrent_dropout=0)\n",
        "  )(review_branch)\n",
        "  review_branch = Dense(hp_lstm_units,activation='relu')(review_branch)\n",
        "  review_branch_op = Dense(16, activation='relu')(review_branch)\n",
        " \n",
        "\n",
        "\n",
        "  rating_branch_ip = Input(shape=(1,), name='Rating_input')\n",
        "  rating_branch = Dense(8,activation='relu')(rating_branch_ip)\n",
        "  rating_branch = Dropout(hp_dropout)(rating_branch)\n",
        "  rating_branch_op = Dense(16,activation='relu')(rating_branch)\n",
        "  \n",
        "\n",
        "\n",
        "\n",
        "  verified_purchase_branch_ip = Input(shape=(1,), name='Verified_Purchase_input')\n",
        "  verified_purchase_branch = Dense(8,activation='relu')(verified_purchase_branch_ip)\n",
        "  verified_purchase_branch = Dropout(hp_dropout)(verified_purchase_branch)\n",
        "  verified_purchase_branch_op = Dense(16,activation='relu')(verified_purchase_branch)\n",
        "\n",
        "\n",
        "  concat = concatenate([review_branch_op, rating_branch_op, verified_purchase_branch_op], name='Concatenate')\n",
        "\n",
        "\n",
        "  final_op = Dense(8, activation='relu')(concat)\n",
        "  final_output = Dense(1,activation='sigmoid')(final_op)\n",
        "\n",
        "  model = tf.keras.Model(inputs=[review_branch_ip,rating_branch_ip,verified_purchase_branch_ip], outputs=final_output,\n",
        "                      name='Final_output')\n",
        "\n",
        "  model.compile(optimizer=Adam(clipvalue=0.5) , \n",
        "               loss='binary_crossentropy', \n",
        "               metrics=['acc'])\n",
        "\n",
        "\n",
        "\n",
        "\n",
        "\n",
        "  return model"
      ],
      "execution_count": 86,
      "outputs": []
    },
    {
      "cell_type": "code",
      "metadata": {
        "id": "BuPXzA2agS3T"
      },
      "source": [
        "#Early stopping\n",
        "stop_early = tf.keras.callbacks.EarlyStopping(monitor='val_loss', patience=5)"
      ],
      "execution_count": 87,
      "outputs": []
    },
    {
      "cell_type": "markdown",
      "metadata": {
        "id": "6sMb_f_qggfE"
      },
      "source": [
        "<h5> Bayessian Hyperparameter Tunning </h5>"
      ]
    },
    {
      "cell_type": "code",
      "metadata": {
        "id": "DKEcs3Q0NNXP"
      },
      "source": [
        "# This class sets up our Bayesian Tuner and then possibility to check our model based on different batch sizes\n",
        "class MyTuner_Bayesian(kt.tuners.BayesianOptimization):\n",
        "  def run_trial(self, trial, *args, **kwargs):\n",
        "    \n",
        "    kwargs['batch_size'] = trial.hyperparameters.Int('batch_size', min_value=8, max_value=64, step=8) \n",
        "    \n",
        "    super(MyTuner_Bayesian, self).run_trial(trial, *args, **kwargs)\n",
        "   "
      ],
      "execution_count": 88,
      "outputs": []
    },
    {
      "cell_type": "code",
      "metadata": {
        "id": "YkoMX6cxNyal",
        "colab": {
          "base_uri": "https://localhost:8080/"
        },
        "outputId": "4fcb778d-811e-42a7-bf88-133b3def456e"
      },
      "source": [
        "b_tuner = MyTuner_Bayesian(model_builder,\n",
        "                objective='val_acc',\n",
        "                max_trials = 10,\n",
        "                directory='Bayesian_Tuner',\n",
        "                project_name='Bayesian_Amazon_reviews_tuner')"
      ],
      "execution_count": 89,
      "outputs": [
        {
          "output_type": "stream",
          "text": [
            "INFO:tensorflow:Reloading Oracle from existing project Bayesian_Tuner/Bayesian_Amazon_reviews_tuner/oracle.json\n"
          ],
          "name": "stdout"
        }
      ]
    },
    {
      "cell_type": "code",
      "metadata": {
        "id": "hPnfQoLfQF9K",
        "colab": {
          "base_uri": "https://localhost:8080/",
          "height": 616
        },
        "outputId": "9ad0d3d1-84a1-4cae-c014-39744dc9d85c"
      },
      "source": [
        "b_tuner.search([X_train_padded,train_rating,train_pursh], train_target, validation_data=([X_val_padded,valid_rating,valid_pursh], valid_target) , callbacks=[stop_early], epochs = 10)"
      ],
      "execution_count": 90,
      "outputs": [
        {
          "output_type": "stream",
          "text": [
            "Trial 14 Complete [00h 15m 52s]\n",
            "val_acc: 0.8047618865966797\n",
            "\n",
            "Best val_acc So Far: 0.808571457862854\n",
            "Total elapsed time: 01h 38m 10s\n",
            "\n",
            "Search: Running Trial #15\n",
            "\n",
            "Hyperparameter    |Value             |Best Value So Far \n",
            "Dropout           |0.5               |0.1               \n",
            "Lstm_units        |8                 |64                \n",
            "Lstm_Dropout      |0.5               |0.5               \n",
            "batch_size        |8                 |64                \n",
            "\n",
            "Epoch 1/10\n",
            "   5/2100 [..............................] - ETA: 1:32 - loss: 0.6849 - acc: 0.5250WARNING:tensorflow:Callback method `on_train_batch_end` is slow compared to the batch time (batch time: 0.0120s vs `on_train_batch_end` time: 0.0286s). Check your callbacks.\n",
            "  81/2100 [>.............................] - ETA: 1:31 - loss: 0.6268 - acc: 0.7284"
          ],
          "name": "stdout"
        },
        {
          "output_type": "error",
          "ename": "KeyboardInterrupt",
          "evalue": "ignored",
          "traceback": [
            "\u001b[0;31m---------------------------------------------------------------------------\u001b[0m",
            "\u001b[0;31mKeyboardInterrupt\u001b[0m                         Traceback (most recent call last)",
            "\u001b[0;32m<ipython-input-90-34b7faf2c84a>\u001b[0m in \u001b[0;36m<module>\u001b[0;34m()\u001b[0m\n\u001b[0;32m----> 1\u001b[0;31m \u001b[0mb_tuner\u001b[0m\u001b[0;34m.\u001b[0m\u001b[0msearch\u001b[0m\u001b[0;34m(\u001b[0m\u001b[0;34m[\u001b[0m\u001b[0mX_train_padded\u001b[0m\u001b[0;34m,\u001b[0m\u001b[0mtrain_rating\u001b[0m\u001b[0;34m,\u001b[0m\u001b[0mtrain_pursh\u001b[0m\u001b[0;34m]\u001b[0m\u001b[0;34m,\u001b[0m \u001b[0mtrain_target\u001b[0m\u001b[0;34m,\u001b[0m \u001b[0mvalidation_data\u001b[0m\u001b[0;34m=\u001b[0m\u001b[0;34m(\u001b[0m\u001b[0;34m[\u001b[0m\u001b[0mX_val_padded\u001b[0m\u001b[0;34m,\u001b[0m\u001b[0mvalid_rating\u001b[0m\u001b[0;34m,\u001b[0m\u001b[0mvalid_pursh\u001b[0m\u001b[0;34m]\u001b[0m\u001b[0;34m,\u001b[0m \u001b[0mvalid_target\u001b[0m\u001b[0;34m)\u001b[0m \u001b[0;34m,\u001b[0m \u001b[0mcallbacks\u001b[0m\u001b[0;34m=\u001b[0m\u001b[0;34m[\u001b[0m\u001b[0mstop_early\u001b[0m\u001b[0;34m]\u001b[0m\u001b[0;34m,\u001b[0m \u001b[0mepochs\u001b[0m \u001b[0;34m=\u001b[0m \u001b[0;36m10\u001b[0m\u001b[0;34m)\u001b[0m\u001b[0;34m\u001b[0m\u001b[0;34m\u001b[0m\u001b[0m\n\u001b[0m",
            "\u001b[0;32m/usr/local/lib/python3.7/dist-packages/keras_tuner/engine/base_tuner.py\u001b[0m in \u001b[0;36msearch\u001b[0;34m(self, *fit_args, **fit_kwargs)\u001b[0m\n\u001b[1;32m    142\u001b[0m \u001b[0;34m\u001b[0m\u001b[0m\n\u001b[1;32m    143\u001b[0m             \u001b[0mself\u001b[0m\u001b[0;34m.\u001b[0m\u001b[0mon_trial_begin\u001b[0m\u001b[0;34m(\u001b[0m\u001b[0mtrial\u001b[0m\u001b[0;34m)\u001b[0m\u001b[0;34m\u001b[0m\u001b[0;34m\u001b[0m\u001b[0m\n\u001b[0;32m--> 144\u001b[0;31m             \u001b[0mself\u001b[0m\u001b[0;34m.\u001b[0m\u001b[0mrun_trial\u001b[0m\u001b[0;34m(\u001b[0m\u001b[0mtrial\u001b[0m\u001b[0;34m,\u001b[0m \u001b[0;34m*\u001b[0m\u001b[0mfit_args\u001b[0m\u001b[0;34m,\u001b[0m \u001b[0;34m**\u001b[0m\u001b[0mfit_kwargs\u001b[0m\u001b[0;34m)\u001b[0m\u001b[0;34m\u001b[0m\u001b[0;34m\u001b[0m\u001b[0m\n\u001b[0m\u001b[1;32m    145\u001b[0m             \u001b[0mself\u001b[0m\u001b[0;34m.\u001b[0m\u001b[0mon_trial_end\u001b[0m\u001b[0;34m(\u001b[0m\u001b[0mtrial\u001b[0m\u001b[0;34m)\u001b[0m\u001b[0;34m\u001b[0m\u001b[0;34m\u001b[0m\u001b[0m\n\u001b[1;32m    146\u001b[0m         \u001b[0mself\u001b[0m\u001b[0;34m.\u001b[0m\u001b[0mon_search_end\u001b[0m\u001b[0;34m(\u001b[0m\u001b[0;34m)\u001b[0m\u001b[0;34m\u001b[0m\u001b[0;34m\u001b[0m\u001b[0m\n",
            "\u001b[0;32m<ipython-input-88-c02af7598c5b>\u001b[0m in \u001b[0;36mrun_trial\u001b[0;34m(self, trial, *args, **kwargs)\u001b[0m\n\u001b[1;32m      5\u001b[0m     \u001b[0mkwargs\u001b[0m\u001b[0;34m[\u001b[0m\u001b[0;34m'batch_size'\u001b[0m\u001b[0;34m]\u001b[0m \u001b[0;34m=\u001b[0m \u001b[0mtrial\u001b[0m\u001b[0;34m.\u001b[0m\u001b[0mhyperparameters\u001b[0m\u001b[0;34m.\u001b[0m\u001b[0mInt\u001b[0m\u001b[0;34m(\u001b[0m\u001b[0;34m'batch_size'\u001b[0m\u001b[0;34m,\u001b[0m \u001b[0mmin_value\u001b[0m\u001b[0;34m=\u001b[0m\u001b[0;36m8\u001b[0m\u001b[0;34m,\u001b[0m \u001b[0mmax_value\u001b[0m\u001b[0;34m=\u001b[0m\u001b[0;36m64\u001b[0m\u001b[0;34m,\u001b[0m \u001b[0mstep\u001b[0m\u001b[0;34m=\u001b[0m\u001b[0;36m8\u001b[0m\u001b[0;34m)\u001b[0m\u001b[0;34m\u001b[0m\u001b[0;34m\u001b[0m\u001b[0m\n\u001b[1;32m      6\u001b[0m \u001b[0;34m\u001b[0m\u001b[0m\n\u001b[0;32m----> 7\u001b[0;31m     \u001b[0msuper\u001b[0m\u001b[0;34m(\u001b[0m\u001b[0mMyTuner_Bayesian\u001b[0m\u001b[0;34m,\u001b[0m \u001b[0mself\u001b[0m\u001b[0;34m)\u001b[0m\u001b[0;34m.\u001b[0m\u001b[0mrun_trial\u001b[0m\u001b[0;34m(\u001b[0m\u001b[0mtrial\u001b[0m\u001b[0;34m,\u001b[0m \u001b[0;34m*\u001b[0m\u001b[0margs\u001b[0m\u001b[0;34m,\u001b[0m \u001b[0;34m**\u001b[0m\u001b[0mkwargs\u001b[0m\u001b[0;34m)\u001b[0m\u001b[0;34m\u001b[0m\u001b[0;34m\u001b[0m\u001b[0m\n\u001b[0m\u001b[1;32m      8\u001b[0m \u001b[0;34m\u001b[0m\u001b[0m\n",
            "\u001b[0;32m/usr/local/lib/python3.7/dist-packages/keras_tuner/engine/multi_execution_tuner.py\u001b[0m in \u001b[0;36mrun_trial\u001b[0;34m(self, trial, *fit_args, **fit_kwargs)\u001b[0m\n\u001b[1;32m     88\u001b[0m             \u001b[0mcopied_fit_kwargs\u001b[0m\u001b[0;34m[\u001b[0m\u001b[0;34m\"callbacks\"\u001b[0m\u001b[0;34m]\u001b[0m \u001b[0;34m=\u001b[0m \u001b[0mcallbacks\u001b[0m\u001b[0;34m\u001b[0m\u001b[0;34m\u001b[0m\u001b[0m\n\u001b[1;32m     89\u001b[0m \u001b[0;34m\u001b[0m\u001b[0m\n\u001b[0;32m---> 90\u001b[0;31m             \u001b[0mhistory\u001b[0m \u001b[0;34m=\u001b[0m \u001b[0mself\u001b[0m\u001b[0;34m.\u001b[0m\u001b[0m_build_and_fit_model\u001b[0m\u001b[0;34m(\u001b[0m\u001b[0mtrial\u001b[0m\u001b[0;34m,\u001b[0m \u001b[0mfit_args\u001b[0m\u001b[0;34m,\u001b[0m \u001b[0mcopied_fit_kwargs\u001b[0m\u001b[0;34m)\u001b[0m\u001b[0;34m\u001b[0m\u001b[0;34m\u001b[0m\u001b[0m\n\u001b[0m\u001b[1;32m     91\u001b[0m             \u001b[0;32mfor\u001b[0m \u001b[0mmetric\u001b[0m\u001b[0;34m,\u001b[0m \u001b[0mepoch_values\u001b[0m \u001b[0;32min\u001b[0m \u001b[0mhistory\u001b[0m\u001b[0;34m.\u001b[0m\u001b[0mhistory\u001b[0m\u001b[0;34m.\u001b[0m\u001b[0mitems\u001b[0m\u001b[0;34m(\u001b[0m\u001b[0;34m)\u001b[0m\u001b[0;34m:\u001b[0m\u001b[0;34m\u001b[0m\u001b[0;34m\u001b[0m\u001b[0m\n\u001b[1;32m     92\u001b[0m                 \u001b[0;32mif\u001b[0m \u001b[0mself\u001b[0m\u001b[0;34m.\u001b[0m\u001b[0moracle\u001b[0m\u001b[0;34m.\u001b[0m\u001b[0mobjective\u001b[0m\u001b[0;34m.\u001b[0m\u001b[0mdirection\u001b[0m \u001b[0;34m==\u001b[0m \u001b[0;34m\"min\"\u001b[0m\u001b[0;34m:\u001b[0m\u001b[0;34m\u001b[0m\u001b[0;34m\u001b[0m\u001b[0m\n",
            "\u001b[0;32m/usr/local/lib/python3.7/dist-packages/keras_tuner/engine/tuner.py\u001b[0m in \u001b[0;36m_build_and_fit_model\u001b[0;34m(self, trial, fit_args, fit_kwargs)\u001b[0m\n\u001b[1;32m    145\u001b[0m         \"\"\"\n\u001b[1;32m    146\u001b[0m         \u001b[0mmodel\u001b[0m \u001b[0;34m=\u001b[0m \u001b[0mself\u001b[0m\u001b[0;34m.\u001b[0m\u001b[0mhypermodel\u001b[0m\u001b[0;34m.\u001b[0m\u001b[0mbuild\u001b[0m\u001b[0;34m(\u001b[0m\u001b[0mtrial\u001b[0m\u001b[0;34m.\u001b[0m\u001b[0mhyperparameters\u001b[0m\u001b[0;34m)\u001b[0m\u001b[0;34m\u001b[0m\u001b[0;34m\u001b[0m\u001b[0m\n\u001b[0;32m--> 147\u001b[0;31m         \u001b[0;32mreturn\u001b[0m \u001b[0mmodel\u001b[0m\u001b[0;34m.\u001b[0m\u001b[0mfit\u001b[0m\u001b[0;34m(\u001b[0m\u001b[0;34m*\u001b[0m\u001b[0mfit_args\u001b[0m\u001b[0;34m,\u001b[0m \u001b[0;34m**\u001b[0m\u001b[0mfit_kwargs\u001b[0m\u001b[0;34m)\u001b[0m\u001b[0;34m\u001b[0m\u001b[0;34m\u001b[0m\u001b[0m\n\u001b[0m\u001b[1;32m    148\u001b[0m \u001b[0;34m\u001b[0m\u001b[0m\n\u001b[1;32m    149\u001b[0m     \u001b[0;32mdef\u001b[0m \u001b[0mrun_trial\u001b[0m\u001b[0;34m(\u001b[0m\u001b[0mself\u001b[0m\u001b[0;34m,\u001b[0m \u001b[0mtrial\u001b[0m\u001b[0;34m,\u001b[0m \u001b[0;34m*\u001b[0m\u001b[0mfit_args\u001b[0m\u001b[0;34m,\u001b[0m \u001b[0;34m**\u001b[0m\u001b[0mfit_kwargs\u001b[0m\u001b[0;34m)\u001b[0m\u001b[0;34m:\u001b[0m\u001b[0;34m\u001b[0m\u001b[0;34m\u001b[0m\u001b[0m\n",
            "\u001b[0;32m/usr/local/lib/python3.7/dist-packages/tensorflow/python/keras/engine/training.py\u001b[0m in \u001b[0;36mfit\u001b[0;34m(self, x, y, batch_size, epochs, verbose, callbacks, validation_split, validation_data, shuffle, class_weight, sample_weight, initial_epoch, steps_per_epoch, validation_steps, validation_batch_size, validation_freq, max_queue_size, workers, use_multiprocessing)\u001b[0m\n\u001b[1;32m   1181\u001b[0m                 _r=1):\n\u001b[1;32m   1182\u001b[0m               \u001b[0mcallbacks\u001b[0m\u001b[0;34m.\u001b[0m\u001b[0mon_train_batch_begin\u001b[0m\u001b[0;34m(\u001b[0m\u001b[0mstep\u001b[0m\u001b[0;34m)\u001b[0m\u001b[0;34m\u001b[0m\u001b[0;34m\u001b[0m\u001b[0m\n\u001b[0;32m-> 1183\u001b[0;31m               \u001b[0mtmp_logs\u001b[0m \u001b[0;34m=\u001b[0m \u001b[0mself\u001b[0m\u001b[0;34m.\u001b[0m\u001b[0mtrain_function\u001b[0m\u001b[0;34m(\u001b[0m\u001b[0miterator\u001b[0m\u001b[0;34m)\u001b[0m\u001b[0;34m\u001b[0m\u001b[0;34m\u001b[0m\u001b[0m\n\u001b[0m\u001b[1;32m   1184\u001b[0m               \u001b[0;32mif\u001b[0m \u001b[0mdata_handler\u001b[0m\u001b[0;34m.\u001b[0m\u001b[0mshould_sync\u001b[0m\u001b[0;34m:\u001b[0m\u001b[0;34m\u001b[0m\u001b[0;34m\u001b[0m\u001b[0m\n\u001b[1;32m   1185\u001b[0m                 \u001b[0mcontext\u001b[0m\u001b[0;34m.\u001b[0m\u001b[0masync_wait\u001b[0m\u001b[0;34m(\u001b[0m\u001b[0;34m)\u001b[0m\u001b[0;34m\u001b[0m\u001b[0;34m\u001b[0m\u001b[0m\n",
            "\u001b[0;32m/usr/local/lib/python3.7/dist-packages/tensorflow/python/eager/def_function.py\u001b[0m in \u001b[0;36m__call__\u001b[0;34m(self, *args, **kwds)\u001b[0m\n\u001b[1;32m    887\u001b[0m \u001b[0;34m\u001b[0m\u001b[0m\n\u001b[1;32m    888\u001b[0m       \u001b[0;32mwith\u001b[0m \u001b[0mOptionalXlaContext\u001b[0m\u001b[0;34m(\u001b[0m\u001b[0mself\u001b[0m\u001b[0;34m.\u001b[0m\u001b[0m_jit_compile\u001b[0m\u001b[0;34m)\u001b[0m\u001b[0;34m:\u001b[0m\u001b[0;34m\u001b[0m\u001b[0;34m\u001b[0m\u001b[0m\n\u001b[0;32m--> 889\u001b[0;31m         \u001b[0mresult\u001b[0m \u001b[0;34m=\u001b[0m \u001b[0mself\u001b[0m\u001b[0;34m.\u001b[0m\u001b[0m_call\u001b[0m\u001b[0;34m(\u001b[0m\u001b[0;34m*\u001b[0m\u001b[0margs\u001b[0m\u001b[0;34m,\u001b[0m \u001b[0;34m**\u001b[0m\u001b[0mkwds\u001b[0m\u001b[0;34m)\u001b[0m\u001b[0;34m\u001b[0m\u001b[0;34m\u001b[0m\u001b[0m\n\u001b[0m\u001b[1;32m    890\u001b[0m \u001b[0;34m\u001b[0m\u001b[0m\n\u001b[1;32m    891\u001b[0m       \u001b[0mnew_tracing_count\u001b[0m \u001b[0;34m=\u001b[0m \u001b[0mself\u001b[0m\u001b[0;34m.\u001b[0m\u001b[0mexperimental_get_tracing_count\u001b[0m\u001b[0;34m(\u001b[0m\u001b[0;34m)\u001b[0m\u001b[0;34m\u001b[0m\u001b[0;34m\u001b[0m\u001b[0m\n",
            "\u001b[0;32m/usr/local/lib/python3.7/dist-packages/tensorflow/python/eager/def_function.py\u001b[0m in \u001b[0;36m_call\u001b[0;34m(self, *args, **kwds)\u001b[0m\n\u001b[1;32m    915\u001b[0m       \u001b[0;31m# In this case we have created variables on the first call, so we run the\u001b[0m\u001b[0;34m\u001b[0m\u001b[0;34m\u001b[0m\u001b[0;34m\u001b[0m\u001b[0m\n\u001b[1;32m    916\u001b[0m       \u001b[0;31m# defunned version which is guaranteed to never create variables.\u001b[0m\u001b[0;34m\u001b[0m\u001b[0;34m\u001b[0m\u001b[0;34m\u001b[0m\u001b[0m\n\u001b[0;32m--> 917\u001b[0;31m       \u001b[0;32mreturn\u001b[0m \u001b[0mself\u001b[0m\u001b[0;34m.\u001b[0m\u001b[0m_stateless_fn\u001b[0m\u001b[0;34m(\u001b[0m\u001b[0;34m*\u001b[0m\u001b[0margs\u001b[0m\u001b[0;34m,\u001b[0m \u001b[0;34m**\u001b[0m\u001b[0mkwds\u001b[0m\u001b[0;34m)\u001b[0m  \u001b[0;31m# pylint: disable=not-callable\u001b[0m\u001b[0;34m\u001b[0m\u001b[0;34m\u001b[0m\u001b[0m\n\u001b[0m\u001b[1;32m    918\u001b[0m     \u001b[0;32melif\u001b[0m \u001b[0mself\u001b[0m\u001b[0;34m.\u001b[0m\u001b[0m_stateful_fn\u001b[0m \u001b[0;32mis\u001b[0m \u001b[0;32mnot\u001b[0m \u001b[0;32mNone\u001b[0m\u001b[0;34m:\u001b[0m\u001b[0;34m\u001b[0m\u001b[0;34m\u001b[0m\u001b[0m\n\u001b[1;32m    919\u001b[0m       \u001b[0;31m# Release the lock early so that multiple threads can perform the call\u001b[0m\u001b[0;34m\u001b[0m\u001b[0;34m\u001b[0m\u001b[0;34m\u001b[0m\u001b[0m\n",
            "\u001b[0;32m/usr/local/lib/python3.7/dist-packages/tensorflow/python/eager/function.py\u001b[0m in \u001b[0;36m__call__\u001b[0;34m(self, *args, **kwargs)\u001b[0m\n\u001b[1;32m   3022\u001b[0m        filtered_flat_args) = self._maybe_define_function(args, kwargs)\n\u001b[1;32m   3023\u001b[0m     return graph_function._call_flat(\n\u001b[0;32m-> 3024\u001b[0;31m         filtered_flat_args, captured_inputs=graph_function.captured_inputs)  # pylint: disable=protected-access\n\u001b[0m\u001b[1;32m   3025\u001b[0m \u001b[0;34m\u001b[0m\u001b[0m\n\u001b[1;32m   3026\u001b[0m   \u001b[0;34m@\u001b[0m\u001b[0mproperty\u001b[0m\u001b[0;34m\u001b[0m\u001b[0;34m\u001b[0m\u001b[0m\n",
            "\u001b[0;32m/usr/local/lib/python3.7/dist-packages/tensorflow/python/eager/function.py\u001b[0m in \u001b[0;36m_call_flat\u001b[0;34m(self, args, captured_inputs, cancellation_manager)\u001b[0m\n\u001b[1;32m   1959\u001b[0m       \u001b[0;31m# No tape is watching; skip to running the function.\u001b[0m\u001b[0;34m\u001b[0m\u001b[0;34m\u001b[0m\u001b[0;34m\u001b[0m\u001b[0m\n\u001b[1;32m   1960\u001b[0m       return self._build_call_outputs(self._inference_function.call(\n\u001b[0;32m-> 1961\u001b[0;31m           ctx, args, cancellation_manager=cancellation_manager))\n\u001b[0m\u001b[1;32m   1962\u001b[0m     forward_backward = self._select_forward_and_backward_functions(\n\u001b[1;32m   1963\u001b[0m         \u001b[0margs\u001b[0m\u001b[0;34m,\u001b[0m\u001b[0;34m\u001b[0m\u001b[0;34m\u001b[0m\u001b[0m\n",
            "\u001b[0;32m/usr/local/lib/python3.7/dist-packages/tensorflow/python/eager/function.py\u001b[0m in \u001b[0;36mcall\u001b[0;34m(self, ctx, args, cancellation_manager)\u001b[0m\n\u001b[1;32m    594\u001b[0m               \u001b[0minputs\u001b[0m\u001b[0;34m=\u001b[0m\u001b[0margs\u001b[0m\u001b[0;34m,\u001b[0m\u001b[0;34m\u001b[0m\u001b[0;34m\u001b[0m\u001b[0m\n\u001b[1;32m    595\u001b[0m               \u001b[0mattrs\u001b[0m\u001b[0;34m=\u001b[0m\u001b[0mattrs\u001b[0m\u001b[0;34m,\u001b[0m\u001b[0;34m\u001b[0m\u001b[0;34m\u001b[0m\u001b[0m\n\u001b[0;32m--> 596\u001b[0;31m               ctx=ctx)\n\u001b[0m\u001b[1;32m    597\u001b[0m         \u001b[0;32melse\u001b[0m\u001b[0;34m:\u001b[0m\u001b[0;34m\u001b[0m\u001b[0;34m\u001b[0m\u001b[0m\n\u001b[1;32m    598\u001b[0m           outputs = execute.execute_with_cancellation(\n",
            "\u001b[0;32m/usr/local/lib/python3.7/dist-packages/tensorflow/python/eager/execute.py\u001b[0m in \u001b[0;36mquick_execute\u001b[0;34m(op_name, num_outputs, inputs, attrs, ctx, name)\u001b[0m\n\u001b[1;32m     58\u001b[0m     \u001b[0mctx\u001b[0m\u001b[0;34m.\u001b[0m\u001b[0mensure_initialized\u001b[0m\u001b[0;34m(\u001b[0m\u001b[0;34m)\u001b[0m\u001b[0;34m\u001b[0m\u001b[0;34m\u001b[0m\u001b[0m\n\u001b[1;32m     59\u001b[0m     tensors = pywrap_tfe.TFE_Py_Execute(ctx._handle, device_name, op_name,\n\u001b[0;32m---> 60\u001b[0;31m                                         inputs, attrs, num_outputs)\n\u001b[0m\u001b[1;32m     61\u001b[0m   \u001b[0;32mexcept\u001b[0m \u001b[0mcore\u001b[0m\u001b[0;34m.\u001b[0m\u001b[0m_NotOkStatusException\u001b[0m \u001b[0;32mas\u001b[0m \u001b[0me\u001b[0m\u001b[0;34m:\u001b[0m\u001b[0;34m\u001b[0m\u001b[0;34m\u001b[0m\u001b[0m\n\u001b[1;32m     62\u001b[0m     \u001b[0;32mif\u001b[0m \u001b[0mname\u001b[0m \u001b[0;32mis\u001b[0m \u001b[0;32mnot\u001b[0m \u001b[0;32mNone\u001b[0m\u001b[0;34m:\u001b[0m\u001b[0;34m\u001b[0m\u001b[0;34m\u001b[0m\u001b[0m\n",
            "\u001b[0;31mKeyboardInterrupt\u001b[0m: "
          ]
        }
      ]
    },
    {
      "cell_type": "code",
      "metadata": {
        "id": "rUwU5VFFg36F",
        "colab": {
          "base_uri": "https://localhost:8080/"
        },
        "outputId": "0a346ffa-2937-4184-b044-3ea7454def42"
      },
      "source": [
        "# Get the optimal hyperparameters\n",
        "best_b_hps=b_tuner.get_best_hyperparameters(num_trials=1)[0]\n",
        "\n",
        "#Display the best hyperparameter that perfomed better based on the Bayesian Tuner\n",
        "print(f\"\"\"\n",
        "The hyperparameter search is complete. \n",
        "Dropout: {best_b_hps.get('Dropout')} ,\n",
        "Batch_size: {best_b_hps.get('batch_size')},\n",
        "Lstm_units: {best_b_hps.get('Lstm_units')} ,\n",
        "Lstm_Dropout: {best_b_hps.get('Lstm_Dropout')}  \n",
        "\"\"\")"
      ],
      "execution_count": 91,
      "outputs": [
        {
          "output_type": "stream",
          "text": [
            "\n",
            "The hyperparameter search is complete. \n",
            "Dropout: 0.1 ,\n",
            "Batch_size: 64,\n",
            "Lstm_units: 64 ,\n",
            "Lstm_Dropout: 0.5  \n",
            "\n"
          ],
          "name": "stdout"
        }
      ]
    },
    {
      "cell_type": "markdown",
      "metadata": {
        "id": "xsEzS2nigwN5"
      },
      "source": [
        "<h5> Hyperband Hyperparameter Tunning </h5>"
      ]
    },
    {
      "cell_type": "code",
      "metadata": {
        "id": "Yng01-9uxRod"
      },
      "source": [
        "class MyTuner_Hyperband(kt.tuners.Hyperband):\n",
        "  def run_trial(self, trial, *args, **kwargs):\n",
        "    # You can add additional HyperParameters for preprocessing and custom training loops\n",
        "    # via overriding `run_trial`\n",
        "    kwargs['batch_size'] = trial.hyperparameters.Int('batch_size', min_value=8, max_value=64, step=8) #USE 16 \n",
        "    # kwargs['epochs'] = trial.hyperparameters.Int('epochs', min_value=5, max_value=15, step=5) #Int('epochs', 10, 20)\n",
        "    super(MyTuner_Hyperband, self).run_trial(trial, *args, **kwargs) "
      ],
      "execution_count": 92,
      "outputs": []
    },
    {
      "cell_type": "code",
      "metadata": {
        "id": "W2rq059iwfZx"
      },
      "source": [
        "h_tuner = MyTuner_Hyperband(model_builder,\n",
        "                     objective='val_acc',\n",
        "                     max_epochs=10,\n",
        "                     factor=3,\n",
        "                     directory='Hyperband_Tuner',\n",
        "                     project_name='Hyperband_Amazon_reviews_tuner')"
      ],
      "execution_count": 93,
      "outputs": []
    },
    {
      "cell_type": "code",
      "metadata": {
        "id": "GfKtUFYXxc-n",
        "colab": {
          "base_uri": "https://localhost:8080/"
        },
        "outputId": "e447750c-3b21-48ba-ada9-aff3398fb5ac"
      },
      "source": [
        "h_tuner.search([X_train_padded,train_rating,train_pursh], train_target, validation_data=([X_val_padded,valid_rating,valid_pursh], valid_target) , callbacks=[stop_early], epochs = 10) "
      ],
      "execution_count": 94,
      "outputs": [
        {
          "output_type": "stream",
          "text": [
            "Trial 30 Complete [00h 02m 16s]\n",
            "val_acc: 0.7976190447807312\n",
            "\n",
            "Best val_acc So Far: 0.808571457862854\n",
            "Total elapsed time: 01h 06m 33s\n",
            "INFO:tensorflow:Oracle triggered exit\n"
          ],
          "name": "stdout"
        }
      ]
    },
    {
      "cell_type": "code",
      "metadata": {
        "id": "zGRmpNx5ho7m",
        "colab": {
          "base_uri": "https://localhost:8080/"
        },
        "outputId": "d6760171-f6d0-49b4-cf63-2b443dcc8f96"
      },
      "source": [
        "# Get the optimal hyperparameters\n",
        "best_h_hps=b_tuner.get_best_hyperparameters(num_trials=1)[0]\n",
        "\n",
        "#Display the best hyperparameter that perfomed better based on the Bayesian Tuner\n",
        "print(f\"\"\"\n",
        "The hyperparameter search is complete. \n",
        "Dropout: {best_h_hps.get('Dropout')} ,\n",
        "Batch_size: {best_h_hps.get('batch_size')},\n",
        "Lstm_units: {best_h_hps.get('Lstm_units')} ,\n",
        "Lstm_Dropout: {best_h_hps.get('Lstm_Dropout')}  \n",
        "\"\"\")"
      ],
      "execution_count": 100,
      "outputs": [
        {
          "output_type": "stream",
          "text": [
            "\n",
            "The hyperparameter search is complete. \n",
            "Dropout: 0.1 ,\n",
            "Batch_size: 64,\n",
            "Lstm_units: 64 ,\n",
            "Lstm_Dropout: 0.5  \n",
            "\n"
          ],
          "name": "stdout"
        }
      ]
    },
    {
      "cell_type": "markdown",
      "metadata": {
        "id": "US47rJWhllLt"
      },
      "source": [
        "<h5>Final Model</h5>\n",
        "\n",
        "We observe that both hyperaparameter tuning algorithms converge on the same validation accuracy.\n",
        "\n",
        "In order to finalize our model based on the hyperparameter results we are going to use the ones that we found from the Hyperband algorithm."
      ]
    },
    {
      "cell_type": "code",
      "metadata": {
        "id": "KpqZhjK3mq8K"
      },
      "source": [
        "dropout = best_h_hps.get('Dropout')\n",
        "lstm_units = best_h_hps.get('Lstm_units')\n",
        "lstm_dropout = best_h_hps.get('Lstm_Dropout')\n",
        "batch_size  = best_h_hps.get('batch_size')\n"
      ],
      "execution_count": 105,
      "outputs": []
    },
    {
      "cell_type": "code",
      "metadata": {
        "id": "tRRab9SIl8lh"
      },
      "source": [
        "review_branch_ip = Input(shape=(100,), name='Review_input')\n",
        "review_branch = embedding_layer(review_branch_ip)\n",
        "review_branch = Dropout(dropout)(review_branch)\n",
        "review_branch = Bidirectional(\n",
        "    LSTM(lstm_units, dropout=lstm_dropout,recurrent_dropout=0)\n",
        ")(review_branch)\n",
        "review_branch = Dense(lstm_units,activation='relu')(review_branch)\n",
        "review_branch_op = Dense(16, activation='relu')(review_branch)\n",
        "\n",
        "\n",
        "\n",
        "rating_branch_ip = Input(shape=(1,), name='Rating_input')\n",
        "rating_branch = Dense(8,activation='relu')(rating_branch_ip)\n",
        "rating_branch = Dropout(dropout)(rating_branch)\n",
        "rating_branch_op = Dense(16,activation='relu')(rating_branch)\n",
        "\n",
        "\n",
        "\n",
        "\n",
        "verified_purchase_branch_ip = Input(shape=(1,), name='Verified_Purchase_input')\n",
        "verified_purchase_branch = Dense(8,activation='relu')(verified_purchase_branch_ip)\n",
        "verified_purchase_branch = Dropout(dropout)(verified_purchase_branch)\n",
        "verified_purchase_branch_op = Dense(16,activation='relu')(verified_purchase_branch)\n",
        "\n",
        "\n",
        "concat = concatenate([review_branch_op, rating_branch_op, verified_purchase_branch_op], name='Concatenate')\n",
        "\n",
        "\n",
        "final_op = Dense(8, activation='relu')(concat)\n",
        "final_output = Dense(1,activation='sigmoid')(final_op)\n",
        "\n",
        "model = Model(inputs=[review_branch_ip,rating_branch_ip,verified_purchase_branch_ip], outputs=final_output,\n",
        "                name='Final_output')"
      ],
      "execution_count": 109,
      "outputs": []
    },
    {
      "cell_type": "code",
      "metadata": {
        "id": "sAOJG09jaNIx"
      },
      "source": [
        "# We compile with Adam and binary crossentropy loss \n",
        "# clipvalue to avoid the gradient exploding\n",
        "model.compile(optimizer=Adam(clipvalue=0.5) , \n",
        "              loss='binary_crossentropy', \n",
        "              metrics=['acc'])"
      ],
      "execution_count": 111,
      "outputs": []
    },
    {
      "cell_type": "code",
      "metadata": {
        "colab": {
          "base_uri": "https://localhost:8080/"
        },
        "id": "lHBN7Z7caO5l",
        "outputId": "a9f8ad13-3aea-4c53-b3b0-0d31fdf1d387"
      },
      "source": [
        "model.summary()"
      ],
      "execution_count": 112,
      "outputs": [
        {
          "output_type": "stream",
          "text": [
            "Model: \"Final_output\"\n",
            "__________________________________________________________________________________________________\n",
            "Layer (type)                    Output Shape         Param #     Connected to                     \n",
            "==================================================================================================\n",
            "Review_input (InputLayer)       [(None, 100)]        0                                            \n",
            "__________________________________________________________________________________________________\n",
            "embedding (Embedding)           (None, 100, 100)     4094100     Review_input[0][0]               \n",
            "__________________________________________________________________________________________________\n",
            "dropout_3 (Dropout)             (None, 100, 100)     0           embedding[0][0]                  \n",
            "__________________________________________________________________________________________________\n",
            "Rating_input (InputLayer)       [(None, 1)]          0                                            \n",
            "__________________________________________________________________________________________________\n",
            "Verified_Purchase_input (InputL [(None, 1)]          0                                            \n",
            "__________________________________________________________________________________________________\n",
            "bidirectional_1 (Bidirectional) (None, 128)          84480       dropout_3[0][0]                  \n",
            "__________________________________________________________________________________________________\n",
            "dense_10 (Dense)                (None, 8)            16          Rating_input[0][0]               \n",
            "__________________________________________________________________________________________________\n",
            "dense_12 (Dense)                (None, 8)            16          Verified_Purchase_input[0][0]    \n",
            "__________________________________________________________________________________________________\n",
            "dense_8 (Dense)                 (None, 64)           8256        bidirectional_1[0][0]            \n",
            "__________________________________________________________________________________________________\n",
            "dropout_4 (Dropout)             (None, 8)            0           dense_10[0][0]                   \n",
            "__________________________________________________________________________________________________\n",
            "dropout_5 (Dropout)             (None, 8)            0           dense_12[0][0]                   \n",
            "__________________________________________________________________________________________________\n",
            "dense_9 (Dense)                 (None, 16)           1040        dense_8[0][0]                    \n",
            "__________________________________________________________________________________________________\n",
            "dense_11 (Dense)                (None, 16)           144         dropout_4[0][0]                  \n",
            "__________________________________________________________________________________________________\n",
            "dense_13 (Dense)                (None, 16)           144         dropout_5[0][0]                  \n",
            "__________________________________________________________________________________________________\n",
            "Concatenate (Concatenate)       (None, 48)           0           dense_9[0][0]                    \n",
            "                                                                 dense_11[0][0]                   \n",
            "                                                                 dense_13[0][0]                   \n",
            "__________________________________________________________________________________________________\n",
            "dense_14 (Dense)                (None, 8)            392         Concatenate[0][0]                \n",
            "__________________________________________________________________________________________________\n",
            "dense_15 (Dense)                (None, 1)            9           dense_14[0][0]                   \n",
            "==================================================================================================\n",
            "Total params: 4,188,597\n",
            "Trainable params: 94,497\n",
            "Non-trainable params: 4,094,100\n",
            "__________________________________________________________________________________________________\n"
          ],
          "name": "stdout"
        }
      ]
    },
    {
      "cell_type": "code",
      "metadata": {
        "colab": {
          "base_uri": "https://localhost:8080/"
        },
        "id": "98loSAefZ938",
        "outputId": "abab0b61-434f-4fac-f411-42b3da7b22fe"
      },
      "source": [
        "stop_early_model = tf.keras.callbacks.EarlyStopping(monitor='val_loss', patience=3)\n",
        "history = model.fit([X_train_padded,train_rating,train_pursh], train_target, batch_size=batch_size,epochs=10, validation_data=([X_val_padded,valid_rating,valid_pursh], valid_target),callbacks=[stop_early_model])"
      ],
      "execution_count": 113,
      "outputs": [
        {
          "output_type": "stream",
          "text": [
            "Epoch 1/10\n",
            "263/263 [==============================] - 20s 57ms/step - loss: 0.6226 - acc: 0.6648 - val_loss: 0.5115 - val_acc: 0.7824\n",
            "Epoch 2/10\n",
            "263/263 [==============================] - 13s 50ms/step - loss: 0.5084 - acc: 0.7780 - val_loss: 0.4810 - val_acc: 0.7838\n",
            "Epoch 3/10\n",
            "263/263 [==============================] - 13s 49ms/step - loss: 0.4860 - acc: 0.7812 - val_loss: 0.4654 - val_acc: 0.7919\n",
            "Epoch 4/10\n",
            "263/263 [==============================] - 13s 49ms/step - loss: 0.4656 - acc: 0.7970 - val_loss: 0.4683 - val_acc: 0.7981\n",
            "Epoch 5/10\n",
            "263/263 [==============================] - 13s 50ms/step - loss: 0.4682 - acc: 0.7911 - val_loss: 0.4642 - val_acc: 0.7971\n",
            "Epoch 6/10\n",
            "263/263 [==============================] - 13s 50ms/step - loss: 0.4622 - acc: 0.7962 - val_loss: 0.4606 - val_acc: 0.8010\n",
            "Epoch 7/10\n",
            "263/263 [==============================] - 13s 49ms/step - loss: 0.4463 - acc: 0.8040 - val_loss: 0.4585 - val_acc: 0.7971\n",
            "Epoch 8/10\n",
            "263/263 [==============================] - 13s 49ms/step - loss: 0.4399 - acc: 0.8072 - val_loss: 0.4624 - val_acc: 0.8005\n",
            "Epoch 9/10\n",
            "263/263 [==============================] - 13s 50ms/step - loss: 0.4393 - acc: 0.8084 - val_loss: 0.4541 - val_acc: 0.8029\n",
            "Epoch 10/10\n",
            "263/263 [==============================] - 13s 49ms/step - loss: 0.4312 - acc: 0.8145 - val_loss: 0.4667 - val_acc: 0.7981\n"
          ],
          "name": "stdout"
        }
      ]
    },
    {
      "cell_type": "markdown",
      "metadata": {
        "id": "2-eGSKghhGbC"
      },
      "source": [
        "<h5>Plotting the results</h5>"
      ]
    },
    {
      "cell_type": "code",
      "metadata": {
        "id": "RM4AM6M0kpWn",
        "colab": {
          "base_uri": "https://localhost:8080/",
          "height": 388
        },
        "outputId": "b664b35c-f7d9-4007-9d8c-0a97ee54d689"
      },
      "source": [
        "plt.figure(figsize=(16, 6))\n",
        "plt.subplot(1, 2, 1)\n",
        "plot_graphs(history, 'acc')\n",
        "plt.subplot(1, 2, 2)\n",
        "plot_graphs(history, 'loss')"
      ],
      "execution_count": 114,
      "outputs": [
        {
          "output_type": "display_data",
          "data": {
            "image/png": "[encoded data removed]",
            "text/plain": [
              "<Figure size 1152x432 with 2 Axes>"
            ]
          },
          "metadata": {
            "tags": [],
            "needs_background": "light"
          }
        }
      ]
    },
    {
      "cell_type": "markdown",
      "metadata": {
        "id": "Zs4ZPBaghEYc"
      },
      "source": [
        "<h5>Evaluate the model</h5>"
      ]
    },
    {
      "cell_type": "code",
      "metadata": {
        "colab": {
          "base_uri": "https://localhost:8080/"
        },
        "id": "KNbTEJalgncI",
        "outputId": "11cf5075-8e4d-4268-b09b-abf95d85f0ad"
      },
      "source": [
        "model.evaluate([X_test_padded,test_rating,test_pursh], test_target, verbose=2)"
      ],
      "execution_count": 116,
      "outputs": [
        {
          "output_type": "stream",
          "text": [
            "66/66 - 1s - loss: 0.4636 - acc: 0.8110\n"
          ],
          "name": "stdout"
        },
        {
          "output_type": "execute_result",
          "data": {
            "text/plain": [
              "[0.4636394679546356, 0.810952365398407]"
            ]
          },
          "metadata": {
            "tags": []
          },
          "execution_count": 116
        }
      ]
    },
    {
      "cell_type": "markdown",
      "metadata": {
        "id": "Yo7ga1yehWam"
      },
      "source": [
        "Save the model"
      ]
    },
    {
      "cell_type": "code",
      "metadata": {
        "id": "aHbUlxWEgzeH"
      },
      "source": [
        "model.save('w2vblstm.h5') "
      ],
      "execution_count": 117,
      "outputs": []
    }
  ]
}