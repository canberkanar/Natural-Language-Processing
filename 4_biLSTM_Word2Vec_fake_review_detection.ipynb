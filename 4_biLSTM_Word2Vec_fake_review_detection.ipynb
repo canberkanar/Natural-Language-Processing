{
  "nbformat": 4,
  "nbformat_minor": 0,
  "metadata": {
    "colab": {
      "name": "Word2Vec_fake_review_detection.ipynb",
      "provenance": []
    },
    "kernelspec": {
      "name": "python3",
      "display_name": "Python 3"
    },
    "language_info": {
      "name": "python"
    },
    "accelerator": "GPU"
  },
  "cells": [
    {
      "cell_type": "markdown",
      "metadata": {
        "id": "kxibgPBdU0N_"
      },
      "source": [
        "# **Introduction**\n",
        "\n"
      ]
    },
    {
      "cell_type": "markdown",
      "metadata": {
        "id": "SZKBayj4H34E"
      },
      "source": [
        "The puprose of this notebook is to check the accuracy perfomance results for  our supervised \"fake reviews\" text-classification task by using **word2vec embeddings**. \n",
        "\n",
        "- Our dataset is based on **Amazon reviews** with an already provided column \"LABEL\" which states if the a current review is fake or not. \n",
        "- For that reason we built the model based on our text-classification problem under the followings:\n",
        "  - We are using the columns of \"REVIEW_TEXT\" , \"VERIFIED_PURCHASE \" and \"RATING\" in order to train our model. This is something where we concluded after a lot of experimentation. \n",
        "  - Our, **main goal** *was not to create a model that works best in terms of accuracy perfomance. Our scope for this notebook was to* **create a model that could give the best accuracy perfomance by using word2Vec embeddings**. \n",
        "  - We used Bi-directional LSTMs with fully connected layers for training based on reviews, and then we processed the rest of our features under fully connected layer. \n",
        "  -Finally, we concatinated those heads and passe them again in fully connected dense layers\n",
        "\n",
        "- In order to set our most suitable hyperparameter for this model architecture we used 2 **hyperparameter tuning** algorithms from keras.tuner library. These algorithms are :\n",
        "  - *BayesianOptimization*\n",
        "  - *Hyperband* \n",
        "- We concude by training our model based on the findings from the hyperparameters tuning proccess and we visualize the results using **matplotlib**"
      ]
    },
    {
      "cell_type": "code",
      "metadata": {
        "colab": {
          "base_uri": "https://localhost:8080/"
        },
        "id": "ID-XFZSwWICO",
        "outputId": "ae8ea554-de87-4d3d-c028-b58827a6fa44"
      },
      "source": [
        "from google.colab import drive\n",
        "drive.mount('/content/gdrive',force_remount=True)"
      ],
      "execution_count": 1,
      "outputs": [
        {
          "output_type": "stream",
          "text": [
            "Mounted at /content/gdrive\n"
          ],
          "name": "stdout"
        }
      ]
    },
    {
      "cell_type": "markdown",
      "metadata": {
        "id": "ScEfFEMXWaG4"
      },
      "source": [
        "# **Packages Import**"
      ]
    },
    {
      "cell_type": "code",
      "metadata": {
        "id": "FCJzesm4uXUS",
        "colab": {
          "base_uri": "https://localhost:8080/"
        },
        "outputId": "3f3859bc-e104-497f-c1ae-a69f21621ef6"
      },
      "source": [
        "pip install -q -U keras-tuner"
      ],
      "execution_count": 2,
      "outputs": [
        {
          "output_type": "stream",
          "text": [
            "\u001b[?25l\r\u001b[K     |███▍                            | 10 kB 28.2 MB/s eta 0:00:01\r\u001b[K     |██████▉                         | 20 kB 30.5 MB/s eta 0:00:01\r\u001b[K     |██████████▏                     | 30 kB 21.6 MB/s eta 0:00:01\r\u001b[K     |█████████████▋                  | 40 kB 17.9 MB/s eta 0:00:01\r\u001b[K     |█████████████████               | 51 kB 14.8 MB/s eta 0:00:01\r\u001b[K     |████████████████████▍           | 61 kB 13.0 MB/s eta 0:00:01\r\u001b[K     |███████████████████████▊        | 71 kB 12.3 MB/s eta 0:00:01\r\u001b[K     |███████████████████████████▏    | 81 kB 13.5 MB/s eta 0:00:01\r\u001b[K     |██████████████████████████████▋ | 92 kB 12.3 MB/s eta 0:00:01\r\u001b[K     |████████████████████████████████| 96 kB 4.0 MB/s \n",
            "\u001b[?25h"
          ],
          "name": "stdout"
        }
      ]
    },
    {
      "cell_type": "code",
      "metadata": {
        "colab": {
          "base_uri": "https://localhost:8080/"
        },
        "id": "zOMH6-mCoIiK",
        "outputId": "091ba590-00ed-433f-8b20-4de5f9d2bb63"
      },
      "source": [
        "pip install wget"
      ],
      "execution_count": 3,
      "outputs": [
        {
          "output_type": "stream",
          "text": [
            "Collecting wget\n",
            "  Downloading wget-3.2.zip (10 kB)\n",
            "Building wheels for collected packages: wget\n",
            "  Building wheel for wget (setup.py) ... \u001b[?25l\u001b[?25hdone\n",
            "  Created wheel for wget: filename=wget-3.2-py3-none-any.whl size=9673 sha256=ca3264072c4ed8ec730c793b5730fc5e4d0b27dd707def9c26da426c4391177e\n",
            "  Stored in directory: /root/.cache/pip/wheels/a1/b6/7c/0e63e34eb06634181c63adacca38b79ff8f35c37e3c13e3c02\n",
            "Successfully built wget\n",
            "Installing collected packages: wget\n",
            "Successfully installed wget-3.2\n"
          ],
          "name": "stdout"
        }
      ]
    },
    {
      "cell_type": "code",
      "metadata": {
        "id": "muBi9FOkWpWy"
      },
      "source": [
        "import os\n",
        "import string\n",
        "import datetime\n",
        "import gensim\n",
        "import pandas as pd\n",
        "import numpy as np\n",
        "import tensorflow as tf\n",
        "import keras_tuner as kt\n",
        "import tensorflow.keras as keras\n",
        "import matplotlib.image  as mpimg\n",
        "import matplotlib.pyplot as plt\n",
        "import os.path\n",
        "import shutil\n",
        "import wget\n",
        "\n",
        "from sklearn.model_selection import train_test_split\n",
        "from keras.preprocessing.text import Tokenizer\n",
        "from keras.preprocessing.sequence import pad_sequences\n",
        "from keras.layers import Input,concatenate,Activation, Dense, Dropout, Embedding, Flatten,Bidirectional, LSTM\n",
        "from keras.models import Model\n",
        "from keras.initializers import Constant\n",
        "from keras.optimizers import Adam\n",
        "\n",
        "# A function that is going to help as plot our findings (Resource: https://www.tensorflow.org/text/tutorials/text_classification_rnn)\n",
        "def plot_graphs(history, metric):\n",
        "  plt.plot(history.history[metric])\n",
        "  plt.plot(history.history['val_'+metric], '')\n",
        "  plt.xlabel(\"Epochs\")\n",
        "  plt.ylabel(metric)\n",
        "  plt.legend([metric, 'val_'+metric])"
      ],
      "execution_count": 5,
      "outputs": []
    },
    {
      "cell_type": "code",
      "metadata": {
        "id": "xMOQS2zqX8n1"
      },
      "source": [
        "# Changing the parameter of the column width for the display of the pandas dataframe\n",
        "pd.set_option('display.max_colwidth',100)"
      ],
      "execution_count": 6,
      "outputs": []
    },
    {
      "cell_type": "code",
      "metadata": {
        "id": "wqwkuxPuXDkI",
        "colab": {
          "base_uri": "https://localhost:8080/"
        },
        "outputId": "24e96891-7c7c-4277-f1f4-dc2ede922f66"
      },
      "source": [
        "print(\"Version: \", tf.__version__)\n",
        "print(\"Eager mode: \", tf.executing_eagerly())\n",
        "print(\"GPU is\", \"available\" if tf.config.list_physical_devices('GPU') else \"NOT AVAILABLE\")"
      ],
      "execution_count": 7,
      "outputs": [
        {
          "output_type": "stream",
          "text": [
            "Version:  2.5.0\n",
            "Eager mode:  True\n",
            "GPU is available\n"
          ],
          "name": "stdout"
        }
      ]
    },
    {
      "cell_type": "markdown",
      "metadata": {
        "id": "TdFmC7o6YmgG"
      },
      "source": [
        "# **Dataset import and features selection**"
      ]
    },
    {
      "cell_type": "code",
      "metadata": {
        "id": "isIOTwumYiML",
        "colab": {
          "base_uri": "https://localhost:8080/",
          "height": 306
        },
        "outputId": "d38f38fe-ecc3-4be0-e4e7-6144338e0574"
      },
      "source": [
        "#Check if the dataset is pre-downloaded in our working directory, otherwise we download it using the url location where is available\n",
        "if not os.path.isfile('amazon_reviews.txt'):\n",
        "    url = 'https://drive.google.com/uc?id=1-LYI_s6oZ0OTe3I0vFYRYIBVhjFswReY&export=download'\n",
        "    print('Downloading DB to train')\n",
        "    wget.download(url)\n",
        "    print('Download Completed!\\nUnzipping...')\n",
        "    shutil.unpack_archive('amazon_reviews.zip')\n",
        "else:\n",
        "   print(\"The dataset is already downloaded\")   \n",
        "#The dataset is a tab seperated csv file therefore we define delimiter as delimiter = '/t'.\n",
        "#We set index_col = False since we want to discard the entries with missing columns \n",
        "df = pd.read_csv('amazon_reviews.txt', error_bad_lines=False, delimiter=\"\\t\")\n",
        "df.head()"
      ],
      "execution_count": 9,
      "outputs": [
        {
          "output_type": "stream",
          "text": [
            "The dataset is already downloaded\n"
          ],
          "name": "stdout"
        },
        {
          "output_type": "execute_result",
          "data": {
            "text/html": [
              "<div>\n",
              "<style scoped>\n",
              "    .dataframe tbody tr th:only-of-type {\n",
              "        vertical-align: middle;\n",
              "    }\n",
              "\n",
              "    .dataframe tbody tr th {\n",
              "        vertical-align: top;\n",
              "    }\n",
              "\n",
              "    .dataframe thead th {\n",
              "        text-align: right;\n",
              "    }\n",
              "</style>\n",
              "<table border=\"1\" class=\"dataframe\">\n",
              "  <thead>\n",
              "    <tr style=\"text-align: right;\">\n",
              "      <th></th>\n",
              "      <th>DOC_ID</th>\n",
              "      <th>LABEL</th>\n",
              "      <th>RATING</th>\n",
              "      <th>VERIFIED_PURCHASE</th>\n",
              "      <th>PRODUCT_CATEGORY</th>\n",
              "      <th>PRODUCT_ID</th>\n",
              "      <th>PRODUCT_TITLE</th>\n",
              "      <th>REVIEW_TITLE</th>\n",
              "      <th>REVIEW_TEXT</th>\n",
              "    </tr>\n",
              "  </thead>\n",
              "  <tbody>\n",
              "    <tr>\n",
              "      <th>0</th>\n",
              "      <td>1</td>\n",
              "      <td>__label1__</td>\n",
              "      <td>4</td>\n",
              "      <td>N</td>\n",
              "      <td>PC</td>\n",
              "      <td>B00008NG7N</td>\n",
              "      <td>Targus PAUK10U Ultra Mini USB Keypad, Black</td>\n",
              "      <td>useful</td>\n",
              "      <td>When least you think so, this product will save the day. Just keep it around just in case you ne...</td>\n",
              "    </tr>\n",
              "    <tr>\n",
              "      <th>1</th>\n",
              "      <td>2</td>\n",
              "      <td>__label1__</td>\n",
              "      <td>4</td>\n",
              "      <td>Y</td>\n",
              "      <td>Wireless</td>\n",
              "      <td>B00LH0Y3NM</td>\n",
              "      <td>Note 3 Battery : Stalion Strength Replacement 3200mAh Li-Ion Battery for Samsung Galaxy Note 3 [...</td>\n",
              "      <td>New era for batteries</td>\n",
              "      <td>Lithium batteries are something new introduced in the market there average developing cost is re...</td>\n",
              "    </tr>\n",
              "    <tr>\n",
              "      <th>2</th>\n",
              "      <td>3</td>\n",
              "      <td>__label1__</td>\n",
              "      <td>3</td>\n",
              "      <td>N</td>\n",
              "      <td>Baby</td>\n",
              "      <td>B000I5UZ1Q</td>\n",
              "      <td>Fisher-Price Papasan Cradle Swing, Starlight</td>\n",
              "      <td>doesn't swing very well.</td>\n",
              "      <td>I purchased this swing for my baby. She is 6 months now and has pretty much out grown it. It is ...</td>\n",
              "    </tr>\n",
              "    <tr>\n",
              "      <th>3</th>\n",
              "      <td>4</td>\n",
              "      <td>__label1__</td>\n",
              "      <td>4</td>\n",
              "      <td>N</td>\n",
              "      <td>Office Products</td>\n",
              "      <td>B003822IRA</td>\n",
              "      <td>Casio MS-80B Standard Function Desktop Calculator</td>\n",
              "      <td>Great computing!</td>\n",
              "      <td>I was looking for an inexpensive desk calcolatur and here it is. It works and does everything I ...</td>\n",
              "    </tr>\n",
              "    <tr>\n",
              "      <th>4</th>\n",
              "      <td>5</td>\n",
              "      <td>__label1__</td>\n",
              "      <td>4</td>\n",
              "      <td>N</td>\n",
              "      <td>Beauty</td>\n",
              "      <td>B00PWSAXAM</td>\n",
              "      <td>Shine Whitening - Zero Peroxide Teeth Whitening System - No Sensitivity</td>\n",
              "      <td>Only use twice a week</td>\n",
              "      <td>I only use it twice a week and the results are great. I have used other teeth whitening solution...</td>\n",
              "    </tr>\n",
              "  </tbody>\n",
              "</table>\n",
              "</div>"
            ],
            "text/plain": [
              "   DOC_ID  ...                                                                                          REVIEW_TEXT\n",
              "0       1  ...  When least you think so, this product will save the day. Just keep it around just in case you ne...\n",
              "1       2  ...  Lithium batteries are something new introduced in the market there average developing cost is re...\n",
              "2       3  ...  I purchased this swing for my baby. She is 6 months now and has pretty much out grown it. It is ...\n",
              "3       4  ...  I was looking for an inexpensive desk calcolatur and here it is. It works and does everything I ...\n",
              "4       5  ...  I only use it twice a week and the results are great. I have used other teeth whitening solution...\n",
              "\n",
              "[5 rows x 9 columns]"
            ]
          },
          "metadata": {
            "tags": []
          },
          "execution_count": 9
        }
      ]
    },
    {
      "cell_type": "markdown",
      "metadata": {
        "id": "RCa8xKdKbgIb"
      },
      "source": [
        "We do feature extraction by keeping those features that will help our model perform better. For that purpose we decided to keep only the columns that are listed below : \n",
        " - **REVIEW_TEXT**: The comment description that is given as review for a product \n",
        " - **RATING**: The actual rating integer number from 1 to 5 with 1 be the lowest and 5 the highest. \n",
        " -**VERIFIED_PURCHASE**: A parameter which indicates of the user who comments is a verified on (with \"Y\") or is not (with \"N\"). Later on we are going to change those value with 1 and 0 respectively. \n",
        " -**LABEL**: This is the parameter which indicated if the relation between the \"RATING\" and the \"REVIEW_TEXT\" has a mismatch, giving the value 1 if that happen, meaning that it is a fake one, or not giving the value 0.\n"
      ]
    },
    {
      "cell_type": "code",
      "metadata": {
        "id": "UILbOuqXXs6n",
        "colab": {
          "base_uri": "https://localhost:8080/",
          "height": 204
        },
        "outputId": "b9c1017e-ceba-4cc7-db89-8fac5ba8188b"
      },
      "source": [
        "features = [\"REVIEW_TEXT\", \"RATING\", \"LABEL\", \"VERIFIED_PURCHASE\"]\n",
        "df = df[features]\n",
        "df.head()"
      ],
      "execution_count": 10,
      "outputs": [
        {
          "output_type": "execute_result",
          "data": {
            "text/html": [
              "<div>\n",
              "<style scoped>\n",
              "    .dataframe tbody tr th:only-of-type {\n",
              "        vertical-align: middle;\n",
              "    }\n",
              "\n",
              "    .dataframe tbody tr th {\n",
              "        vertical-align: top;\n",
              "    }\n",
              "\n",
              "    .dataframe thead th {\n",
              "        text-align: right;\n",
              "    }\n",
              "</style>\n",
              "<table border=\"1\" class=\"dataframe\">\n",
              "  <thead>\n",
              "    <tr style=\"text-align: right;\">\n",
              "      <th></th>\n",
              "      <th>REVIEW_TEXT</th>\n",
              "      <th>RATING</th>\n",
              "      <th>LABEL</th>\n",
              "      <th>VERIFIED_PURCHASE</th>\n",
              "    </tr>\n",
              "  </thead>\n",
              "  <tbody>\n",
              "    <tr>\n",
              "      <th>0</th>\n",
              "      <td>When least you think so, this product will save the day. Just keep it around just in case you ne...</td>\n",
              "      <td>4</td>\n",
              "      <td>__label1__</td>\n",
              "      <td>N</td>\n",
              "    </tr>\n",
              "    <tr>\n",
              "      <th>1</th>\n",
              "      <td>Lithium batteries are something new introduced in the market there average developing cost is re...</td>\n",
              "      <td>4</td>\n",
              "      <td>__label1__</td>\n",
              "      <td>Y</td>\n",
              "    </tr>\n",
              "    <tr>\n",
              "      <th>2</th>\n",
              "      <td>I purchased this swing for my baby. She is 6 months now and has pretty much out grown it. It is ...</td>\n",
              "      <td>3</td>\n",
              "      <td>__label1__</td>\n",
              "      <td>N</td>\n",
              "    </tr>\n",
              "    <tr>\n",
              "      <th>3</th>\n",
              "      <td>I was looking for an inexpensive desk calcolatur and here it is. It works and does everything I ...</td>\n",
              "      <td>4</td>\n",
              "      <td>__label1__</td>\n",
              "      <td>N</td>\n",
              "    </tr>\n",
              "    <tr>\n",
              "      <th>4</th>\n",
              "      <td>I only use it twice a week and the results are great. I have used other teeth whitening solution...</td>\n",
              "      <td>4</td>\n",
              "      <td>__label1__</td>\n",
              "      <td>N</td>\n",
              "    </tr>\n",
              "  </tbody>\n",
              "</table>\n",
              "</div>"
            ],
            "text/plain": [
              "                                                                                           REVIEW_TEXT  ...  VERIFIED_PURCHASE\n",
              "0  When least you think so, this product will save the day. Just keep it around just in case you ne...  ...                  N\n",
              "1  Lithium batteries are something new introduced in the market there average developing cost is re...  ...                  Y\n",
              "2  I purchased this swing for my baby. She is 6 months now and has pretty much out grown it. It is ...  ...                  N\n",
              "3  I was looking for an inexpensive desk calcolatur and here it is. It works and does everything I ...  ...                  N\n",
              "4  I only use it twice a week and the results are great. I have used other teeth whitening solution...  ...                  N\n",
              "\n",
              "[5 rows x 4 columns]"
            ]
          },
          "metadata": {
            "tags": []
          },
          "execution_count": 10
        }
      ]
    },
    {
      "cell_type": "markdown",
      "metadata": {
        "id": "h3IhcTURdeIx"
      },
      "source": [
        "# **Data pre-processing** "
      ]
    },
    {
      "cell_type": "markdown",
      "metadata": {
        "id": "u7mJTlG5dn4U"
      },
      "source": [
        "In that step we pre-process our data in order to bring them in a format that is more suitable for manipulation and it would be easier halded by our model.\n",
        "- Firstly, we change the our categorical feature \"LABEL\" from \"_label_1_\" and \"_label_0_\" to 1 and 0 respectively.\n",
        "- Secondly,  we change our categorical feature \"VERIFIED_PURCHASE\" from \"Y\" and \"N\" to \"0\" and \"1\". This helps our model to work in a more efficient way and to \"understand\" better the \"meaning\" of this feature. \n",
        "- Thirdly, we pre-processed the \"REVIEW_TEXT\" column by removing all the punction marks and to make all the word lower-case. By removing the punctuation we are able to avoid adding to our vocabulary words with excactly the same meaning. This will give more capacity to our embedding vocabulary."
      ]
    },
    {
      "cell_type": "code",
      "metadata": {
        "id": "ugvvNc-SozL3"
      },
      "source": [
        "# Changing the categorical values from \"label_1\" and \"label_0\" to 0 and 1\n",
        "df['LABEL'] = pd.Categorical(df['LABEL'])\n",
        "df['LABEL'] = df['LABEL'].cat.codes"
      ],
      "execution_count": 11,
      "outputs": []
    },
    {
      "cell_type": "code",
      "metadata": {
        "id": "EtXiP2fldURA"
      },
      "source": [
        "# Changing the categorical values from \"Y\" and \"N\" to 0 and 1\n",
        "df['VERIFIED_PURCHASE'] = pd.Categorical(df['VERIFIED_PURCHASE'])\n",
        "df['VERIFIED_PURCHASE'] = df['VERIFIED_PURCHASE'].cat.codes"
      ],
      "execution_count": 12,
      "outputs": []
    },
    {
      "cell_type": "code",
      "metadata": {
        "id": "7JhjkPLMfiIi"
      },
      "source": [
        "def remove_punctuation(txt):\n",
        "  #We lower-case every word \n",
        "  text_lower = \"\".join([c.lower() for c in txt])\n",
        "  #Then we remove punctuations\n",
        "  txt_nonpunct = \"\".join([c for c in text_lower if c not in string.punctuation])\n",
        "  return txt_nonpunct"
      ],
      "execution_count": 13,
      "outputs": []
    },
    {
      "cell_type": "code",
      "metadata": {
        "id": "lKderdL8fzv9"
      },
      "source": [
        "#We call the function \"remove_punctuation\" to be applied on every entry of the \"REVIEW_TEXT\" of our dataframe\n",
        "df['REVIEW_TEXT'] = df['REVIEW_TEXT'].apply(lambda x: remove_punctuation(x))"
      ],
      "execution_count": 14,
      "outputs": []
    },
    {
      "cell_type": "code",
      "metadata": {
        "colab": {
          "base_uri": "https://localhost:8080/",
          "height": 204
        },
        "id": "ViY9JZ5ppLDG",
        "outputId": "dae23aaf-df2a-4347-dcee-2f853748d74d"
      },
      "source": [
        "df.head()"
      ],
      "execution_count": 15,
      "outputs": [
        {
          "output_type": "execute_result",
          "data": {
            "text/html": [
              "<div>\n",
              "<style scoped>\n",
              "    .dataframe tbody tr th:only-of-type {\n",
              "        vertical-align: middle;\n",
              "    }\n",
              "\n",
              "    .dataframe tbody tr th {\n",
              "        vertical-align: top;\n",
              "    }\n",
              "\n",
              "    .dataframe thead th {\n",
              "        text-align: right;\n",
              "    }\n",
              "</style>\n",
              "<table border=\"1\" class=\"dataframe\">\n",
              "  <thead>\n",
              "    <tr style=\"text-align: right;\">\n",
              "      <th></th>\n",
              "      <th>REVIEW_TEXT</th>\n",
              "      <th>RATING</th>\n",
              "      <th>LABEL</th>\n",
              "      <th>VERIFIED_PURCHASE</th>\n",
              "    </tr>\n",
              "  </thead>\n",
              "  <tbody>\n",
              "    <tr>\n",
              "      <th>0</th>\n",
              "      <td>when least you think so this product will save the day just keep it around just in case you need...</td>\n",
              "      <td>4</td>\n",
              "      <td>0</td>\n",
              "      <td>0</td>\n",
              "    </tr>\n",
              "    <tr>\n",
              "      <th>1</th>\n",
              "      <td>lithium batteries are something new introduced in the market there average developing cost is re...</td>\n",
              "      <td>4</td>\n",
              "      <td>0</td>\n",
              "      <td>1</td>\n",
              "    </tr>\n",
              "    <tr>\n",
              "      <th>2</th>\n",
              "      <td>i purchased this swing for my baby she is 6 months now and has pretty much out grown it it is ve...</td>\n",
              "      <td>3</td>\n",
              "      <td>0</td>\n",
              "      <td>0</td>\n",
              "    </tr>\n",
              "    <tr>\n",
              "      <th>3</th>\n",
              "      <td>i was looking for an inexpensive desk calcolatur and here it is it works and does everything i n...</td>\n",
              "      <td>4</td>\n",
              "      <td>0</td>\n",
              "      <td>0</td>\n",
              "    </tr>\n",
              "    <tr>\n",
              "      <th>4</th>\n",
              "      <td>i only use it twice a week and the results are great i have used other teeth whitening solutions...</td>\n",
              "      <td>4</td>\n",
              "      <td>0</td>\n",
              "      <td>0</td>\n",
              "    </tr>\n",
              "  </tbody>\n",
              "</table>\n",
              "</div>"
            ],
            "text/plain": [
              "                                                                                           REVIEW_TEXT  ...  VERIFIED_PURCHASE\n",
              "0  when least you think so this product will save the day just keep it around just in case you need...  ...                  0\n",
              "1  lithium batteries are something new introduced in the market there average developing cost is re...  ...                  1\n",
              "2  i purchased this swing for my baby she is 6 months now and has pretty much out grown it it is ve...  ...                  0\n",
              "3  i was looking for an inexpensive desk calcolatur and here it is it works and does everything i n...  ...                  0\n",
              "4  i only use it twice a week and the results are great i have used other teeth whitening solutions...  ...                  0\n",
              "\n",
              "[5 rows x 4 columns]"
            ]
          },
          "metadata": {
            "tags": []
          },
          "execution_count": 15
        }
      ]
    },
    {
      "cell_type": "markdown",
      "metadata": {
        "id": "voXGcrZgh9Kv"
      },
      "source": [
        "- Since this is the case we split our data to the format of train, validation and test in the split of 80%, 10%, 10% since we want to have an amount of data to train our model and our data are not offered in a great amount for deep learning purposes"
      ]
    },
    {
      "cell_type": "code",
      "metadata": {
        "id": "odO8abvAi5DO"
      },
      "source": [
        "# We want to split the data in 80:10:10 for train:valid:test dataset\n",
        "train_size=0.8\n",
        "\n",
        "X = df.copy()\n",
        "\n",
        "# In the first step we will split the data in training and remaining dataset\n",
        "X_train, X_rem= train_test_split(X, train_size=train_size)\n",
        "\n",
        "# # Now since we want the valid and test size to be equal (10% each of overall data). \n",
        "# # we have to define valid_size=0.5 (that is 50% of remaining data)\n",
        "test_size = 0.5\n",
        "X_valid, X_test = train_test_split(X_rem, test_size=0.5)\n"
      ],
      "execution_count": 16,
      "outputs": []
    },
    {
      "cell_type": "markdown",
      "metadata": {
        "id": "pneAq0CCjwIY"
      },
      "source": [
        "- We further seperate the columns \"RATING\", \"VERIFIED\" from the rest of our dataset since we want to train our model including also those features.  The \"LABEL\" column is our target column which we are going to use to check the accuracy perfomance of our model by comparing the model's predictions with the \"really\" ones."
      ]
    },
    {
      "cell_type": "code",
      "metadata": {
        "id": "UIpcA4ssjyKG"
      },
      "source": [
        "# We seperate the \"RATING\" column from the rest of the dataset\n",
        "train_rating = X_train.pop('RATING')\n",
        "valid_rating = X_valid.pop('RATING')\n",
        "test_rating = X_test.pop('RATING')\n",
        "\n",
        "# We seperate the \"VERIFIED_PURCHASE\" column from the rest of the dataset\n",
        "train_pursh = X_train.pop('VERIFIED_PURCHASE')\n",
        "valid_pursh = X_valid.pop('VERIFIED_PURCHASE')\n",
        "test_pursh = X_test.pop('VERIFIED_PURCHASE')\n",
        "\n",
        "# We seperate the \"LABEL\" column from the rest of the dataset\n",
        "train_target = X_train.pop('LABEL')\n",
        "valid_target = X_valid.pop('LABEL')\n",
        "test_target = X_test.pop('LABEL')"
      ],
      "execution_count": 17,
      "outputs": []
    },
    {
      "cell_type": "markdown",
      "metadata": {
        "id": "yjsgklKYmdmW"
      },
      "source": [
        "- Since we have our datasets prepaired in the sense that we have the train, validation and test sets we are now tokenize and pad the \"REVIEW_TEXT\" in order to create our vocabulary. We did not set any vocabulary size for our tokenization process. The padding max size is set to 100."
      ]
    },
    {
      "cell_type": "code",
      "metadata": {
        "id": "G0ozxi8Smr4x"
      },
      "source": [
        "oov_token = \"<OOV>\"\n",
        "max_length = 100\n",
        "padding_type = \"post\"\n",
        "trunction_type=\"post\""
      ],
      "execution_count": 18,
      "outputs": []
    },
    {
      "cell_type": "code",
      "metadata": {
        "id": "fjwSQWysmwA9",
        "colab": {
          "base_uri": "https://localhost:8080/"
        },
        "outputId": "2b54f02f-8f7d-4af4-98e4-eb42a1cb0e1a"
      },
      "source": [
        "tokenizer = Tokenizer(oov_token=oov_token)\n",
        "tokenizer.fit_on_texts(X_train.REVIEW_TEXT)\n",
        "vocab_size = len(tokenizer.word_index)+1\n",
        "print('Vocab Size is ',vocab_size)"
      ],
      "execution_count": 19,
      "outputs": [
        {
          "output_type": "stream",
          "text": [
            "Vocab Size is  41184\n"
          ],
          "name": "stdout"
        }
      ]
    },
    {
      "cell_type": "code",
      "metadata": {
        "id": "yLJqSUIhmxNP"
      },
      "source": [
        "#Tokenize and padding for the \"REVIEW_TEXT\" column of the training dataset\n",
        "X_train_sequences = tokenizer.texts_to_sequences(X_train.REVIEW_TEXT)\n",
        "X_train_padded = pad_sequences(X_train_sequences,maxlen=max_length, padding=padding_type, \n",
        "                       truncating=trunction_type)\n",
        "\n",
        "#Tokenize and padding for the \"REVIEW_TEXT\" column of the validation dataset\n",
        "X_val_sequences = tokenizer.texts_to_sequences(X_valid.REVIEW_TEXT)\n",
        "X_val_padded = pad_sequences(X_val_sequences,maxlen=max_length, \n",
        "                               padding=padding_type, truncating=trunction_type)\n",
        "\n",
        "#Tokenize and padding for the \"REVIEW_TEXT\" column of the test dataset\n",
        "X_test_sequences = tokenizer.texts_to_sequences(X_test.REVIEW_TEXT)\n",
        "X_test_padded = pad_sequences(X_test_sequences,maxlen=max_length, \n",
        "                               padding=padding_type, truncating=trunction_type)"
      ],
      "execution_count": 20,
      "outputs": []
    },
    {
      "cell_type": "markdown",
      "metadata": {
        "id": "9sh-MARUCF6Z"
      },
      "source": [
        "# **Pre-Trained word embeddings** - **Word2Vec**"
      ]
    },
    {
      "cell_type": "markdown",
      "metadata": {
        "id": "JvrPPEtSCeSS"
      },
      "source": [
        "In order to prepare our model we use word-embeddings which are going to help our model to understand the \"meaning\" of each word that is going to appear during the training procedure. \n",
        "\n",
        "*The main goal of this notebook is to create a model and ckeck it's results under the use of Word2Vec embedding.* \n",
        "\n",
        "For that purpose we used the concept of transfer learning by getting a pre-trained Word2Vec embedding from the gensim library."
      ]
    },
    {
      "cell_type": "markdown",
      "metadata": {
        "id": "fnyZoHSz6V3q"
      },
      "source": [
        "### Word2vec\n",
        "Below we are going to give some insights of how word2vec actually works.\n",
        "\n",
        "Based on the introductory [ word2vec notebook from tensorflow](https://www.tensorflow.org/tutorials/text/word2vec) that was provided to us during the lecures' period and the [\"The Illustrated Word2vec\" post](https://jalammar.github.io/illustrated-word2vec/) we can summarize on the following: \n",
        "\n",
        " - **Word2Vec** belongs to a \"family of model architectures and optimizations that can be used to learn word embeddings from large datasets\" [1].\n",
        " \n",
        " - More precisely, the concept of **Continuous Skip-gram** or the **Continuous Bag-of-Words** models can be using for learning word representations out of a certain dataset. The purpose of this notebook is not to explain how these algorithms work. We just want to give some insights. The first approach \"predicts words within a certain range before and after the current word in the same sentence\"[1] and the other one \"predicts the middle word based on surrounding context words. The context consists of a few words before and after the current (middle) word\" [1] \n",
        "\n",
        " - Also the concept of **negative-sampling** is used. Based on [1] \"negative sample is defined as a (target_word, context_word) pair such that the context_word does not appear in the window_size neighborhood of the target_word\". For the set (target_word, context_word). the target_word is the word that we want to predict based on the context_word.\n",
        "\n",
        " - For the puproses of our project we used the function gensim.models.word2vec.Word2Vec where the methods skip-grams is used and negative sampling. The models.word2vec is a \"module which implements the word2vec family of algorithms, using highly optimized C routines, data streaming and Pythonic interfaces.\" [2] This is provided by gensim .\n",
        "\n",
        " [1] https://www.tensorflow.org/tutorials/text/word2vec \n",
        " \n",
        " [2] https://radimrehurek.com/gensim/models/word2vec.html"
      ]
    },
    {
      "cell_type": "code",
      "metadata": {
        "id": "qbdhRyGdnWOw"
      },
      "source": [
        "documents = []\n",
        "# We split each text of the \"REVIEW_TEXT\" column\n",
        "for _text in X_train.REVIEW_TEXT:    \n",
        "    documents.append((_text.split(\" \")))"
      ],
      "execution_count": 21,
      "outputs": []
    },
    {
      "cell_type": "code",
      "metadata": {
        "id": "Xavt_vcdne0G"
      },
      "source": [
        "#Set up the hyperparameters for our Word2Vec embedding\n",
        "W2V_SIZE = 100\n",
        "W2V_WINDOW = 7\n",
        "W2V_EPOCH = 64\n",
        "W2V_MIN_COUNT = 5\n",
        "W2V_SG = 1 \n",
        "\n",
        "#We get the Word2Vec model from gensim\n",
        "w2v_model = gensim.models.word2vec.Word2Vec(size=W2V_SIZE, \n",
        "                                            sg = W2V_SG,\n",
        "                                            window=W2V_WINDOW, \n",
        "                                            min_count=W2V_MIN_COUNT,\n",
        "                                            workers=8)\n",
        "\n",
        "#We build the vocabulary\n",
        "w2v_model.build_vocab(documents)"
      ],
      "execution_count": 22,
      "outputs": []
    },
    {
      "cell_type": "code",
      "metadata": {
        "id": "i8s2dq4nnivS",
        "colab": {
          "base_uri": "https://localhost:8080/"
        },
        "outputId": "68afeb18-1dd8-4e1c-933c-459046282008"
      },
      "source": [
        "#Then we finetune\n",
        "w2v_model.train(documents, total_examples=len(documents), epochs=W2V_EPOCH)"
      ],
      "execution_count": 23,
      "outputs": [
        {
          "output_type": "execute_result",
          "data": {
            "text/plain": [
              "(52540573, 75950528)"
            ]
          },
          "metadata": {
            "tags": []
          },
          "execution_count": 23
        }
      ]
    },
    {
      "cell_type": "code",
      "metadata": {
        "id": "3E6JH0z4n4aj",
        "colab": {
          "base_uri": "https://localhost:8080/"
        },
        "outputId": "d2cf757b-86e6-49a8-d61e-9688d56f15e9"
      },
      "source": [
        "# We test that the word embedding where created successfully by ckecking the most similar words of a given word\n",
        "w2v_model.wv.most_similar(\"bad\") "
      ],
      "execution_count": 24,
      "outputs": [
        {
          "output_type": "execute_result",
          "data": {
            "text/plain": [
              "[('horrible', 0.5353066325187683),\n",
              " ('good', 0.4938915967941284),\n",
              " ('terrible', 0.46270984411239624),\n",
              " ('guy', 0.4571552276611328),\n",
              " ('poor', 0.4481801986694336),\n",
              " ('but', 0.43652811646461487),\n",
              " ('warped', 0.4320608675479889),\n",
              " ('tender', 0.4308643341064453),\n",
              " ('dull', 0.4239758551120758),\n",
              " ('stink', 0.4195495545864105)]"
            ]
          },
          "metadata": {
            "tags": []
          },
          "execution_count": 24
        }
      ]
    },
    {
      "cell_type": "code",
      "metadata": {
        "id": "fgqbRoZln9r3",
        "colab": {
          "base_uri": "https://localhost:8080/"
        },
        "outputId": "a8f2b4f8-c3fe-4a53-d14f-41c103e889e7"
      },
      "source": [
        "#We create our embedding matrix\n",
        "embedding_matrix = np.zeros((vocab_size , W2V_SIZE))\n",
        "for word , i in tokenizer.word_index.items():\n",
        "    if word in w2v_model.wv:\n",
        "        embedding_matrix[i] = w2v_model.wv[word]\n",
        "print(embedding_matrix.shape)"
      ],
      "execution_count": 25,
      "outputs": [
        {
          "output_type": "stream",
          "text": [
            "(41184, 100)\n"
          ],
          "name": "stdout"
        }
      ]
    },
    {
      "cell_type": "markdown",
      "metadata": {
        "id": "Z29wR_GuHR-Y"
      },
      "source": [
        "# **The model**\n"
      ]
    },
    {
      "cell_type": "markdown",
      "metadata": {
        "id": "qM5msX3THnUx"
      },
      "source": [
        "The model that we created is based on the concept that we want to make predictions based on different features of the dataset and to check the resutls based on them. The feautures that seemed to perform better giving a conceptual reason for that are \"REVIEW_TEXT\", \"RATING\", \"VERIFIED_PURCHASE\" given that we want to predict the \"LABEL\" feauture. \n",
        "\n",
        "So our model consists of 3 heads under the following architecture : \n",
        "1. The head that processes the \"**REVIEW_TEXT**\" feature, on which we have applied the Word2Vec word embedding layer as a 100 dimesional vector. Then we use Dropout as a technique to avoid overfitting our model. Then we use a Bi-directional LSTM in order to process the sequences and to be able to extract the \"useful\" information from the individual sentence. Then the output of the Bi-directional LSTM is pass to a fully connected layer which we are going to use later on the concatination step of all our feauture models\n",
        "\n",
        "2. The second head processes the \"**RATING**\" feature using a sequence of dense fully contected which is brought in the same dimensionsion as our first head and thrid layer later on, something that is useful for the concatination process of our heads. \n",
        "\n",
        "3. The third layer follows the same logic as the second one. On this one we process the \"**VERIFIED_PURCHASE**\" feature again using a fully connected dense layer which is brought in the proper dimemsnions for the concatination procedure.\n",
        "\n",
        "Since we have now this three heads in a fully connected dense layer format we concatinate them and we pass them to another fully connected dense layer in order to extract the relations between these features.\n",
        "\n",
        "Then our model is compiled using the ADAM optimizer and as our loss function the binary crossentropy loss. "
      ]
    },
    {
      "cell_type": "code",
      "metadata": {
        "id": "IFSbFslvoO_U"
      },
      "source": [
        "embedding_layer = Embedding(len(tokenizer.word_index) + 1,\n",
        "                            max_length,\n",
        "                            embeddings_initializer= Constant(embedding_matrix),\n",
        "                            trainable=False)"
      ],
      "execution_count": 26,
      "outputs": []
    },
    {
      "cell_type": "code",
      "metadata": {
        "id": "Ffjn9mBhIhy9"
      },
      "source": [
        "review_branch_ip = Input(shape=(100,), name='Review_input')\n",
        "review_branch = embedding_layer(review_branch_ip)\n",
        "review_branch = Dropout(0.2)(review_branch)\n",
        "review_branch = Bidirectional(\n",
        "    LSTM(64, dropout=0.2,recurrent_dropout=0)\n",
        ")(review_branch)\n",
        "review_branch = Dense(64,activation='relu')(review_branch)\n",
        "review_branch_op = Dense(16, activation='relu')(review_branch)\n",
        "\n",
        "\n",
        "rating_branch_ip = Input(shape=(1,), name='Rating_input')\n",
        "rating_branch = Dense(8,activation='relu')(rating_branch_ip)\n",
        "rating_branch = Dropout(0.2)(rating_branch)\n",
        "rating_branch_op = Dense(16,activation='relu')(rating_branch)\n",
        "\n",
        "\n",
        "\n",
        "\n",
        "verified_purchase_branch_ip = Input(shape=(1,), name='Verified_Purchase_input')\n",
        "verified_purchase_branch = Dense(8,activation='relu')(verified_purchase_branch_ip)\n",
        "verified_purchase_branch = Dropout(0.2)(verified_purchase_branch)\n",
        "verified_purchase_branch_op = Dense(16,activation='relu')(verified_purchase_branch)\n",
        "\n",
        "\n",
        "concat = concatenate([review_branch_op, rating_branch_op, verified_purchase_branch_op], name='Concatenate')\n",
        "\n",
        "\n",
        "final_op = Dense(8, activation='relu')(concat)\n",
        "final_output = Dense(1,activation='sigmoid')(final_op)\n",
        "\n",
        "model = Model(inputs=[review_branch_ip,rating_branch_ip,verified_purchase_branch_ip], outputs=final_output,\n",
        "                  name='Final_output')"
      ],
      "execution_count": 27,
      "outputs": []
    },
    {
      "cell_type": "code",
      "metadata": {
        "id": "urmgI-lPJs1U"
      },
      "source": [
        "# We compile with Adam and binary crossentropy loss \n",
        "# clipvalue to avoid the gradient exploding\n",
        "model.compile(optimizer=Adam(clipvalue=0.5) , \n",
        "              loss='binary_crossentropy', \n",
        "              metrics=['acc'])"
      ],
      "execution_count": 28,
      "outputs": []
    },
    {
      "cell_type": "code",
      "metadata": {
        "id": "XazljUb2J7hY",
        "colab": {
          "base_uri": "https://localhost:8080/"
        },
        "outputId": "ce1bccc5-d91a-406d-90dc-d2da5ad6f38f"
      },
      "source": [
        "#We display the architecture of our model and display the total parameters that are trainable or not\n",
        "model.summary()"
      ],
      "execution_count": 29,
      "outputs": [
        {
          "output_type": "stream",
          "text": [
            "Model: \"Final_output\"\n",
            "__________________________________________________________________________________________________\n",
            "Layer (type)                    Output Shape         Param #     Connected to                     \n",
            "==================================================================================================\n",
            "Review_input (InputLayer)       [(None, 100)]        0                                            \n",
            "__________________________________________________________________________________________________\n",
            "embedding (Embedding)           (None, 100, 100)     4118400     Review_input[0][0]               \n",
            "__________________________________________________________________________________________________\n",
            "dropout (Dropout)               (None, 100, 100)     0           embedding[0][0]                  \n",
            "__________________________________________________________________________________________________\n",
            "Rating_input (InputLayer)       [(None, 1)]          0                                            \n",
            "__________________________________________________________________________________________________\n",
            "Verified_Purchase_input (InputL [(None, 1)]          0                                            \n",
            "__________________________________________________________________________________________________\n",
            "bidirectional (Bidirectional)   (None, 128)          84480       dropout[0][0]                    \n",
            "__________________________________________________________________________________________________\n",
            "dense_2 (Dense)                 (None, 8)            16          Rating_input[0][0]               \n",
            "__________________________________________________________________________________________________\n",
            "dense_4 (Dense)                 (None, 8)            16          Verified_Purchase_input[0][0]    \n",
            "__________________________________________________________________________________________________\n",
            "dense (Dense)                   (None, 64)           8256        bidirectional[0][0]              \n",
            "__________________________________________________________________________________________________\n",
            "dropout_1 (Dropout)             (None, 8)            0           dense_2[0][0]                    \n",
            "__________________________________________________________________________________________________\n",
            "dropout_2 (Dropout)             (None, 8)            0           dense_4[0][0]                    \n",
            "__________________________________________________________________________________________________\n",
            "dense_1 (Dense)                 (None, 16)           1040        dense[0][0]                      \n",
            "__________________________________________________________________________________________________\n",
            "dense_3 (Dense)                 (None, 16)           144         dropout_1[0][0]                  \n",
            "__________________________________________________________________________________________________\n",
            "dense_5 (Dense)                 (None, 16)           144         dropout_2[0][0]                  \n",
            "__________________________________________________________________________________________________\n",
            "Concatenate (Concatenate)       (None, 48)           0           dense_1[0][0]                    \n",
            "                                                                 dense_3[0][0]                    \n",
            "                                                                 dense_5[0][0]                    \n",
            "__________________________________________________________________________________________________\n",
            "dense_6 (Dense)                 (None, 8)            392         Concatenate[0][0]                \n",
            "__________________________________________________________________________________________________\n",
            "dense_7 (Dense)                 (None, 1)            9           dense_6[0][0]                    \n",
            "==================================================================================================\n",
            "Total params: 4,212,897\n",
            "Trainable params: 94,497\n",
            "Non-trainable params: 4,118,400\n",
            "__________________________________________________________________________________________________\n"
          ],
          "name": "stdout"
        }
      ]
    },
    {
      "cell_type": "code",
      "metadata": {
        "id": "7OLYvNAeKL8O",
        "colab": {
          "base_uri": "https://localhost:8080/"
        },
        "outputId": "3d92b0d3-8c38-472b-d37c-4d9a4832646e"
      },
      "source": [
        "# This is our first attempt to get the model prediction results having a batch_size of 32 and we train from 10 epochs\n",
        "# We also add the stop early feature in order to avoid training our model while it does not improve\n",
        "stop_early_model = tf.keras.callbacks.EarlyStopping(monitor='val_loss', patience=3)\n",
        "history = model.fit([X_train_padded,train_rating,train_pursh], train_target, batch_size=32,epochs=10, validation_data=([X_val_padded,valid_rating,valid_pursh], valid_target),callbacks=[stop_early_model])"
      ],
      "execution_count": 30,
      "outputs": [
        {
          "output_type": "stream",
          "text": [
            "Epoch 1/10\n",
            "525/525 [==============================] - 63s 63ms/step - loss: 0.6126 - acc: 0.6739 - val_loss: 0.5064 - val_acc: 0.7829\n",
            "Epoch 2/10\n",
            "525/525 [==============================] - 31s 60ms/step - loss: 0.4764 - acc: 0.7909 - val_loss: 0.4508 - val_acc: 0.8043\n",
            "Epoch 3/10\n",
            "525/525 [==============================] - 31s 59ms/step - loss: 0.4535 - acc: 0.8055 - val_loss: 0.4588 - val_acc: 0.7900\n",
            "Epoch 4/10\n",
            "525/525 [==============================] - 31s 59ms/step - loss: 0.4431 - acc: 0.8140 - val_loss: 0.4465 - val_acc: 0.7990\n",
            "Epoch 5/10\n",
            "525/525 [==============================] - 31s 60ms/step - loss: 0.4388 - acc: 0.8091 - val_loss: 0.4434 - val_acc: 0.8090\n",
            "Epoch 6/10\n",
            "525/525 [==============================] - 31s 59ms/step - loss: 0.4264 - acc: 0.8183 - val_loss: 0.4574 - val_acc: 0.7929\n",
            "Epoch 7/10\n",
            "525/525 [==============================] - 31s 59ms/step - loss: 0.4170 - acc: 0.8211 - val_loss: 0.4403 - val_acc: 0.8143\n",
            "Epoch 8/10\n",
            "525/525 [==============================] - 31s 59ms/step - loss: 0.4160 - acc: 0.8235 - val_loss: 0.4455 - val_acc: 0.8052\n",
            "Epoch 9/10\n",
            "525/525 [==============================] - 31s 59ms/step - loss: 0.4081 - acc: 0.8257 - val_loss: 0.4385 - val_acc: 0.8043\n",
            "Epoch 10/10\n",
            "525/525 [==============================] - 31s 59ms/step - loss: 0.3893 - acc: 0.8377 - val_loss: 0.4460 - val_acc: 0.8005\n"
          ],
          "name": "stdout"
        }
      ]
    },
    {
      "cell_type": "code",
      "metadata": {
        "id": "bhlaz9qKk_Cw",
        "colab": {
          "base_uri": "https://localhost:8080/",
          "height": 388
        },
        "outputId": "3bdbbc55-42ef-4496-fe0e-04a75ae2f571"
      },
      "source": [
        "plt.figure(figsize=(16, 6))\n",
        "plt.subplot(1, 2, 1)\n",
        "plot_graphs(history, 'acc')\n",
        "plt.subplot(1, 2, 2)\n",
        "plot_graphs(history, 'loss')"
      ],
      "execution_count": 31,
      "outputs": [
        {
          "output_type": "display_data",
          "data": {
            "image/png": "[encoded data removed]",
            "text/plain": [
              "<Figure size 1152x432 with 2 Axes>"
            ]
          },
          "metadata": {
            "tags": [],
            "needs_background": "light"
          }
        }
      ]
    },
    {
      "cell_type": "markdown",
      "metadata": {
        "id": "2OLwlTpNLS11"
      },
      "source": [
        "# **Hyperparameters Tuning**"
      ]
    },
    {
      "cell_type": "markdown",
      "metadata": {
        "id": "kboAZrRPaBuC"
      },
      "source": [
        "Now that we have made a first attempt to get our model's first prediction results in the base of accuracy perfomance, we are going to apply some hyperparameter tuning strategies. For that reason we tested 2 hyperpameter tuning that are included in the \"Keras tuner\" package : \n",
        "\n",
        "1. The first is the **Bayesian Optimization** algorithm which provides a seacrhing strategies based on the logic training the model for the given amount of epochs.\n",
        "2. The we checked also the **Hyperband Optimization** algorithm where we set the maximum amount of epochs and then it applies the hyperparameter tuning in a the range of the given maximun epochs"
      ]
    },
    {
      "cell_type": "code",
      "metadata": {
        "id": "XP36YlXLLL4m"
      },
      "source": [
        "#We define a function which constinst of the model strucure and our hyperparameter search domain for our model\n",
        "def model_builder(hp):\n",
        "\n",
        "  hp_dropout = hp.Float('Dropout', min_value=0.1, max_value=0.5, step=0.1)\n",
        "  hp_lstm_units = hp.Int('Lstm_units', min_value=8, max_value=64, step=8)\n",
        "  hp_lstm_dropout = hp.Float('Lstm_Dropout', min_value=0.1, max_value=0.5, step=0.1)\n",
        "  # hp_desns_units = hp.Int('Dense_units', min_value=4, max_value=24, step=2)\n",
        "  # hp_learning_rate = hp.Float('Learning_rate', min_value=0.00001, max_value=0.0001, step=-10)\n",
        "\n",
        "\n",
        "  review_branch_ip = Input(shape=(100,), name='Review_input')\n",
        "  review_branch = embedding_layer(review_branch_ip)\n",
        "  review_branch = Dropout(hp_dropout)(review_branch)\n",
        "  review_branch = Bidirectional(\n",
        "      LSTM(hp_lstm_units, dropout=hp_lstm_dropout,recurrent_dropout=0)\n",
        "  )(review_branch)\n",
        "  review_branch = Dense(hp_lstm_units,activation='relu')(review_branch)\n",
        "  review_branch_op = Dense(16, activation='relu')(review_branch)\n",
        " \n",
        "\n",
        "\n",
        "  rating_branch_ip = Input(shape=(1,), name='Rating_input')\n",
        "  rating_branch = Dense(8,activation='relu')(rating_branch_ip)\n",
        "  rating_branch = Dropout(hp_dropout)(rating_branch)\n",
        "  rating_branch_op = Dense(16,activation='relu')(rating_branch)\n",
        "  \n",
        "\n",
        "\n",
        "\n",
        "  verified_purchase_branch_ip = Input(shape=(1,), name='Verified_Purchase_input')\n",
        "  verified_purchase_branch = Dense(8,activation='relu')(verified_purchase_branch_ip)\n",
        "  verified_purchase_branch = Dropout(hp_dropout)(verified_purchase_branch)\n",
        "  verified_purchase_branch_op = Dense(16,activation='relu')(verified_purchase_branch)\n",
        "\n",
        "\n",
        "  concat = concatenate([review_branch_op, rating_branch_op, verified_purchase_branch_op], name='Concatenate')\n",
        "\n",
        "\n",
        "  final_op = Dense(8, activation='relu')(concat)\n",
        "  final_output = Dense(1,activation='sigmoid')(final_op)\n",
        "\n",
        "  model = tf.keras.Model(inputs=[review_branch_ip,rating_branch_ip,verified_purchase_branch_ip], outputs=final_output,\n",
        "                      name='Final_output')\n",
        "\n",
        "  model.compile(optimizer=Adam(clipvalue=0.5) , \n",
        "               loss='binary_crossentropy', \n",
        "               metrics=['acc'])\n",
        "\n",
        "\n",
        "\n",
        "\n",
        "\n",
        "  return model"
      ],
      "execution_count": 32,
      "outputs": []
    },
    {
      "cell_type": "code",
      "metadata": {
        "id": "BuPXzA2agS3T"
      },
      "source": [
        "#Early stopping\n",
        "stop_early = tf.keras.callbacks.EarlyStopping(monitor='val_loss', patience=5)"
      ],
      "execution_count": 33,
      "outputs": []
    },
    {
      "cell_type": "markdown",
      "metadata": {
        "id": "6sMb_f_qggfE"
      },
      "source": [
        "### **Bayessian Hyperparameter Tunning** \n"
      ]
    },
    {
      "cell_type": "code",
      "metadata": {
        "id": "DKEcs3Q0NNXP"
      },
      "source": [
        "# This class sets up our Bayesian Tuner and then possibility to check our model based on different batch sizes\n",
        "class MyTuner_Bayesian(kt.tuners.BayesianOptimization):\n",
        "  def run_trial(self, trial, *args, **kwargs):\n",
        "    \n",
        "    kwargs['batch_size'] = trial.hyperparameters.Int('batch_size', min_value=8, max_value=64, step=8) \n",
        "    \n",
        "    super(MyTuner_Bayesian, self).run_trial(trial, *args, **kwargs)\n",
        "   "
      ],
      "execution_count": 34,
      "outputs": []
    },
    {
      "cell_type": "code",
      "metadata": {
        "id": "YkoMX6cxNyal"
      },
      "source": [
        "b_tuner = MyTuner_Bayesian(model_builder,\n",
        "                objective='val_acc',\n",
        "                max_trials = 10,\n",
        "                directory='Bayesian_Tuner',\n",
        "                project_name='Bayesian_Amazon_reviews_tuner')"
      ],
      "execution_count": 35,
      "outputs": []
    },
    {
      "cell_type": "code",
      "metadata": {
        "id": "hPnfQoLfQF9K",
        "colab": {
          "base_uri": "https://localhost:8080/"
        },
        "outputId": "92a7f8ba-f30a-4430-ac45-5b7733a67796"
      },
      "source": [
        "b_tuner.search([X_train_padded,train_rating,train_pursh], train_target, validation_data=([X_val_padded,valid_rating,valid_pursh], valid_target) , callbacks=[stop_early], epochs = 10)"
      ],
      "execution_count": 36,
      "outputs": [
        {
          "output_type": "stream",
          "text": [
            "Trial 10 Complete [00h 17m 55s]\n",
            "val_acc: 0.8042857050895691\n",
            "\n",
            "Best val_acc So Far: 0.807619035243988\n",
            "Total elapsed time: 00h 51m 10s\n",
            "INFO:tensorflow:Oracle triggered exit\n"
          ],
          "name": "stdout"
        }
      ]
    },
    {
      "cell_type": "code",
      "metadata": {
        "id": "rUwU5VFFg36F",
        "colab": {
          "base_uri": "https://localhost:8080/"
        },
        "outputId": "fcf244dd-3220-4720-c528-2446293bd0a5"
      },
      "source": [
        "# Get the optimal hyperparameters\n",
        "best_b_hps=b_tuner.get_best_hyperparameters(num_trials=1)[0]\n",
        "\n",
        "#Display the best hyperparameter that perfomed better based on the Bayesian Tuner\n",
        "print(f\"\"\"\n",
        "The hyperparameter search is complete. \n",
        "Dropout: {best_b_hps.get('Dropout')} ,\n",
        "Batch_size: {best_b_hps.get('batch_size')},\n",
        "Lstm_units: {best_b_hps.get('Lstm_units')} ,\n",
        "Lstm_Dropout: {best_b_hps.get('Lstm_Dropout')}  \n",
        "\"\"\")"
      ],
      "execution_count": 37,
      "outputs": [
        {
          "output_type": "stream",
          "text": [
            "\n",
            "The hyperparameter search is complete. \n",
            "Dropout: 0.30000000000000004 ,\n",
            "Batch_size: 64,\n",
            "Lstm_units: 24 ,\n",
            "Lstm_Dropout: 0.2  \n",
            "\n"
          ],
          "name": "stdout"
        }
      ]
    },
    {
      "cell_type": "markdown",
      "metadata": {
        "id": "xsEzS2nigwN5"
      },
      "source": [
        "### **Hyperband Hyperparameter Tunning**"
      ]
    },
    {
      "cell_type": "code",
      "metadata": {
        "id": "Yng01-9uxRod"
      },
      "source": [
        "class MyTuner_Hyperband(kt.tuners.Hyperband):\n",
        "  def run_trial(self, trial, *args, **kwargs):\n",
        "    # You can add additional HyperParameters for preprocessing and custom training loops\n",
        "    # via overriding `run_trial`\n",
        "    kwargs['batch_size'] = trial.hyperparameters.Int('batch_size', min_value=8, max_value=64, step=8) #USE 16 \n",
        "    # kwargs['epochs'] = trial.hyperparameters.Int('epochs', min_value=5, max_value=15, step=5) #Int('epochs', 10, 20)\n",
        "    super(MyTuner_Hyperband, self).run_trial(trial, *args, **kwargs) "
      ],
      "execution_count": 38,
      "outputs": []
    },
    {
      "cell_type": "code",
      "metadata": {
        "id": "W2rq059iwfZx"
      },
      "source": [
        "h_tuner = MyTuner_Hyperband(model_builder,\n",
        "                     objective='val_acc',\n",
        "                     max_epochs=10,\n",
        "                     factor=3,\n",
        "                     directory='Hyperband_Tuner',\n",
        "                     project_name='Hyperband_Amazon_reviews_tuner')"
      ],
      "execution_count": 39,
      "outputs": []
    },
    {
      "cell_type": "code",
      "metadata": {
        "id": "GfKtUFYXxc-n",
        "colab": {
          "base_uri": "https://localhost:8080/"
        },
        "outputId": "6174fb58-3508-4c50-8b63-8151145f76a6"
      },
      "source": [
        "h_tuner.search([X_train_padded,train_rating,train_pursh], train_target, validation_data=([X_val_padded,valid_rating,valid_pursh], valid_target) , callbacks=[stop_early], epochs = 10) "
      ],
      "execution_count": 40,
      "outputs": [
        {
          "output_type": "stream",
          "text": [
            "Trial 30 Complete [00h 02m 46s]\n",
            "val_acc: 0.8066666722297668\n",
            "\n",
            "Best val_acc So Far: 0.8100000023841858\n",
            "Total elapsed time: 01h 32m 23s\n",
            "INFO:tensorflow:Oracle triggered exit\n"
          ],
          "name": "stdout"
        }
      ]
    },
    {
      "cell_type": "code",
      "metadata": {
        "id": "zGRmpNx5ho7m",
        "colab": {
          "base_uri": "https://localhost:8080/"
        },
        "outputId": "bde9992c-054c-45ba-f67a-40bffb20c4bd"
      },
      "source": [
        "# Get the optimal hyperparameters\n",
        "best_h_hps=h_tuner.get_best_hyperparameters(num_trials=1)[0]\n",
        "\n",
        "#Display the best hyperparameter that perfomed better based on the Bayesian Tuner\n",
        "print(f\"\"\"\n",
        "The hyperparameter search is complete. \n",
        "Dropout: {best_h_hps.get('Dropout')} ,\n",
        "Batch_size: {best_h_hps.get('batch_size')},\n",
        "Lstm_units: {best_h_hps.get('Lstm_units')} ,\n",
        "Lstm_Dropout: {best_h_hps.get('Lstm_Dropout')}  \n",
        "\"\"\")"
      ],
      "execution_count": 42,
      "outputs": [
        {
          "output_type": "stream",
          "text": [
            "\n",
            "The hyperparameter search is complete. \n",
            "Dropout: 0.1 ,\n",
            "Batch_size: 8,\n",
            "Lstm_units: 16 ,\n",
            "Lstm_Dropout: 0.2  \n",
            "\n"
          ],
          "name": "stdout"
        }
      ]
    },
    {
      "cell_type": "markdown",
      "metadata": {
        "id": "US47rJWhllLt"
      },
      "source": [
        "# **Final Model**\n",
        "\n",
        "We observe that both hyperaparameter tuning algorithms converge on the same validation accuracy.\n",
        "\n",
        "In order to finalize our model based on the hyperparameter results we are going to use the ones that we found from the Hyperband algorithm since the results are kind of the same."
      ]
    },
    {
      "cell_type": "code",
      "metadata": {
        "id": "KpqZhjK3mq8K"
      },
      "source": [
        "dropout = best_h_hps.get('Dropout')\n",
        "lstm_units = best_h_hps.get('Lstm_units')\n",
        "lstm_dropout = best_h_hps.get('Lstm_Dropout')\n",
        "batch_size  = best_h_hps.get('batch_size')\n"
      ],
      "execution_count": 43,
      "outputs": []
    },
    {
      "cell_type": "code",
      "metadata": {
        "id": "tRRab9SIl8lh"
      },
      "source": [
        "review_branch_ip = Input(shape=(100,), name='Review_input')\n",
        "review_branch = embedding_layer(review_branch_ip)\n",
        "review_branch = Dropout(dropout)(review_branch)\n",
        "review_branch = Bidirectional(\n",
        "    LSTM(lstm_units, dropout=lstm_dropout,recurrent_dropout=0)\n",
        ")(review_branch)\n",
        "review_branch = Dense(lstm_units,activation='relu')(review_branch)\n",
        "review_branch_op = Dense(16, activation='relu')(review_branch)\n",
        "\n",
        "\n",
        "\n",
        "rating_branch_ip = Input(shape=(1,), name='Rating_input')\n",
        "rating_branch = Dense(8,activation='relu')(rating_branch_ip)\n",
        "rating_branch = Dropout(dropout)(rating_branch)\n",
        "rating_branch_op = Dense(16,activation='relu')(rating_branch)\n",
        "\n",
        "\n",
        "\n",
        "\n",
        "verified_purchase_branch_ip = Input(shape=(1,), name='Verified_Purchase_input')\n",
        "verified_purchase_branch = Dense(8,activation='relu')(verified_purchase_branch_ip)\n",
        "verified_purchase_branch = Dropout(dropout)(verified_purchase_branch)\n",
        "verified_purchase_branch_op = Dense(16,activation='relu')(verified_purchase_branch)\n",
        "\n",
        "\n",
        "concat = concatenate([review_branch_op, rating_branch_op, verified_purchase_branch_op], name='Concatenate')\n",
        "\n",
        "\n",
        "final_op = Dense(8, activation='relu')(concat)\n",
        "final_output = Dense(1,activation='sigmoid')(final_op)\n",
        "\n",
        "model = Model(inputs=[review_branch_ip,rating_branch_ip,verified_purchase_branch_ip], outputs=final_output,\n",
        "                name='Final_output')"
      ],
      "execution_count": 44,
      "outputs": []
    },
    {
      "cell_type": "code",
      "metadata": {
        "id": "sAOJG09jaNIx"
      },
      "source": [
        "# We compile with Adam and binary crossentropy loss \n",
        "# clipvalue to avoid the gradient exploding\n",
        "model.compile(optimizer=Adam(clipvalue=0.5) , \n",
        "              loss='binary_crossentropy', \n",
        "              metrics=['acc'])"
      ],
      "execution_count": 45,
      "outputs": []
    },
    {
      "cell_type": "code",
      "metadata": {
        "colab": {
          "base_uri": "https://localhost:8080/"
        },
        "id": "lHBN7Z7caO5l",
        "outputId": "93a057ab-a2d4-44fc-93d7-6051b12b76a2"
      },
      "source": [
        "model.summary()"
      ],
      "execution_count": 46,
      "outputs": [
        {
          "output_type": "stream",
          "text": [
            "Model: \"Final_output\"\n",
            "__________________________________________________________________________________________________\n",
            "Layer (type)                    Output Shape         Param #     Connected to                     \n",
            "==================================================================================================\n",
            "Review_input (InputLayer)       [(None, 100)]        0                                            \n",
            "__________________________________________________________________________________________________\n",
            "embedding (Embedding)           (None, 100, 100)     4118400     Review_input[0][0]               \n",
            "__________________________________________________________________________________________________\n",
            "dropout_3 (Dropout)             (None, 100, 100)     0           embedding[43][0]                 \n",
            "__________________________________________________________________________________________________\n",
            "Rating_input (InputLayer)       [(None, 1)]          0                                            \n",
            "__________________________________________________________________________________________________\n",
            "Verified_Purchase_input (InputL [(None, 1)]          0                                            \n",
            "__________________________________________________________________________________________________\n",
            "bidirectional_1 (Bidirectional) (None, 32)           14976       dropout_3[0][0]                  \n",
            "__________________________________________________________________________________________________\n",
            "dense_10 (Dense)                (None, 8)            16          Rating_input[0][0]               \n",
            "__________________________________________________________________________________________________\n",
            "dense_12 (Dense)                (None, 8)            16          Verified_Purchase_input[0][0]    \n",
            "__________________________________________________________________________________________________\n",
            "dense_8 (Dense)                 (None, 16)           528         bidirectional_1[0][0]            \n",
            "__________________________________________________________________________________________________\n",
            "dropout_4 (Dropout)             (None, 8)            0           dense_10[0][0]                   \n",
            "__________________________________________________________________________________________________\n",
            "dropout_5 (Dropout)             (None, 8)            0           dense_12[0][0]                   \n",
            "__________________________________________________________________________________________________\n",
            "dense_9 (Dense)                 (None, 16)           272         dense_8[0][0]                    \n",
            "__________________________________________________________________________________________________\n",
            "dense_11 (Dense)                (None, 16)           144         dropout_4[0][0]                  \n",
            "__________________________________________________________________________________________________\n",
            "dense_13 (Dense)                (None, 16)           144         dropout_5[0][0]                  \n",
            "__________________________________________________________________________________________________\n",
            "Concatenate (Concatenate)       (None, 48)           0           dense_9[0][0]                    \n",
            "                                                                 dense_11[0][0]                   \n",
            "                                                                 dense_13[0][0]                   \n",
            "__________________________________________________________________________________________________\n",
            "dense_14 (Dense)                (None, 8)            392         Concatenate[0][0]                \n",
            "__________________________________________________________________________________________________\n",
            "dense_15 (Dense)                (None, 1)            9           dense_14[0][0]                   \n",
            "==================================================================================================\n",
            "Total params: 4,134,897\n",
            "Trainable params: 16,497\n",
            "Non-trainable params: 4,118,400\n",
            "__________________________________________________________________________________________________\n"
          ],
          "name": "stdout"
        }
      ]
    },
    {
      "cell_type": "code",
      "metadata": {
        "colab": {
          "base_uri": "https://localhost:8080/"
        },
        "id": "98loSAefZ938",
        "outputId": "b82d490d-bb48-44dc-c652-e6bf44047e9f"
      },
      "source": [
        "stop_early_model = tf.keras.callbacks.EarlyStopping(monitor='val_loss', patience=3)\n",
        "history = model.fit([X_train_padded,train_rating,train_pursh], train_target, batch_size=batch_size,epochs=10, validation_data=([X_val_padded,valid_rating,valid_pursh], valid_target),callbacks=[stop_early_model])"
      ],
      "execution_count": 47,
      "outputs": [
        {
          "output_type": "stream",
          "text": [
            "Epoch 1/10\n",
            "2100/2100 [==============================] - 107s 49ms/step - loss: 0.5504 - acc: 0.7377 - val_loss: 0.4841 - val_acc: 0.7824\n",
            "Epoch 2/10\n",
            "2100/2100 [==============================] - 101s 48ms/step - loss: 0.4706 - acc: 0.7864 - val_loss: 0.4680 - val_acc: 0.7752\n",
            "Epoch 3/10\n",
            "2100/2100 [==============================] - 101s 48ms/step - loss: 0.4442 - acc: 0.8068 - val_loss: 0.4487 - val_acc: 0.8062\n",
            "Epoch 4/10\n",
            "2100/2100 [==============================] - 101s 48ms/step - loss: 0.4391 - acc: 0.8136 - val_loss: 0.4874 - val_acc: 0.7890\n",
            "Epoch 5/10\n",
            "2100/2100 [==============================] - 101s 48ms/step - loss: 0.4305 - acc: 0.8186 - val_loss: 0.4727 - val_acc: 0.7852\n",
            "Epoch 6/10\n",
            "2100/2100 [==============================] - 101s 48ms/step - loss: 0.4287 - acc: 0.8225 - val_loss: 0.4461 - val_acc: 0.8062\n",
            "Epoch 7/10\n",
            "2100/2100 [==============================] - 101s 48ms/step - loss: 0.4145 - acc: 0.8233 - val_loss: 0.4549 - val_acc: 0.7957\n",
            "Epoch 8/10\n",
            "2100/2100 [==============================] - 101s 48ms/step - loss: 0.4037 - acc: 0.8290 - val_loss: 0.4577 - val_acc: 0.8019\n",
            "Epoch 9/10\n",
            "2100/2100 [==============================] - 101s 48ms/step - loss: 0.4055 - acc: 0.8321 - val_loss: 0.4704 - val_acc: 0.7910\n"
          ],
          "name": "stdout"
        }
      ]
    },
    {
      "cell_type": "markdown",
      "metadata": {
        "id": "2-eGSKghhGbC"
      },
      "source": [
        "### **Plotting the results**"
      ]
    },
    {
      "cell_type": "code",
      "metadata": {
        "id": "RM4AM6M0kpWn",
        "colab": {
          "base_uri": "https://localhost:8080/",
          "height": 388
        },
        "outputId": "72f13864-2d89-48d9-8816-ee2e2378cea7"
      },
      "source": [
        "plt.figure(figsize=(16, 6))\n",
        "plt.subplot(1, 2, 1)\n",
        "plot_graphs(history, 'acc')\n",
        "plt.subplot(1, 2, 2)\n",
        "plot_graphs(history, 'loss')"
      ],
      "execution_count": 48,
      "outputs": [
        {
          "output_type": "display_data",
          "data": {
            "image/png": "[encoded data removed]",
            "text/plain": [
              "<Figure size 1152x432 with 2 Axes>"
            ]
          },
          "metadata": {
            "tags": [],
            "needs_background": "light"
          }
        }
      ]
    },
    {
      "cell_type": "markdown",
      "metadata": {
        "id": "Zs4ZPBaghEYc"
      },
      "source": [
        "### **Evaluate the model**"
      ]
    },
    {
      "cell_type": "code",
      "metadata": {
        "colab": {
          "base_uri": "https://localhost:8080/"
        },
        "id": "KNbTEJalgncI",
        "outputId": "7aa1f662-103e-42c1-8be3-10da462591d2"
      },
      "source": [
        "model.evaluate([X_test_padded,test_rating,test_pursh], test_target, verbose=2)"
      ],
      "execution_count": 49,
      "outputs": [
        {
          "output_type": "stream",
          "text": [
            "66/66 - 1s - loss: 0.4408 - acc: 0.8162\n"
          ],
          "name": "stdout"
        },
        {
          "output_type": "execute_result",
          "data": {
            "text/plain": [
              "[0.4408186078071594, 0.8161904811859131]"
            ]
          },
          "metadata": {
            "tags": []
          },
          "execution_count": 49
        }
      ]
    },
    {
      "cell_type": "markdown",
      "metadata": {
        "id": "Yo7ga1yehWam"
      },
      "source": [
        "### **Save the model**"
      ]
    },
    {
      "cell_type": "code",
      "metadata": {
        "id": "aHbUlxWEgzeH"
      },
      "source": [
        "model.save('w2vblstm.h5') "
      ],
      "execution_count": 50,
      "outputs": []
    },
    {
      "cell_type": "markdown",
      "metadata": {
        "id": "_1h54JRsRJzv"
      },
      "source": [
        "# Summary \n",
        "\n",
        "We managed to reach an validation accurasy of 81% by using word2vec embeddings. We can be sure with great probability that based on this model architecture we got the maximun in terms of accurasy perfomance since both hyperparameters tuning algorithms converge validation results.\n",
        "\n",
        "Our model is not overfitting with the data since from the graph results we can see that training accuracy and validation accuracy are realtively close and the losses have a decreasing flow. "
      ]
    }
  ]
}