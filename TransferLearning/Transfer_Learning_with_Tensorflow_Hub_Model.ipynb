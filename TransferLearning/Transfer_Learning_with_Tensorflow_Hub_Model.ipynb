{
 "cells": [
  {
   "cell_type": "markdown",
   "id": "6f3441e0",
   "metadata": {},
   "source": [
    "# **Transfer Learning with Pre-Trained Tensorflow Hub Model**\n",
    "\n",
    "In this Jupyter Notebook, we will run through the steps of building and training a model with Tensorflow [1], which will identify fake product reviews within our Amazon Database [2]. This model is developed to experiment and demonstrate the possibilities of Transfer Learning.\n",
    "\n",
    "[1] <b>Tensorflow</b>; \"An end-to-end open source machine learning platform.\", https://www.tensorflow.org/   \n",
    "[2] <b>Amazon Database</b>; https://www.kaggle.com/lievgarcia/amazon-reviews/"
   ]
  },
  {
   "attachments": {
    "TransferLearning.webp": {
     "image/webp": "[encoded data removed]"
    }
   },
   "cell_type": "markdown",
   "id": "d1302db4",
   "metadata": {},
   "source": [
    "<div>\n",
    "<img src=\"attachment:TransferLearning.webp\" width=\"750\"/>\n",
    "</div>"
   ]
  },
  {
   "cell_type": "markdown",
   "id": "b25e12aa",
   "metadata": {},
   "source": [
    "As defined by Tensorflow, Transfer Learning [1] is the process of adopting a model which was pre-trained on a large and general dataset and customizing it (retraining) according to the problem that we are trying to solve. This way, we can take advantage of the experience that the model already gained from the large dataset, which results in having to perform significantly less training of our own model while still gaining the functionality that we aimed to have.\n",
    "\n",
    "[1] <b>Transfer Learning</b>; https://www.tensorflow.org/tutorials/images/transfer_learning"
   ]
  },
  {
   "cell_type": "markdown",
   "id": "b6d6fbcc",
   "metadata": {},
   "source": [
    "# **Import the packages**"
   ]
  },
  {
   "cell_type": "code",
   "execution_count": 1,
   "id": "a25a36ff",
   "metadata": {},
   "outputs": [],
   "source": [
    "import os.path\n",
    "import wget\n",
    "import shutil\n",
    "\n",
    "import numpy as np\n",
    "import pandas as pd\n",
    "\n",
    "import tensorflow as tf\n",
    "\n",
    "import tensorflow.keras as keras\n",
    "import tensorflow_hub as hub\n",
    "\n",
    "from tensorflow.keras import Model\n",
    "from tensorflow.keras.layers import Dense\n",
    "\n",
    "from sklearn.model_selection import train_test_split\n",
    "\n",
    "import matplotlib.pyplot as plt"
   ]
  },
  {
   "cell_type": "markdown",
   "id": "3920ebd2",
   "metadata": {},
   "source": [
    "# **Data Analysis and pre-processing**\n",
    "\n",
    "*Assumption:* We use pandas to read the data. Our text file is 'tab' delimited. Hence we use *delimiter=\\t* in the read_csv() of pandas. Some rows of the data has missing columns. We want to remove these columns during preprocessing. Hence we have the argument *error_bad_lines=False* which will make sure some of the rows with missing values will not be read. "
   ]
  },
  {
   "cell_type": "code",
   "execution_count": 2,
   "id": "2c767cde",
   "metadata": {},
   "outputs": [],
   "source": [
    "if not os.path.isfile('amazon_reviews.txt'): # downloads db to train if it does not exist in the directory\n",
    "    url = 'https://drive.google.com/uc?id=1-LYI_s6oZ0OTe3I0vFYRYIBVhjFswReY&export=download' # db to train\n",
    "    print('Downloading DB to train')\n",
    "    wget.download(url)\n",
    "    print('Download Completed!\\nUnzipping...')\n",
    "    shutil.unpack_archive('amazon_reviews.zip')\n",
    "    print('Done!')\n",
    "\n",
    "train_df = pd.read_csv('amazon_reviews.txt', delimiter='\\t', error_bad_lines=False)"
   ]
  },
  {
   "cell_type": "markdown",
   "id": "33e7f546",
   "metadata": {},
   "source": [
    "**Analyse the data** <br/>\n",
    "We use the head() of the pandas package to see what our data looks like."
   ]
  },
  {
   "cell_type": "code",
   "execution_count": 3,
   "id": "88f37d8e",
   "metadata": {},
   "outputs": [
    {
     "data": {
      "text/html": [
       "<div>\n",
       "<style scoped>\n",
       "    .dataframe tbody tr th:only-of-type {\n",
       "        vertical-align: middle;\n",
       "    }\n",
       "\n",
       "    .dataframe tbody tr th {\n",
       "        vertical-align: top;\n",
       "    }\n",
       "\n",
       "    .dataframe thead th {\n",
       "        text-align: right;\n",
       "    }\n",
       "</style>\n",
       "<table border=\"1\" class=\"dataframe\">\n",
       "  <thead>\n",
       "    <tr style=\"text-align: right;\">\n",
       "      <th></th>\n",
       "      <th>DOC_ID</th>\n",
       "      <th>LABEL</th>\n",
       "      <th>RATING</th>\n",
       "      <th>VERIFIED_PURCHASE</th>\n",
       "      <th>PRODUCT_CATEGORY</th>\n",
       "      <th>PRODUCT_ID</th>\n",
       "      <th>PRODUCT_TITLE</th>\n",
       "      <th>REVIEW_TITLE</th>\n",
       "      <th>REVIEW_TEXT</th>\n",
       "    </tr>\n",
       "  </thead>\n",
       "  <tbody>\n",
       "    <tr>\n",
       "      <th>0</th>\n",
       "      <td>1</td>\n",
       "      <td>__label1__</td>\n",
       "      <td>4</td>\n",
       "      <td>N</td>\n",
       "      <td>PC</td>\n",
       "      <td>B00008NG7N</td>\n",
       "      <td>Targus PAUK10U Ultra Mini USB Keypad, Black</td>\n",
       "      <td>useful</td>\n",
       "      <td>When least you think so, this product will sav...</td>\n",
       "    </tr>\n",
       "    <tr>\n",
       "      <th>1</th>\n",
       "      <td>2</td>\n",
       "      <td>__label1__</td>\n",
       "      <td>4</td>\n",
       "      <td>Y</td>\n",
       "      <td>Wireless</td>\n",
       "      <td>B00LH0Y3NM</td>\n",
       "      <td>Note 3 Battery : Stalion Strength Replacement ...</td>\n",
       "      <td>New era for batteries</td>\n",
       "      <td>Lithium batteries are something new introduced...</td>\n",
       "    </tr>\n",
       "    <tr>\n",
       "      <th>2</th>\n",
       "      <td>3</td>\n",
       "      <td>__label1__</td>\n",
       "      <td>3</td>\n",
       "      <td>N</td>\n",
       "      <td>Baby</td>\n",
       "      <td>B000I5UZ1Q</td>\n",
       "      <td>Fisher-Price Papasan Cradle Swing, Starlight</td>\n",
       "      <td>doesn't swing very well.</td>\n",
       "      <td>I purchased this swing for my baby. She is 6 m...</td>\n",
       "    </tr>\n",
       "    <tr>\n",
       "      <th>3</th>\n",
       "      <td>4</td>\n",
       "      <td>__label1__</td>\n",
       "      <td>4</td>\n",
       "      <td>N</td>\n",
       "      <td>Office Products</td>\n",
       "      <td>B003822IRA</td>\n",
       "      <td>Casio MS-80B Standard Function Desktop Calculator</td>\n",
       "      <td>Great computing!</td>\n",
       "      <td>I was looking for an inexpensive desk calcolat...</td>\n",
       "    </tr>\n",
       "    <tr>\n",
       "      <th>4</th>\n",
       "      <td>5</td>\n",
       "      <td>__label1__</td>\n",
       "      <td>4</td>\n",
       "      <td>N</td>\n",
       "      <td>Beauty</td>\n",
       "      <td>B00PWSAXAM</td>\n",
       "      <td>Shine Whitening - Zero Peroxide Teeth Whitenin...</td>\n",
       "      <td>Only use twice a week</td>\n",
       "      <td>I only use it twice a week and the results are...</td>\n",
       "    </tr>\n",
       "  </tbody>\n",
       "</table>\n",
       "</div>"
      ],
      "text/plain": [
       "   DOC_ID       LABEL  RATING VERIFIED_PURCHASE PRODUCT_CATEGORY  PRODUCT_ID  \\\n",
       "0       1  __label1__       4                 N               PC  B00008NG7N   \n",
       "1       2  __label1__       4                 Y         Wireless  B00LH0Y3NM   \n",
       "2       3  __label1__       3                 N             Baby  B000I5UZ1Q   \n",
       "3       4  __label1__       4                 N  Office Products  B003822IRA   \n",
       "4       5  __label1__       4                 N           Beauty  B00PWSAXAM   \n",
       "\n",
       "                                       PRODUCT_TITLE  \\\n",
       "0        Targus PAUK10U Ultra Mini USB Keypad, Black   \n",
       "1  Note 3 Battery : Stalion Strength Replacement ...   \n",
       "2       Fisher-Price Papasan Cradle Swing, Starlight   \n",
       "3  Casio MS-80B Standard Function Desktop Calculator   \n",
       "4  Shine Whitening - Zero Peroxide Teeth Whitenin...   \n",
       "\n",
       "               REVIEW_TITLE                                        REVIEW_TEXT  \n",
       "0                    useful  When least you think so, this product will sav...  \n",
       "1     New era for batteries  Lithium batteries are something new introduced...  \n",
       "2  doesn't swing very well.  I purchased this swing for my baby. She is 6 m...  \n",
       "3          Great computing!  I was looking for an inexpensive desk calcolat...  \n",
       "4     Only use twice a week  I only use it twice a week and the results are...  "
      ]
     },
     "execution_count": 3,
     "metadata": {},
     "output_type": "execute_result"
    }
   ],
   "source": [
    "train_df.head()"
   ]
  },
  {
   "cell_type": "markdown",
   "id": "6c6e7487",
   "metadata": {},
   "source": [
    "We observe that the 'LABEL' column is Categorical. In order to use this dataset to work with Deep learning models, we need to convert these Categorical values to numerical values."
   ]
  },
  {
   "cell_type": "code",
   "execution_count": 4,
   "id": "d31df8b1",
   "metadata": {},
   "outputs": [],
   "source": [
    "# Converting categorical 'LABEL' values to numerical\n",
    "\n",
    "train_df['LABEL'] = pd.Categorical(train_df['LABEL'])\n",
    "train_df['LABEL'] = train_df['LABEL'].cat.codes"
   ]
  },
  {
   "cell_type": "markdown",
   "id": "f2246379",
   "metadata": {},
   "source": [
    "Dropping irrevelant feature columns such as 'DOC_ID', 'VERIFIED_PURCHASE', 'PRODUCT_CATEGORY', 'PRODUCT_ID', 'PRODUCT_TITLE', 'REVIEW_TITLE'"
   ]
  },
  {
   "cell_type": "code",
   "execution_count": 5,
   "id": "fea8b075",
   "metadata": {},
   "outputs": [],
   "source": [
    "features = [\"REVIEW_TEXT\", \"RATING\", \"LABEL\"]\n",
    "\n",
    "train_shortened_df = train_df[features]"
   ]
  },
  {
   "cell_type": "markdown",
   "id": "c781e570",
   "metadata": {},
   "source": [
    "**Analyse the data** <br/>\n",
    "We use the head() of the pandas package to see what our data looks like. From this data we can see that 'LABEL' is the column we are trying to predict. To predict this value we make use of different features from the data. \n",
    "The different features we are using are 'RATING', 'REVIEW_TEXT' and 'VERIFIED_PURCHASE'."
   ]
  },
  {
   "cell_type": "code",
   "execution_count": 6,
   "id": "8a253ac9",
   "metadata": {
    "scrolled": true
   },
   "outputs": [
    {
     "data": {
      "text/html": [
       "<div>\n",
       "<style scoped>\n",
       "    .dataframe tbody tr th:only-of-type {\n",
       "        vertical-align: middle;\n",
       "    }\n",
       "\n",
       "    .dataframe tbody tr th {\n",
       "        vertical-align: top;\n",
       "    }\n",
       "\n",
       "    .dataframe thead th {\n",
       "        text-align: right;\n",
       "    }\n",
       "</style>\n",
       "<table border=\"1\" class=\"dataframe\">\n",
       "  <thead>\n",
       "    <tr style=\"text-align: right;\">\n",
       "      <th></th>\n",
       "      <th>REVIEW_TEXT</th>\n",
       "      <th>RATING</th>\n",
       "      <th>LABEL</th>\n",
       "    </tr>\n",
       "  </thead>\n",
       "  <tbody>\n",
       "    <tr>\n",
       "      <th>0</th>\n",
       "      <td>When least you think so, this product will sav...</td>\n",
       "      <td>4</td>\n",
       "      <td>0</td>\n",
       "    </tr>\n",
       "    <tr>\n",
       "      <th>1</th>\n",
       "      <td>Lithium batteries are something new introduced...</td>\n",
       "      <td>4</td>\n",
       "      <td>0</td>\n",
       "    </tr>\n",
       "    <tr>\n",
       "      <th>2</th>\n",
       "      <td>I purchased this swing for my baby. She is 6 m...</td>\n",
       "      <td>3</td>\n",
       "      <td>0</td>\n",
       "    </tr>\n",
       "    <tr>\n",
       "      <th>3</th>\n",
       "      <td>I was looking for an inexpensive desk calcolat...</td>\n",
       "      <td>4</td>\n",
       "      <td>0</td>\n",
       "    </tr>\n",
       "    <tr>\n",
       "      <th>4</th>\n",
       "      <td>I only use it twice a week and the results are...</td>\n",
       "      <td>4</td>\n",
       "      <td>0</td>\n",
       "    </tr>\n",
       "  </tbody>\n",
       "</table>\n",
       "</div>"
      ],
      "text/plain": [
       "                                         REVIEW_TEXT  RATING  LABEL\n",
       "0  When least you think so, this product will sav...       4      0\n",
       "1  Lithium batteries are something new introduced...       4      0\n",
       "2  I purchased this swing for my baby. She is 6 m...       3      0\n",
       "3  I was looking for an inexpensive desk calcolat...       4      0\n",
       "4  I only use it twice a week and the results are...       4      0"
      ]
     },
     "execution_count": 6,
     "metadata": {},
     "output_type": "execute_result"
    }
   ],
   "source": [
    "train_shortened_df.head()"
   ]
  },
  {
   "cell_type": "markdown",
   "id": "52d77759",
   "metadata": {},
   "source": [
    "We are now introduced to a simpler dataset with the 'LABEL' Column converted from Categorical to Numerical values."
   ]
  },
  {
   "cell_type": "markdown",
   "id": "cea18208",
   "metadata": {},
   "source": [
    "To work with Deep learning models we need to convert REVIEW_TEXT and LABEL values to Numpy Arrays"
   ]
  },
  {
   "cell_type": "markdown",
   "id": "ad3acf1d",
   "metadata": {},
   "source": [
    "# Train, validation and test split with Shuffling\n",
    "\n",
    "We have the data to work with and we need to split it to training set, validation set and test set. We train our model on the training set, tune our hyperparameters on the validation set and finally use it on the test set. We split the data into 80% training set, 10% validation set and 10% test set.\n",
    "\n",
    "Shuffling the data such that training and validation dataset has both of the labels. This is crucial for an efficient training and is automatically done by the 'train_test_split' of Sklearn Library."
   ]
  },
  {
   "cell_type": "code",
   "execution_count": 7,
   "id": "48e61830",
   "metadata": {},
   "outputs": [],
   "source": [
    "x_train, x_testval, y_train, y_testval = train_test_split(train_shortened_df[['REVIEW_TEXT']], train_shortened_df[['LABEL']] , test_size = 0.20)\n",
    "x_test, x_val, y_test, y_val = train_test_split(x_testval[['REVIEW_TEXT']], y_testval[['LABEL']] , test_size = 0.50)"
   ]
  },
  {
   "cell_type": "markdown",
   "id": "fbb41fcc",
   "metadata": {},
   "source": [
    "# Build the model"
   ]
  },
  {
   "cell_type": "code",
   "execution_count": 8,
   "id": "b5e27eeb",
   "metadata": {},
   "outputs": [],
   "source": [
    "model = \"https://tfhub.dev/google/nnlm-en-dim50/2\" # pre-trained Tensoflow Hub Model\n",
    "\n",
    "# trainable=False means we have frozen the weights of the pre-trained model, no training will happen on these weights for now\n",
    "hub_layer = hub.KerasLayer(model, input_shape=[], dtype=tf.string, trainable=False) \n",
    "\n",
    "model_classifier = tf.keras.Sequential()\n",
    "model_classifier.add(hub_layer)  # Adding pre-trained Tensorflow Hub Model to our own model\n",
    "\n",
    "model_classifier.add(Dense(16, activation='relu'))\n",
    "\n",
    "# 1D outputting final layer with Sigmoid Activation Function to predict Fake Reviews (LABEL) in a Binary Fashion\n",
    "model_classifier.add(Dense(1, activation='sigmoid'))"
   ]
  },
  {
   "cell_type": "markdown",
   "id": "6e4f3979",
   "metadata": {},
   "source": [
    "The model is compiled using the ADAM optimizer and Binary Cross Entropy loss"
   ]
  },
  {
   "cell_type": "code",
   "execution_count": 9,
   "id": "ac54fb73",
   "metadata": {},
   "outputs": [],
   "source": [
    "model_classifier.compile(optimizer='adam',\n",
    "                    loss=tf.losses.BinaryCrossentropy(),\n",
    "                    metrics=[tf.metrics.BinaryAccuracy(threshold=0.5, name='acc')])"
   ]
  },
  {
   "cell_type": "code",
   "execution_count": 10,
   "id": "20a21c2a",
   "metadata": {
    "scrolled": true
   },
   "outputs": [
    {
     "name": "stdout",
     "output_type": "stream",
     "text": [
      "Model: \"sequential\"\n",
      "_________________________________________________________________\n",
      "Layer (type)                 Output Shape              Param #   \n",
      "=================================================================\n",
      "keras_layer (KerasLayer)     (None, 50)                48190600  \n",
      "_________________________________________________________________\n",
      "dense (Dense)                (None, 16)                816       \n",
      "_________________________________________________________________\n",
      "dense_1 (Dense)              (None, 1)                 17        \n",
      "=================================================================\n",
      "Total params: 48,191,433\n",
      "Trainable params: 833\n",
      "Non-trainable params: 48,190,600\n",
      "_________________________________________________________________\n"
     ]
    }
   ],
   "source": [
    "model_classifier.summary()"
   ]
  },
  {
   "cell_type": "markdown",
   "id": "6f741668",
   "metadata": {},
   "source": [
    "# Training the Model"
   ]
  },
  {
   "cell_type": "code",
   "execution_count": 11,
   "id": "99f27204",
   "metadata": {
    "scrolled": false
   },
   "outputs": [
    {
     "name": "stdout",
     "output_type": "stream",
     "text": [
      "Epoch 1/60\n",
      "525/525 [==============================] - 2s 3ms/step - loss: 0.6773 - acc: 0.5735 - val_loss: 0.6657 - val_acc: 0.5986\n",
      "Epoch 2/60\n",
      "525/525 [==============================] - 2s 3ms/step - loss: 0.6603 - acc: 0.5999 - val_loss: 0.6607 - val_acc: 0.5967\n",
      "Epoch 3/60\n",
      "525/525 [==============================] - 1s 3ms/step - loss: 0.6555 - acc: 0.6042 - val_loss: 0.6589 - val_acc: 0.5995\n",
      "Epoch 4/60\n",
      "525/525 [==============================] - 2s 3ms/step - loss: 0.6527 - acc: 0.6074 - val_loss: 0.6558 - val_acc: 0.6010\n",
      "Epoch 5/60\n",
      "525/525 [==============================] - 2s 3ms/step - loss: 0.6500 - acc: 0.6152 - val_loss: 0.6545 - val_acc: 0.6038\n",
      "Epoch 6/60\n",
      "525/525 [==============================] - 1s 3ms/step - loss: 0.6482 - acc: 0.6180 - val_loss: 0.6534 - val_acc: 0.6019\n",
      "Epoch 7/60\n",
      "525/525 [==============================] - 1s 3ms/step - loss: 0.6464 - acc: 0.6232 - val_loss: 0.6521 - val_acc: 0.6014\n",
      "Epoch 8/60\n",
      "525/525 [==============================] - 1s 3ms/step - loss: 0.6445 - acc: 0.6221 - val_loss: 0.6515 - val_acc: 0.6138\n",
      "Epoch 9/60\n",
      "525/525 [==============================] - 2s 3ms/step - loss: 0.6427 - acc: 0.6240 - val_loss: 0.6511 - val_acc: 0.6167\n",
      "Epoch 10/60\n",
      "525/525 [==============================] - 1s 3ms/step - loss: 0.6412 - acc: 0.6242 - val_loss: 0.6504 - val_acc: 0.6133\n",
      "Epoch 11/60\n",
      "525/525 [==============================] - 1s 3ms/step - loss: 0.6397 - acc: 0.6282 - val_loss: 0.6481 - val_acc: 0.6224\n",
      "Epoch 12/60\n",
      "525/525 [==============================] - 1s 3ms/step - loss: 0.6379 - acc: 0.6320 - val_loss: 0.6489 - val_acc: 0.6186\n",
      "Epoch 13/60\n",
      "525/525 [==============================] - 2s 3ms/step - loss: 0.6367 - acc: 0.6325 - val_loss: 0.6488 - val_acc: 0.6157\n",
      "Epoch 14/60\n",
      "525/525 [==============================] - 1s 3ms/step - loss: 0.6352 - acc: 0.6332 - val_loss: 0.6453 - val_acc: 0.6195\n",
      "Epoch 15/60\n",
      "525/525 [==============================] - 1s 3ms/step - loss: 0.6345 - acc: 0.6354 - val_loss: 0.6458 - val_acc: 0.6252\n",
      "Epoch 16/60\n",
      "525/525 [==============================] - 1s 3ms/step - loss: 0.6332 - acc: 0.6367 - val_loss: 0.6463 - val_acc: 0.6252\n",
      "Epoch 17/60\n",
      "525/525 [==============================] - 1s 3ms/step - loss: 0.6321 - acc: 0.6367 - val_loss: 0.6454 - val_acc: 0.6262\n",
      "Epoch 18/60\n",
      "525/525 [==============================] - 1s 3ms/step - loss: 0.6317 - acc: 0.6400 - val_loss: 0.6447 - val_acc: 0.6243\n",
      "Epoch 19/60\n",
      "525/525 [==============================] - 1s 3ms/step - loss: 0.6306 - acc: 0.6405 - val_loss: 0.6471 - val_acc: 0.6186\n",
      "Epoch 20/60\n",
      "525/525 [==============================] - 2s 3ms/step - loss: 0.6298 - acc: 0.6415 - val_loss: 0.6438 - val_acc: 0.6276\n",
      "Epoch 21/60\n",
      "525/525 [==============================] - 1s 3ms/step - loss: 0.6291 - acc: 0.6421 - val_loss: 0.6434 - val_acc: 0.6286\n",
      "Epoch 22/60\n",
      "525/525 [==============================] - 1s 3ms/step - loss: 0.6286 - acc: 0.6449 - val_loss: 0.6442 - val_acc: 0.6233\n",
      "Epoch 23/60\n",
      "525/525 [==============================] - 1s 3ms/step - loss: 0.6284 - acc: 0.6424 - val_loss: 0.6440 - val_acc: 0.6324\n",
      "Epoch 24/60\n",
      "525/525 [==============================] - 1s 3ms/step - loss: 0.6277 - acc: 0.6429 - val_loss: 0.6429 - val_acc: 0.6319\n",
      "Epoch 25/60\n",
      "525/525 [==============================] - 2s 3ms/step - loss: 0.6269 - acc: 0.6435 - val_loss: 0.6427 - val_acc: 0.6290\n",
      "Epoch 26/60\n",
      "525/525 [==============================] - 2s 3ms/step - loss: 0.6268 - acc: 0.6479 - val_loss: 0.6419 - val_acc: 0.6295\n",
      "Epoch 27/60\n",
      "525/525 [==============================] - 2s 3ms/step - loss: 0.6259 - acc: 0.6463 - val_loss: 0.6430 - val_acc: 0.6310\n",
      "Epoch 28/60\n",
      "525/525 [==============================] - 1s 3ms/step - loss: 0.6255 - acc: 0.6457 - val_loss: 0.6435 - val_acc: 0.6319\n",
      "Epoch 29/60\n",
      "525/525 [==============================] - 1s 3ms/step - loss: 0.6241 - acc: 0.6492 - val_loss: 0.6472 - val_acc: 0.6257\n",
      "Epoch 30/60\n",
      "525/525 [==============================] - 2s 3ms/step - loss: 0.6247 - acc: 0.6482 - val_loss: 0.6417 - val_acc: 0.6338\n",
      "Epoch 31/60\n",
      "525/525 [==============================] - 1s 3ms/step - loss: 0.6239 - acc: 0.6484 - val_loss: 0.6422 - val_acc: 0.6310\n",
      "Epoch 32/60\n",
      "525/525 [==============================] - 2s 3ms/step - loss: 0.6237 - acc: 0.6484 - val_loss: 0.6422 - val_acc: 0.6310\n",
      "Epoch 33/60\n",
      "525/525 [==============================] - 1s 3ms/step - loss: 0.6231 - acc: 0.6495 - val_loss: 0.6425 - val_acc: 0.6314\n",
      "Epoch 34/60\n",
      "525/525 [==============================] - 1s 3ms/step - loss: 0.6231 - acc: 0.6482 - val_loss: 0.6414 - val_acc: 0.6267\n",
      "Epoch 35/60\n",
      "525/525 [==============================] - 1s 3ms/step - loss: 0.6228 - acc: 0.6509 - val_loss: 0.6424 - val_acc: 0.6267\n",
      "Epoch 36/60\n",
      "525/525 [==============================] - 1s 3ms/step - loss: 0.6217 - acc: 0.6524 - val_loss: 0.6421 - val_acc: 0.6310\n",
      "Epoch 37/60\n",
      "525/525 [==============================] - 1s 3ms/step - loss: 0.6219 - acc: 0.6524 - val_loss: 0.6425 - val_acc: 0.6314\n",
      "Epoch 38/60\n",
      "525/525 [==============================] - 1s 3ms/step - loss: 0.6211 - acc: 0.6486 - val_loss: 0.6404 - val_acc: 0.6252\n",
      "Epoch 39/60\n",
      "525/525 [==============================] - 1s 3ms/step - loss: 0.6207 - acc: 0.6504 - val_loss: 0.6436 - val_acc: 0.6286\n",
      "Epoch 40/60\n",
      "525/525 [==============================] - 1s 3ms/step - loss: 0.6206 - acc: 0.6535 - val_loss: 0.6411 - val_acc: 0.6286\n",
      "Epoch 41/60\n",
      "525/525 [==============================] - 2s 3ms/step - loss: 0.6205 - acc: 0.6529 - val_loss: 0.6402 - val_acc: 0.6348\n",
      "Epoch 42/60\n",
      "525/525 [==============================] - 1s 3ms/step - loss: 0.6198 - acc: 0.6539 - val_loss: 0.6526 - val_acc: 0.6229\n",
      "Epoch 43/60\n",
      "525/525 [==============================] - 1s 3ms/step - loss: 0.6199 - acc: 0.6527 - val_loss: 0.6407 - val_acc: 0.6333\n",
      "Epoch 44/60\n",
      "525/525 [==============================] - 2s 3ms/step - loss: 0.6197 - acc: 0.6529 - val_loss: 0.6403 - val_acc: 0.6271\n",
      "Epoch 45/60\n",
      "525/525 [==============================] - 1s 3ms/step - loss: 0.6188 - acc: 0.6545 - val_loss: 0.6418 - val_acc: 0.6319\n",
      "Epoch 46/60\n",
      "525/525 [==============================] - 1s 3ms/step - loss: 0.6188 - acc: 0.6540 - val_loss: 0.6438 - val_acc: 0.6310\n",
      "Epoch 47/60\n",
      "525/525 [==============================] - 1s 3ms/step - loss: 0.6185 - acc: 0.6524 - val_loss: 0.6430 - val_acc: 0.6281\n",
      "Epoch 48/60\n",
      "525/525 [==============================] - 1s 3ms/step - loss: 0.6189 - acc: 0.6527 - val_loss: 0.6463 - val_acc: 0.6295\n",
      "Epoch 49/60\n",
      "525/525 [==============================] - 1s 3ms/step - loss: 0.6176 - acc: 0.6573 - val_loss: 0.6442 - val_acc: 0.6257\n",
      "Epoch 50/60\n",
      "525/525 [==============================] - 1s 3ms/step - loss: 0.6179 - acc: 0.6554 - val_loss: 0.6417 - val_acc: 0.6262\n",
      "Epoch 51/60\n",
      "525/525 [==============================] - 1s 3ms/step - loss: 0.6177 - acc: 0.6530 - val_loss: 0.6418 - val_acc: 0.6290\n",
      "Epoch 52/60\n",
      "525/525 [==============================] - 2s 3ms/step - loss: 0.6171 - acc: 0.6577 - val_loss: 0.6416 - val_acc: 0.6271\n",
      "Epoch 53/60\n",
      "525/525 [==============================] - 1s 3ms/step - loss: 0.6164 - acc: 0.6558 - val_loss: 0.6481 - val_acc: 0.6271\n",
      "Epoch 54/60\n",
      "525/525 [==============================] - 1s 3ms/step - loss: 0.6172 - acc: 0.6549 - val_loss: 0.6434 - val_acc: 0.6300\n",
      "Epoch 55/60\n",
      "525/525 [==============================] - 1s 3ms/step - loss: 0.6162 - acc: 0.6569 - val_loss: 0.6430 - val_acc: 0.6276\n",
      "Epoch 56/60\n",
      "525/525 [==============================] - 1s 3ms/step - loss: 0.6159 - acc: 0.6581 - val_loss: 0.6458 - val_acc: 0.6276\n",
      "Epoch 57/60\n",
      "525/525 [==============================] - 1s 3ms/step - loss: 0.6159 - acc: 0.6577 - val_loss: 0.6434 - val_acc: 0.6310\n",
      "Epoch 58/60\n",
      "525/525 [==============================] - 1s 3ms/step - loss: 0.6157 - acc: 0.6600 - val_loss: 0.6420 - val_acc: 0.6290\n",
      "Epoch 59/60\n",
      "525/525 [==============================] - 1s 3ms/step - loss: 0.6151 - acc: 0.6599 - val_loss: 0.6442 - val_acc: 0.6324\n",
      "Epoch 60/60\n",
      "525/525 [==============================] - 1s 3ms/step - loss: 0.6151 - acc: 0.6593 - val_loss: 0.6432 - val_acc: 0.6310\n"
     ]
    }
   ],
   "source": [
    "history_frozen_weights = model_classifier.fit(x_train,\n",
    "                            y_train,\n",
    "                            epochs=60,\n",
    "                            batch_size=32,\n",
    "                            validation_data=(x_val, y_val),\n",
    "                            verbose=1)\n",
    "\n",
    "model_classifier.save(\"fakeReviewDetector_frozen_weights.hdf5\")"
   ]
  },
  {
   "cell_type": "markdown",
   "id": "536dc647",
   "metadata": {},
   "source": [
    "Final evaluation of the performance of the Model on the <b>unseen</b> test dataset."
   ]
  },
  {
   "cell_type": "code",
   "execution_count": 12,
   "id": "3dc10ccc",
   "metadata": {},
   "outputs": [
    {
     "name": "stdout",
     "output_type": "stream",
     "text": [
      "66/66 [==============================] - 0s 4ms/step - loss: 0.6343 - acc: 0.6290\n",
      "Evaluation on all data has accuracy of: 0.6290476322174072 \n"
     ]
    }
   ],
   "source": [
    "results = model_classifier.evaluate(x_test[['REVIEW_TEXT']],  y_test[\"LABEL\"])\n",
    "\n",
    "print(f'Evaluation on all data has accuracy of: {results[1]} ')"
   ]
  },
  {
   "cell_type": "markdown",
   "id": "db5e6146",
   "metadata": {},
   "source": [
    "# Visualizing the results"
   ]
  },
  {
   "cell_type": "code",
   "execution_count": 13,
   "id": "921f3a0a",
   "metadata": {
    "scrolled": false
   },
   "outputs": [
    {
     "data": {
      "image/png": "[encoded data removed]",
      "text/plain": [
       "<Figure size 432x288 with 1 Axes>"
      ]
     },
     "metadata": {
      "needs_background": "light"
     },
     "output_type": "display_data"
    },
    {
     "data": {
      "image/png": "[encoded data removed]",
      "text/plain": [
       "<Figure size 432x288 with 1 Axes>"
      ]
     },
     "metadata": {
      "needs_background": "light"
     },
     "output_type": "display_data"
    }
   ],
   "source": [
    "plt.plot(history_frozen_weights.history['acc'])\n",
    "plt.plot(history_frozen_weights.history['val_acc'])\n",
    "plt.title('Model accuracy')\n",
    "plt.ylabel('Accuracy')\n",
    "plt.xlabel('Epoch')\n",
    "plt.legend(['Train', 'Test'], loc='upper left')\n",
    "plt.show()\n",
    "\n",
    "plt.plot(history_frozen_weights.history['loss'])\n",
    "plt.plot(history_frozen_weights.history['val_loss'])\n",
    "plt.title('Model loss')\n",
    "plt.ylabel('Loss')\n",
    "plt.xlabel('Epoch')\n",
    "plt.legend(['Train', 'Test'], loc='upper right')\n",
    "plt.show()"
   ]
  },
  {
   "cell_type": "markdown",
   "id": "0b80f5dc",
   "metadata": {},
   "source": [
    "# Evaluating the Training Result\n",
    "\n",
    "* From the Training Logs and the two graphs above, it can be clearly seen that after some epochs the accuracy and the loss values of the training and test set differentiate from each other. Even though the loss and accuracy metrics of the training set continue to improve, the training metrics of the validation set are not improving. This is a serious problem because we want this metrics to improve during training, so that we can come up to a successful model. The problem we are facing in such situation is called \"<b>Overfitting</b>\".\n",
    "\n",
    "* Another issue with the metrics above is that even after performing training for 60 epochs, the loss metric of the training dataset actually does not converge near 0.01 as well as its accuracy not converging near 0.99. This issue is related with the <b>capacity (number of trainable weights)</b> of our model. If we once again observe the summary of our model created with the command <i>model_classifier.summary()</i> above, it is seen that the number of trainable parameters of our model is 833, which seems to be not enough to handle our dataset."
   ]
  },
  {
   "cell_type": "markdown",
   "id": "ceb70625",
   "metadata": {},
   "source": [
    "<hr>"
   ]
  },
  {
   "cell_type": "markdown",
   "id": "ea28601a",
   "metadata": {},
   "source": [
    "# Overfitting\n",
    "\n",
    "Coming up to a simple definition for <b>Overfitting</b>, it is the behaviour of a model under training that memorizes the training dataset introduced to it, as was mentioned at the <i>Applied Deep Learning for NLP Seminar</i> at the Technical University of Munich. The main characteristic behavior one can use to detect this problem is when the training loss is continuously decreasing but the validation accuracy has no improvements and if not prevented will start to even increase in the upcoming epochs.\n",
    "\n",
    "This is the problem we are exactly having during the training of the model and this can be clearly seen from the graphs above, where the loss of the training data decreases but in contrast to it the loss of the validation data increases."
   ]
  },
  {
   "cell_type": "markdown",
   "id": "687d1256",
   "metadata": {},
   "source": [
    "# Solution 1 - Preventing Overfitting\n",
    "\n",
    "In order to prevent the problem of overfitting and coming up to a better model, we will now apply an approach called the \"<b>Early Stopping</b>\". Tensorflow already implements this feature and allows us to use it via the help of callbacks that are provided to the fit function, which is used to start the traing of the model.\n",
    "\n",
    "While defining our callbacks array, we have asked Tensorflow to monitor the validation accuracy for the process and to restore to the best combination of weights that were ever reached during training. When Tensorflow monitors the validation loss as a metric for Early Stopping, it will terminate the training process after a pre-defined number of epocs where the validation accuracy was not able to be improved. This pre-defined number is included in the process through the \"<b>patience</b>\" parameter."
   ]
  },
  {
   "cell_type": "code",
   "execution_count": 14,
   "id": "53204bc6",
   "metadata": {
    "scrolled": true
   },
   "outputs": [
    {
     "name": "stdout",
     "output_type": "stream",
     "text": [
      "Epoch 1/60\n",
      "525/525 [==============================] - 2s 4ms/step - loss: 0.6807 - acc: 0.5612 - val_loss: 0.6677 - val_acc: 0.5848\n",
      "Epoch 2/60\n",
      "525/525 [==============================] - 2s 3ms/step - loss: 0.6628 - acc: 0.5989 - val_loss: 0.6591 - val_acc: 0.5957\n",
      "Epoch 3/60\n",
      "525/525 [==============================] - 2s 3ms/step - loss: 0.6573 - acc: 0.6043 - val_loss: 0.6568 - val_acc: 0.5910\n",
      "Epoch 4/60\n",
      "525/525 [==============================] - 1s 3ms/step - loss: 0.6546 - acc: 0.6088 - val_loss: 0.6550 - val_acc: 0.6010\n",
      "Epoch 5/60\n",
      "525/525 [==============================] - 1s 3ms/step - loss: 0.6522 - acc: 0.6139 - val_loss: 0.6542 - val_acc: 0.6014\n",
      "Epoch 6/60\n",
      "522/525 [============================>.] - ETA: 0s - loss: 0.6503 - acc: 0.6192Restoring model weights from the end of the best epoch.\n",
      "525/525 [==============================] - 2s 3ms/step - loss: 0.6502 - acc: 0.6194 - val_loss: 0.6528 - val_acc: 0.6014\n",
      "Epoch 00006: early stopping\n"
     ]
    }
   ],
   "source": [
    "# The same model is re-defined to prevent the training from continuing on top of the process previously achieved \n",
    "\n",
    "model = \"https://tfhub.dev/google/nnlm-en-dim50/2\"\n",
    "hub_layer = hub.KerasLayer(model, input_shape=[], dtype=tf.string, trainable=False)\n",
    "\n",
    "model_classifier_weights_frozen_earlyStopping = tf.keras.Sequential()\n",
    "model_classifier_weights_frozen_earlyStopping.add(hub_layer)  # Transfer Learning for pre-trained word embeddings\n",
    "model_classifier_weights_frozen_earlyStopping.add(Dense(16, activation='relu'))\n",
    "model_classifier_weights_frozen_earlyStopping.add(Dense(1, activation='sigmoid'))\n",
    "\n",
    "model_classifier_weights_frozen_earlyStopping.compile(optimizer='adam',\n",
    "                    loss=tf.losses.BinaryCrossentropy(),\n",
    "                    metrics=[tf.metrics.BinaryAccuracy(threshold=0.5, name='acc')])\n",
    "\n",
    "\n",
    "callbacks = [\n",
    "            keras.callbacks.EarlyStopping(monitor=\"val_acc\", patience=5,\n",
    "                                        verbose=1, mode=\"min\", restore_best_weights=True)\n",
    "]\n",
    "    \n",
    "history_frozen_weights_early_stopping = model_classifier_weights_frozen_earlyStopping.fit(x_train,\n",
    "                            y_train,\n",
    "                            epochs=60,\n",
    "                            batch_size=32,\n",
    "                            validation_data=(x_val, y_val),\n",
    "                            verbose=1,\n",
    "                            callbacks=callbacks)\n",
    "\n",
    "model_classifier_weights_frozen_earlyStopping.save(\"fakeReviewDetector_frozen_weights_earlyStopping.hdf5\")"
   ]
  },
  {
   "cell_type": "markdown",
   "id": "3963c41a",
   "metadata": {},
   "source": [
    "Final evaluation of the performance of the Model on the unseen test dataset."
   ]
  },
  {
   "cell_type": "code",
   "execution_count": 15,
   "id": "66ab8894",
   "metadata": {},
   "outputs": [
    {
     "name": "stdout",
     "output_type": "stream",
     "text": [
      "66/66 [==============================] - 0s 3ms/step - loss: 0.6695 - acc: 0.5886\n",
      "Evaluation on all data has accuracy of: 0.5885714292526245 \n"
     ]
    }
   ],
   "source": [
    "results = model_classifier_weights_frozen_earlyStopping.evaluate(x_test[['REVIEW_TEXT']],  y_test[\"LABEL\"])\n",
    "\n",
    "print(f'Evaluation on all data has accuracy of: {results[1]} ')"
   ]
  },
  {
   "cell_type": "markdown",
   "id": "490a2dd8",
   "metadata": {},
   "source": [
    "# Visualizing the results"
   ]
  },
  {
   "cell_type": "code",
   "execution_count": 16,
   "id": "353fccc8",
   "metadata": {},
   "outputs": [
    {
     "data": {
      "image/png": "[encoded data removed]",
      "text/plain": [
       "<Figure size 432x288 with 1 Axes>"
      ]
     },
     "metadata": {
      "needs_background": "light"
     },
     "output_type": "display_data"
    },
    {
     "data": {
      "image/png": "[encoded data removed]",
      "text/plain": [
       "<Figure size 432x288 with 1 Axes>"
      ]
     },
     "metadata": {
      "needs_background": "light"
     },
     "output_type": "display_data"
    }
   ],
   "source": [
    "plt.plot(history_frozen_weights_early_stopping.history['acc'])\n",
    "plt.plot(history_frozen_weights_early_stopping.history['val_acc'])\n",
    "plt.title('Model accuracy')\n",
    "plt.ylabel('Accuracy')\n",
    "plt.xlabel('Epoch')\n",
    "plt.legend(['Train', 'Test'], loc='upper left')\n",
    "plt.show()\n",
    "\n",
    "plt.plot(history_frozen_weights_early_stopping.history['loss'])\n",
    "plt.plot(history_frozen_weights_early_stopping.history['val_loss'])\n",
    "plt.title('Model loss')\n",
    "plt.ylabel('Loss')\n",
    "plt.xlabel('Epoch')\n",
    "plt.legend(['Train', 'Test'], loc='upper right')\n",
    "plt.show()"
   ]
  },
  {
   "cell_type": "markdown",
   "id": "da7b7bf5",
   "metadata": {},
   "source": [
    "# Evaluating the Training Result\n",
    "\n",
    "The model is still not fully trained since the training loss hasn't converged near 0.01. This is due to the model's capacity being not enough as was previously mentioned."
   ]
  },
  {
   "cell_type": "markdown",
   "id": "5c1ec798",
   "metadata": {},
   "source": [
    "<hr>"
   ]
  },
  {
   "cell_type": "markdown",
   "id": "90076502",
   "metadata": {},
   "source": [
    "# Solution 2 - Using Fine Tuning to Increase the Capacity of the Model"
   ]
  },
  {
   "cell_type": "code",
   "execution_count": 17,
   "id": "c10c6ca2",
   "metadata": {},
   "outputs": [
    {
     "name": "stdout",
     "output_type": "stream",
     "text": [
      "WARNING:tensorflow:5 out of the last 5 calls to <function recreate_function.<locals>.restored_function_body at 0x000001E122E05B80> triggered tf.function retracing. Tracing is expensive and the excessive number of tracings could be due to (1) creating @tf.function repeatedly in a loop, (2) passing tensors with different shapes, (3) passing Python objects instead of tensors. For (1), please define your @tf.function outside of the loop. For (2), @tf.function has experimental_relax_shapes=True option that relaxes argument shapes that can avoid unnecessary retracing. For (3), please refer to https://www.tensorflow.org/tutorials/customization/performance#python_or_tensor_args and https://www.tensorflow.org/api_docs/python/tf/function for  more details.\n"
     ]
    },
    {
     "name": "stderr",
     "output_type": "stream",
     "text": [
      "WARNING:tensorflow:5 out of the last 5 calls to <function recreate_function.<locals>.restored_function_body at 0x000001E122E05B80> triggered tf.function retracing. Tracing is expensive and the excessive number of tracings could be due to (1) creating @tf.function repeatedly in a loop, (2) passing tensors with different shapes, (3) passing Python objects instead of tensors. For (1), please define your @tf.function outside of the loop. For (2), @tf.function has experimental_relax_shapes=True option that relaxes argument shapes that can avoid unnecessary retracing. For (3), please refer to https://www.tensorflow.org/tutorials/customization/performance#python_or_tensor_args and https://www.tensorflow.org/api_docs/python/tf/function for  more details.\n"
     ]
    },
    {
     "name": "stdout",
     "output_type": "stream",
     "text": [
      "WARNING:tensorflow:6 out of the last 6 calls to <function recreate_function.<locals>.restored_function_body at 0x000001E122E055E0> triggered tf.function retracing. Tracing is expensive and the excessive number of tracings could be due to (1) creating @tf.function repeatedly in a loop, (2) passing tensors with different shapes, (3) passing Python objects instead of tensors. For (1), please define your @tf.function outside of the loop. For (2), @tf.function has experimental_relax_shapes=True option that relaxes argument shapes that can avoid unnecessary retracing. For (3), please refer to https://www.tensorflow.org/tutorials/customization/performance#python_or_tensor_args and https://www.tensorflow.org/api_docs/python/tf/function for  more details.\n"
     ]
    },
    {
     "name": "stderr",
     "output_type": "stream",
     "text": [
      "WARNING:tensorflow:6 out of the last 6 calls to <function recreate_function.<locals>.restored_function_body at 0x000001E122E055E0> triggered tf.function retracing. Tracing is expensive and the excessive number of tracings could be due to (1) creating @tf.function repeatedly in a loop, (2) passing tensors with different shapes, (3) passing Python objects instead of tensors. For (1), please define your @tf.function outside of the loop. For (2), @tf.function has experimental_relax_shapes=True option that relaxes argument shapes that can avoid unnecessary retracing. For (3), please refer to https://www.tensorflow.org/tutorials/customization/performance#python_or_tensor_args and https://www.tensorflow.org/api_docs/python/tf/function for  more details.\n"
     ]
    }
   ],
   "source": [
    "model = \"https://tfhub.dev/google/nnlm-en-dim50/2\"\n",
    "hub_layer = hub.KerasLayer(model, input_shape=[], dtype=tf.string, trainable=True)\n",
    "\n",
    "\n",
    "model_classifier_weights_unfrozen = tf.keras.Sequential()\n",
    "model_classifier_weights_unfrozen.add(hub_layer)  # Transfer Learning for pre-trained word embeddings\n",
    "\n",
    "model_classifier_weights_unfrozen.add(Dense(16, activation='relu'))\n",
    "model_classifier_weights_unfrozen.add(Dense(1, activation='sigmoid'))"
   ]
  },
  {
   "cell_type": "code",
   "execution_count": 18,
   "id": "5baf1b11",
   "metadata": {},
   "outputs": [],
   "source": [
    "model_classifier_weights_unfrozen.compile(optimizer='adam',\n",
    "                    loss=tf.losses.BinaryCrossentropy(),\n",
    "                    metrics=[tf.metrics.BinaryAccuracy(threshold=0.5, name='acc')])"
   ]
  },
  {
   "cell_type": "code",
   "execution_count": 19,
   "id": "77401875",
   "metadata": {
    "scrolled": true
   },
   "outputs": [
    {
     "name": "stdout",
     "output_type": "stream",
     "text": [
      "Model: \"sequential_2\"\n",
      "_________________________________________________________________\n",
      "Layer (type)                 Output Shape              Param #   \n",
      "=================================================================\n",
      "keras_layer_2 (KerasLayer)   (None, 50)                48190600  \n",
      "_________________________________________________________________\n",
      "dense_4 (Dense)              (None, 16)                816       \n",
      "_________________________________________________________________\n",
      "dense_5 (Dense)              (None, 1)                 17        \n",
      "=================================================================\n",
      "Total params: 48,191,433\n",
      "Trainable params: 48,191,433\n",
      "Non-trainable params: 0\n",
      "_________________________________________________________________\n"
     ]
    }
   ],
   "source": [
    "model_classifier_weights_unfrozen.summary()"
   ]
  },
  {
   "cell_type": "code",
   "execution_count": 20,
   "id": "cc1048d8",
   "metadata": {
    "scrolled": true
   },
   "outputs": [
    {
     "name": "stdout",
     "output_type": "stream",
     "text": [
      "Epoch 1/60\n",
      "66/66 [==============================] - 5s 73ms/step - loss: 0.6787 - acc: 0.5660 - val_loss: 0.6528 - val_acc: 0.6138\n",
      "Epoch 2/60\n",
      "66/66 [==============================] - 5s 71ms/step - loss: 0.6181 - acc: 0.6609 - val_loss: 0.6177 - val_acc: 0.6610\n",
      "Epoch 3/60\n",
      "66/66 [==============================] - 5s 71ms/step - loss: 0.5538 - acc: 0.7218 - val_loss: 0.6023 - val_acc: 0.6667\n",
      "Epoch 4/60\n",
      "66/66 [==============================] - 4s 68ms/step - loss: 0.4833 - acc: 0.7812 - val_loss: 0.6084 - val_acc: 0.6662\n",
      "Epoch 5/60\n",
      "66/66 [==============================] - 4s 67ms/step - loss: 0.4083 - acc: 0.8271 - val_loss: 0.6370 - val_acc: 0.6557\n",
      "Epoch 6/60\n",
      "66/66 [==============================] - ETA: 0s - loss: 0.3372 - acc: 0.8662Restoring model weights from the end of the best epoch.\n",
      "66/66 [==============================] - 5s 68ms/step - loss: 0.3372 - acc: 0.8662 - val_loss: 0.6889 - val_acc: 0.6357\n",
      "Epoch 00006: early stopping\n"
     ]
    }
   ],
   "source": [
    "callbacks = [\n",
    "            keras.callbacks.EarlyStopping(monitor=\"val_loss\", patience=3,\n",
    "                                        verbose=1, mode=\"min\", restore_best_weights=True)\n",
    "]\n",
    "\n",
    "history_unfrozen_weights = model_classifier_weights_unfrozen.fit(x_train,\n",
    "                            y_train,\n",
    "                            epochs=60,\n",
    "                            batch_size=256,\n",
    "                            validation_data=(x_val, y_val),\n",
    "                            verbose=1,\n",
    "                            callbacks=callbacks)\n",
    "\n",
    "model_classifier_weights_unfrozen.save(\"fakeReviewDetector_unfrozen_weights.hdf5\")"
   ]
  },
  {
   "cell_type": "markdown",
   "id": "448b4e3f",
   "metadata": {},
   "source": [
    "Final evaluation of the performance of the Model on the unseen test dataset."
   ]
  },
  {
   "cell_type": "code",
   "execution_count": 21,
   "id": "dd61cd1b",
   "metadata": {},
   "outputs": [
    {
     "name": "stdout",
     "output_type": "stream",
     "text": [
      "66/66 [==============================] - 0s 4ms/step - loss: 0.6183 - acc: 0.6643\n",
      "Evaluation on all data has accuracy of: 0.6642857193946838 \n"
     ]
    }
   ],
   "source": [
    "results_unfrozen = model_classifier_weights_unfrozen.evaluate(x_test[['REVIEW_TEXT']],  y_test[\"LABEL\"])\n",
    "\n",
    "print(f'Evaluation on all data has accuracy of: {results_unfrozen[1]} ')"
   ]
  },
  {
   "cell_type": "markdown",
   "id": "a6fc7725",
   "metadata": {},
   "source": [
    "# Visualizing the results"
   ]
  },
  {
   "cell_type": "code",
   "execution_count": 22,
   "id": "ac58fbae",
   "metadata": {},
   "outputs": [
    {
     "data": {
      "image/png": "[encoded data removed]",
      "text/plain": [
       "<Figure size 432x288 with 1 Axes>"
      ]
     },
     "metadata": {
      "needs_background": "light"
     },
     "output_type": "display_data"
    },
    {
     "data": {
      "image/png": "[encoded data removed]",
      "text/plain": [
       "<Figure size 432x288 with 1 Axes>"
      ]
     },
     "metadata": {
      "needs_background": "light"
     },
     "output_type": "display_data"
    }
   ],
   "source": [
    "plt.plot(history_unfrozen_weights.history['acc'])\n",
    "plt.plot(history_unfrozen_weights.history['val_acc'])\n",
    "plt.title('Model accuracy')\n",
    "plt.ylabel('Accuracy')\n",
    "plt.xlabel('Epoch')\n",
    "plt.legend(['Train', 'Test'], loc='upper left')\n",
    "plt.show()\n",
    "\n",
    "plt.plot(history_unfrozen_weights.history['loss'])\n",
    "plt.plot(history_unfrozen_weights.history['val_loss'])\n",
    "plt.title('Model loss')\n",
    "plt.ylabel('Loss')\n",
    "plt.xlabel('Epoch')\n",
    "plt.legend(['Train', 'Test'], loc='upper right')\n",
    "plt.show()"
   ]
  },
  {
   "cell_type": "markdown",
   "id": "2a5208a2",
   "metadata": {},
   "source": [
    "# Evaluating the Training Result\n",
    "\n",
    "We will once again observe the number of our trainable parameters like we have previously done so. When the command <i>model_classifier.summary()</i> is executed above, it is seen that our current model now has a total of 48,191,433 <b>Trainable Parameters</b>. As an expected behaviour, our training loss has converged near 0.01, meaning that it has been trained to the maximum extend. However once again we have the problem that validation loss hasn't decreased.\n",
    "\n",
    "Even though we used <b>Early Stopping</b> like we have previously done so, it couldn't prevent overfitting. The reason for this is that this time our model has about 60 times more trainable parameters than it used to have, meaning that the model's capacity overcomes the size of our database. In order to prevent this, one can do the following;\n",
    "\n",
    "* Reduce the capacity of the model by using methods such as <b>Dropout</b>.\n",
    "* Switching to a similar but larger dataset."
   ]
  },
  {
   "cell_type": "markdown",
   "id": "0238c4b4",
   "metadata": {},
   "source": [
    "<hr>"
   ]
  },
  {
   "cell_type": "markdown",
   "id": "2d5d0a26",
   "metadata": {},
   "source": [
    "# Solution 3 - Reducing the Capacity of the Model\n",
    "\n",
    "Since in our latest model we have imported a pre-trained Tensorflow Hub model to perform Transfer Learning and almost all of our trainable parameters come directly from the imported model, we are unable to perform capacity reduction on the model. One thing that could have been done was to adopt a simpler pre-trained model from Tensorflow Hub. However as can be seen from the link [1], the model that we have choosen was already the lightest one.\n",
    "\n",
    "[1] https://tfhub.dev/s?fine-tunable=yes&module-type=text-embedding&q=Token%20based%20text%20embedding%20trained"
   ]
  },
  {
   "cell_type": "markdown",
   "id": "92aa2eac",
   "metadata": {},
   "source": [
    "<hr>"
   ]
  },
  {
   "cell_type": "markdown",
   "id": "677a9ccb",
   "metadata": {},
   "source": [
    "# Solution 4 - Switching to a similar but larger Dataset\n",
    "\n",
    "This solution was not possible in the scope of the Applied Deep Learning for NLP Seminar since we already had proposed a project to the Proffessor and had to work on the initial dataset that we had choosen."
   ]
  },
  {
   "cell_type": "markdown",
   "id": "950209bf",
   "metadata": {},
   "source": [
    "<hr>"
   ]
  },
  {
   "cell_type": "markdown",
   "id": "625c9d50",
   "metadata": {},
   "source": [
    "# Solution 5 - Using more features from our Dataset for Training"
   ]
  },
  {
   "cell_type": "code",
   "execution_count": null,
   "id": "4d4676db",
   "metadata": {},
   "outputs": [],
   "source": []
  }
 ],
 "metadata": {
  "kernelspec": {
   "display_name": "Python 3",
   "language": "python",
   "name": "python3"
  },
  "language_info": {
   "codemirror_mode": {
    "name": "ipython",
    "version": 3
   },
   "file_extension": ".py",
   "mimetype": "text/x-python",
   "name": "python",
   "nbconvert_exporter": "python",
   "pygments_lexer": "ipython3",
   "version": "3.8.8"
  }
 },
 "nbformat": 4,
 "nbformat_minor": 5
}
